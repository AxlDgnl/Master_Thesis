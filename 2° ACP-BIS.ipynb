{
 "cells": [
  {
   "cell_type": "code",
   "execution_count": 1,
   "metadata": {},
   "outputs": [
    {
     "name": "stdout",
     "output_type": "stream",
     "text": [
      "package 'tibble' successfully unpacked and MD5 sums checked\n",
      "\n",
      "The downloaded binary packages are in\n",
      "\tC:\\Users\\daxel\\AppData\\Local\\Temp\\Rtmp6rNojd\\downloaded_packages\n"
     ]
    },
    {
     "name": "stderr",
     "output_type": "stream",
     "text": [
      "Warning message:\n",
      "\"package 'tibble' was built under R version 3.6.3\""
     ]
    },
    {
     "name": "stdout",
     "output_type": "stream",
     "text": [
      "package 'FactoMineR' successfully unpacked and MD5 sums checked\n",
      "package 'factoextra' successfully unpacked and MD5 sums checked\n",
      "\n",
      "The downloaded binary packages are in\n",
      "\tC:\\Users\\daxel\\AppData\\Local\\Temp\\Rtmp6rNojd\\downloaded_packages\n"
     ]
    },
    {
     "name": "stderr",
     "output_type": "stream",
     "text": [
      "Warning message:\n",
      "\"package 'FactoMineR' was built under R version 3.6.3\"Warning message:\n",
      "\"package 'factoextra' was built under R version 3.6.3\"Loading required package: ggplot2\n",
      "Warning message:\n",
      "\"package 'ggplot2' was built under R version 3.6.3\"Welcome! Want to learn more? See two factoextra-related books at https://goo.gl/ve3WBa\n",
      "Warning message:\n",
      "\"package 'dplyr' was built under R version 3.6.3\"\n",
      "Attaching package: 'dplyr'\n",
      "\n",
      "The following objects are masked from 'package:stats':\n",
      "\n",
      "    filter, lag\n",
      "\n",
      "The following objects are masked from 'package:base':\n",
      "\n",
      "    intersect, setdiff, setequal, union\n",
      "\n"
     ]
    }
   ],
   "source": [
    "install.packages(\"tibble\")\n",
    "library(\"tibble\")\n",
    "install.packages(c(\"FactoMineR\", \"factoextra\"))\n",
    "library(\"FactoMineR\")\n",
    "library(\"factoextra\")\n",
    "library(dplyr)\n",
    "library(repr)"
   ]
  },
  {
   "cell_type": "markdown",
   "metadata": {},
   "source": [
    "# Niveau 1 : images satellites"
   ]
  },
  {
   "cell_type": "markdown",
   "metadata": {},
   "source": [
    "# hastière"
   ]
  },
  {
   "cell_type": "code",
   "execution_count": 2,
   "metadata": {},
   "outputs": [
    {
     "data": {
      "text/html": [
       "<table>\n",
       "<thead><tr><th scope=col>date</th><th scope=col>B1</th><th scope=col>B2</th><th scope=col>B3</th><th scope=col>B4</th><th scope=col>B5</th><th scope=col>B6</th><th scope=col>B7</th><th scope=col>B8</th><th scope=col>B8A</th><th scope=col>B9</th><th scope=col>B11</th><th scope=col>B12</th><th scope=col>Turbidité</th><th scope=col>Débit</th><th scope=col>Précipitations</th></tr></thead>\n",
       "<tbody>\n",
       "\t<tr><td>2017-04-03</td><td> 53.5     </td><td>174.5     </td><td>354.5     </td><td>231.5     </td><td>204.0     </td><td>110.5     </td><td>125.5     </td><td>132.0     </td><td>129       </td><td>103       </td><td>144.5     </td><td>101.0     </td><td>7.188     </td><td>92.46     </td><td>4.6       </td></tr>\n",
       "\t<tr><td>2017-05-26</td><td>294.0     </td><td>228.5     </td><td>305.0     </td><td>193.5     </td><td>150.5     </td><td> 37.0     </td><td> 51.5     </td><td> 54.5     </td><td> 71       </td><td>190       </td><td>224.0     </td><td>182.5     </td><td>2.969     </td><td>31.33     </td><td>0.0       </td></tr>\n",
       "</tbody>\n",
       "</table>\n"
      ],
      "text/latex": [
       "\\begin{tabular}{r|llllllllllllllll}\n",
       " date & B1 & B2 & B3 & B4 & B5 & B6 & B7 & B8 & B8A & B9 & B11 & B12 & Turbidité & Débit & Précipitations\\\\\n",
       "\\hline\n",
       "\t 2017-04-03 &  53.5      & 174.5      & 354.5      & 231.5      & 204.0      & 110.5      & 125.5      & 132.0      & 129        & 103        & 144.5      & 101.0      & 7.188      & 92.46      & 4.6       \\\\\n",
       "\t 2017-05-26 & 294.0      & 228.5      & 305.0      & 193.5      & 150.5      &  37.0      &  51.5      &  54.5      &  71        & 190        & 224.0      & 182.5      & 2.969      & 31.33      & 0.0       \\\\\n",
       "\\end{tabular}\n"
      ],
      "text/markdown": [
       "\n",
       "| date | B1 | B2 | B3 | B4 | B5 | B6 | B7 | B8 | B8A | B9 | B11 | B12 | Turbidité | Débit | Précipitations |\n",
       "|---|---|---|---|---|---|---|---|---|---|---|---|---|---|---|---|\n",
       "| 2017-04-03 |  53.5      | 174.5      | 354.5      | 231.5      | 204.0      | 110.5      | 125.5      | 132.0      | 129        | 103        | 144.5      | 101.0      | 7.188      | 92.46      | 4.6        |\n",
       "| 2017-05-26 | 294.0      | 228.5      | 305.0      | 193.5      | 150.5      |  37.0      |  51.5      |  54.5      |  71        | 190        | 224.0      | 182.5      | 2.969      | 31.33      | 0.0        |\n",
       "\n"
      ],
      "text/plain": [
       "  date       B1    B2    B3    B4    B5    B6    B7    B8    B8A B9  B11  \n",
       "1 2017-04-03  53.5 174.5 354.5 231.5 204.0 110.5 125.5 132.0 129 103 144.5\n",
       "2 2017-05-26 294.0 228.5 305.0 193.5 150.5  37.0  51.5  54.5  71 190 224.0\n",
       "  B12   Turbidité Débit Précipitations\n",
       "1 101.0 7.188     92.46 4.6           \n",
       "2 182.5 2.969     31.33 0.0           "
      ]
     },
     "metadata": {},
     "output_type": "display_data"
    }
   ],
   "source": [
    "library(readxl)\n",
    "data <- read_excel(\n",
    "    path = \"Desktop\\\\Memoire\\\\bases_de_donnees\\\\jeux_donnees\\\\vi_SR_débit_précip.xlsx\",\n",
    "    sheet = 1, # 1 = hastière, 2 = andenne, 3 = lixhe, 4 = tout\n",
    "    col_names = TRUE)\n",
    "head(data,2)"
   ]
  },
  {
   "cell_type": "code",
   "execution_count": 3,
   "metadata": {},
   "outputs": [
    {
     "data": {
      "text/html": [
       "<table>\n",
       "<thead><tr><th scope=col>B1</th><th scope=col>B2</th><th scope=col>B3</th><th scope=col>B4</th><th scope=col>B5</th></tr></thead>\n",
       "<tbody>\n",
       "\t<tr><td> 53.5</td><td>174.5</td><td>354.5</td><td>231.5</td><td>204.0</td></tr>\n",
       "\t<tr><td>294.0</td><td>228.5</td><td>305.0</td><td>193.5</td><td>150.5</td></tr>\n",
       "</tbody>\n",
       "</table>\n"
      ],
      "text/latex": [
       "\\begin{tabular}{r|lllll}\n",
       " B1 & B2 & B3 & B4 & B5\\\\\n",
       "\\hline\n",
       "\t  53.5 & 174.5 & 354.5 & 231.5 & 204.0\\\\\n",
       "\t 294.0 & 228.5 & 305.0 & 193.5 & 150.5\\\\\n",
       "\\end{tabular}\n"
      ],
      "text/markdown": [
       "\n",
       "| B1 | B2 | B3 | B4 | B5 |\n",
       "|---|---|---|---|---|\n",
       "|  53.5 | 174.5 | 354.5 | 231.5 | 204.0 |\n",
       "| 294.0 | 228.5 | 305.0 | 193.5 | 150.5 |\n",
       "\n"
      ],
      "text/plain": [
       "  B1    B2    B3    B4    B5   \n",
       "1  53.5 174.5 354.5 231.5 204.0\n",
       "2 294.0 228.5 305.0 193.5 150.5"
      ]
     },
     "metadata": {},
     "output_type": "display_data"
    }
   ],
   "source": [
    "data = subset(data, select = -c(date,Débit,Précipitations,Turbidité,B6,B7,B8,B8A,B9,B11,B12))\n",
    "res.pca <- prcomp(data, scale = TRUE)\n",
    "head(data,2)"
   ]
  },
  {
   "cell_type": "code",
   "execution_count": 4,
   "metadata": {},
   "outputs": [
    {
     "name": "stderr",
     "output_type": "stream",
     "text": [
      "Loading required package: gridExtra\n",
      "Warning message:\n",
      "\"package 'gridExtra' was built under R version 3.6.3\"\n",
      "Attaching package: 'gridExtra'\n",
      "\n",
      "The following object is masked from 'package:dplyr':\n",
      "\n",
      "    combine\n",
      "\n"
     ]
    },
    {
     "data": {
      "image/png": "[encoded data removed]",
      "text/plain": [
       "plot without title"
      ]
     },
     "metadata": {},
     "output_type": "display_data"
    },
    {
     "data": {
      "image/png": "[encoded data removed]",
      "text/plain": [
       "plot without title"
      ]
     },
     "metadata": {},
     "output_type": "display_data"
    }
   ],
   "source": [
    "require(gridExtra)\n",
    "options(repr.plot.width=8, repr.plot.height=4)\n",
    "fviz_eig(res.pca, addlabels = TRUE, main = \"Variance expliquée par CP's\",\n",
    "        xlab = \"Composantes principales\",\n",
    "        ylab = \"Pourcentage de la variance [%]\",\n",
    "        col =\"steelblue\")\n",
    "plot2 <- fviz_contrib(res.pca, choice = \"var\", axes = 1, top = 5, title = \"Contribution des variables à l'axe 1\")\n",
    "plot3 <- fviz_contrib(res.pca, choice = \"var\", axes = 2, top = 5, title = \"Contribution des variables à l'axe 2\")\n",
    "grid.arrange(plot2, plot3, ncol=2)"
   ]
  },
  {
   "cell_type": "code",
   "execution_count": 5,
   "metadata": {},
   "outputs": [
    {
     "name": "stdout",
     "output_type": "stream",
     "text": [
      "Standard deviations (1, .., p=5):\n",
      "[1] 2.12 0.58 0.33 0.20 0.14\n",
      "\n",
      "Rotation (n x k) = (5 x 5):\n",
      "    PC1    PC2    PC3   PC4    PC5\n",
      "B1 0.40  0.891 -0.022  0.20  0.033\n",
      "B2 0.46 -0.064 -0.512 -0.64 -0.344\n",
      "B3 0.46 -0.322 -0.417  0.36  0.619\n",
      "B4 0.46 -0.294  0.241  0.51 -0.624\n",
      "B5 0.46 -0.107  0.711 -0.41  0.328\n"
     ]
    }
   ],
   "source": [
    "print(res.pca, digits = 2)"
   ]
  },
  {
   "cell_type": "markdown",
   "metadata": {},
   "source": [
    "# Andenne"
   ]
  },
  {
   "cell_type": "code",
   "execution_count": 6,
   "metadata": {},
   "outputs": [
    {
     "data": {
      "text/html": [
       "<table>\n",
       "<thead><tr><th scope=col>MOY</th><th scope=col>B1</th><th scope=col>B2</th><th scope=col>B3</th><th scope=col>B4</th><th scope=col>B5</th><th scope=col>B6</th><th scope=col>B7</th><th scope=col>B8</th><th scope=col>B8A</th><th scope=col>B9</th><th scope=col>B11</th><th scope=col>B12</th><th scope=col>Turbidité</th></tr></thead>\n",
       "<tbody>\n",
       "\t<tr><td>2017-04-03</td><td>277.75    </td><td>315.75    </td><td>387.5     </td><td>235.25    </td><td>204.75    </td><td>154.5     </td><td>137.75    </td><td>157.75    </td><td>137.25    </td><td>539.5     </td><td>150.25    </td><td>109.75    </td><td>4.850     </td></tr>\n",
       "\t<tr><td>2017-05-06</td><td> 79.50    </td><td>116.00    </td><td>116.5     </td><td> 13.00    </td><td>  1.00    </td><td>  1.0     </td><td>  1.00    </td><td>  1.00    </td><td>  1.00    </td><td>111.5     </td><td> 62.50    </td><td> 82.50    </td><td>5.088     </td></tr>\n",
       "</tbody>\n",
       "</table>\n"
      ],
      "text/latex": [
       "\\begin{tabular}{r|llllllllllllll}\n",
       " MOY & B1 & B2 & B3 & B4 & B5 & B6 & B7 & B8 & B8A & B9 & B11 & B12 & Turbidité\\\\\n",
       "\\hline\n",
       "\t 2017-04-03 & 277.75     & 315.75     & 387.5      & 235.25     & 204.75     & 154.5      & 137.75     & 157.75     & 137.25     & 539.5      & 150.25     & 109.75     & 4.850     \\\\\n",
       "\t 2017-05-06 &  79.50     & 116.00     & 116.5      &  13.00     &   1.00     &   1.0      &   1.00     &   1.00     &   1.00     & 111.5      &  62.50     &  82.50     & 5.088     \\\\\n",
       "\\end{tabular}\n"
      ],
      "text/markdown": [
       "\n",
       "| MOY | B1 | B2 | B3 | B4 | B5 | B6 | B7 | B8 | B8A | B9 | B11 | B12 | Turbidité |\n",
       "|---|---|---|---|---|---|---|---|---|---|---|---|---|---|\n",
       "| 2017-04-03 | 277.75     | 315.75     | 387.5      | 235.25     | 204.75     | 154.5      | 137.75     | 157.75     | 137.25     | 539.5      | 150.25     | 109.75     | 4.850      |\n",
       "| 2017-05-06 |  79.50     | 116.00     | 116.5      |  13.00     |   1.00     |   1.0      |   1.00     |   1.00     |   1.00     | 111.5      |  62.50     |  82.50     | 5.088      |\n",
       "\n"
      ],
      "text/plain": [
       "  MOY        B1     B2     B3    B4     B5     B6    B7     B8     B8A    B9   \n",
       "1 2017-04-03 277.75 315.75 387.5 235.25 204.75 154.5 137.75 157.75 137.25 539.5\n",
       "2 2017-05-06  79.50 116.00 116.5  13.00   1.00   1.0   1.00   1.00   1.00 111.5\n",
       "  B11    B12    Turbidité\n",
       "1 150.25 109.75 4.850    \n",
       "2  62.50  82.50 5.088    "
      ]
     },
     "metadata": {},
     "output_type": "display_data"
    }
   ],
   "source": [
    "library(readxl)\n",
    "data <- read_excel(\n",
    "    path = \"Desktop\\\\Memoire\\\\bases_de_donnees\\\\jeux_donnees\\\\i_SR.xlsx\",\n",
    "    sheet = 2, # 1 = hastière, 2 = andenne, 3 = lixhe, 4 = tout\n",
    "    col_names = TRUE)\n",
    "head(data,2)"
   ]
  },
  {
   "cell_type": "code",
   "execution_count": 7,
   "metadata": {},
   "outputs": [
    {
     "data": {
      "text/html": [
       "<table>\n",
       "<thead><tr><th scope=col>B1</th><th scope=col>B2</th><th scope=col>B3</th><th scope=col>B4</th><th scope=col>B5</th></tr></thead>\n",
       "<tbody>\n",
       "\t<tr><td>277.75</td><td>315.75</td><td>387.5 </td><td>235.25</td><td>204.75</td></tr>\n",
       "\t<tr><td> 79.50</td><td>116.00</td><td>116.5 </td><td> 13.00</td><td>  1.00</td></tr>\n",
       "</tbody>\n",
       "</table>\n"
      ],
      "text/latex": [
       "\\begin{tabular}{r|lllll}\n",
       " B1 & B2 & B3 & B4 & B5\\\\\n",
       "\\hline\n",
       "\t 277.75 & 315.75 & 387.5  & 235.25 & 204.75\\\\\n",
       "\t  79.50 & 116.00 & 116.5  &  13.00 &   1.00\\\\\n",
       "\\end{tabular}\n"
      ],
      "text/markdown": [
       "\n",
       "| B1 | B2 | B3 | B4 | B5 |\n",
       "|---|---|---|---|---|\n",
       "| 277.75 | 315.75 | 387.5  | 235.25 | 204.75 |\n",
       "|  79.50 | 116.00 | 116.5  |  13.00 |   1.00 |\n",
       "\n"
      ],
      "text/plain": [
       "  B1     B2     B3    B4     B5    \n",
       "1 277.75 315.75 387.5 235.25 204.75\n",
       "2  79.50 116.00 116.5  13.00   1.00"
      ]
     },
     "metadata": {},
     "output_type": "display_data"
    }
   ],
   "source": [
    "data = subset(data, select = -c(MOY,Turbidité,B6,B7,B8,B8A,B9,B11,B12))\n",
    "res.pca <- prcomp(data, scale = TRUE)\n",
    "head(data,2)"
   ]
  },
  {
   "cell_type": "code",
   "execution_count": 8,
   "metadata": {},
   "outputs": [
    {
     "data": {
      "image/png": "[encoded data removed]",
      "text/plain": [
       "plot without title"
      ]
     },
     "metadata": {},
     "output_type": "display_data"
    },
    {
     "data": {
      "image/png": "[encoded data removed]",
      "text/plain": [
       "plot without title"
      ]
     },
     "metadata": {},
     "output_type": "display_data"
    }
   ],
   "source": [
    "require(gridExtra)\n",
    "options(repr.plot.width=8, repr.plot.height=4)\n",
    "fviz_eig(res.pca, addlabels = TRUE, main = \"Variance expliquée par CP's\",\n",
    "        xlab = \"Composantes principales\",\n",
    "        ylab = \"Pourcentage de la variance [%]\",\n",
    "        col =\"steelblue\")\n",
    "plot2 <- fviz_contrib(res.pca, choice = \"var\", axes = 1, top = 5, title = \"Contribution des variables à l'axe 1\")\n",
    "plot3 <- fviz_contrib(res.pca, choice = \"var\", axes = 2, top = 5, title = \"Contribution des variables à l'axe 2\")\n",
    "grid.arrange(plot2, plot3, ncol=2)"
   ]
  },
  {
   "cell_type": "code",
   "execution_count": 9,
   "metadata": {},
   "outputs": [
    {
     "name": "stdout",
     "output_type": "stream",
     "text": [
      "Standard deviations (1, .., p=5):\n",
      "[1] 2.11 0.64 0.32 0.18 0.10\n",
      "\n",
      "Rotation (n x k) = (5 x 5):\n",
      "     PC1   PC2   PC3   PC4    PC5\n",
      "B1 -0.39  0.86  0.30 -0.10 -0.027\n",
      "B2 -0.46  0.08 -0.68  0.55 -0.152\n",
      "B3 -0.47 -0.16 -0.33 -0.63  0.506\n",
      "B4 -0.46 -0.34  0.21 -0.28 -0.743\n",
      "B5 -0.45 -0.33  0.55  0.46  0.411\n"
     ]
    }
   ],
   "source": [
    "print(res.pca, digits = 2)"
   ]
  },
  {
   "cell_type": "markdown",
   "metadata": {},
   "source": [
    "# Lixhe"
   ]
  },
  {
   "cell_type": "code",
   "execution_count": 10,
   "metadata": {},
   "outputs": [
    {
     "data": {
      "text/html": [
       "<table>\n",
       "<thead><tr><th scope=col>date</th><th scope=col>Turbidité</th><th scope=col>B1</th><th scope=col>B2</th><th scope=col>B3</th><th scope=col>B4</th><th scope=col>B5</th><th scope=col>B6</th><th scope=col>B7</th><th scope=col>B8</th><th scope=col>B8A</th><th scope=col>B9</th><th scope=col>B11</th><th scope=col>B12</th></tr></thead>\n",
       "<tbody>\n",
       "\t<tr><td>2017-04-26</td><td>0.681     </td><td>208       </td><td>265       </td><td>281       </td><td>174       </td><td>132       </td><td> 66       </td><td> 73       </td><td> 78       </td><td> 66       </td><td>  1       </td><td>114       </td><td>112       </td></tr>\n",
       "\t<tr><td>2017-05-06</td><td>0.856     </td><td>368       </td><td>395       </td><td>358       </td><td>300       </td><td>318       </td><td>361       </td><td>346       </td><td>536       </td><td>366       </td><td>533       </td><td>326       </td><td>260       </td></tr>\n",
       "</tbody>\n",
       "</table>\n"
      ],
      "text/latex": [
       "\\begin{tabular}{r|llllllllllllll}\n",
       " date & Turbidité & B1 & B2 & B3 & B4 & B5 & B6 & B7 & B8 & B8A & B9 & B11 & B12\\\\\n",
       "\\hline\n",
       "\t 2017-04-26 & 0.681      & 208        & 265        & 281        & 174        & 132        &  66        &  73        &  78        &  66        &   1        & 114        & 112       \\\\\n",
       "\t 2017-05-06 & 0.856      & 368        & 395        & 358        & 300        & 318        & 361        & 346        & 536        & 366        & 533        & 326        & 260       \\\\\n",
       "\\end{tabular}\n"
      ],
      "text/markdown": [
       "\n",
       "| date | Turbidité | B1 | B2 | B3 | B4 | B5 | B6 | B7 | B8 | B8A | B9 | B11 | B12 |\n",
       "|---|---|---|---|---|---|---|---|---|---|---|---|---|---|\n",
       "| 2017-04-26 | 0.681      | 208        | 265        | 281        | 174        | 132        |  66        |  73        |  78        |  66        |   1        | 114        | 112        |\n",
       "| 2017-05-06 | 0.856      | 368        | 395        | 358        | 300        | 318        | 361        | 346        | 536        | 366        | 533        | 326        | 260        |\n",
       "\n"
      ],
      "text/plain": [
       "  date       Turbidité B1  B2  B3  B4  B5  B6  B7  B8  B8A B9  B11 B12\n",
       "1 2017-04-26 0.681     208 265 281 174 132  66  73  78  66   1 114 112\n",
       "2 2017-05-06 0.856     368 395 358 300 318 361 346 536 366 533 326 260"
      ]
     },
     "metadata": {},
     "output_type": "display_data"
    }
   ],
   "source": [
    "library(readxl)\n",
    "data <- read_excel(\n",
    "    path = \"Desktop\\\\Memoire\\\\bases_de_donnees\\\\jeux_donnees\\\\i_SR.xlsx\",\n",
    "    sheet = 3, # 1 = hastière, 2 = andenne, 3 = lixhe, 4 = tout\n",
    "    col_names = TRUE)\n",
    "head(data,2)"
   ]
  },
  {
   "cell_type": "code",
   "execution_count": 11,
   "metadata": {},
   "outputs": [
    {
     "data": {
      "text/html": [
       "<table>\n",
       "<thead><tr><th scope=col>B1</th><th scope=col>B2</th><th scope=col>B3</th><th scope=col>B4</th><th scope=col>B5</th></tr></thead>\n",
       "<tbody>\n",
       "\t<tr><td>208</td><td>265</td><td>281</td><td>174</td><td>132</td></tr>\n",
       "\t<tr><td>368</td><td>395</td><td>358</td><td>300</td><td>318</td></tr>\n",
       "</tbody>\n",
       "</table>\n"
      ],
      "text/latex": [
       "\\begin{tabular}{r|lllll}\n",
       " B1 & B2 & B3 & B4 & B5\\\\\n",
       "\\hline\n",
       "\t 208 & 265 & 281 & 174 & 132\\\\\n",
       "\t 368 & 395 & 358 & 300 & 318\\\\\n",
       "\\end{tabular}\n"
      ],
      "text/markdown": [
       "\n",
       "| B1 | B2 | B3 | B4 | B5 |\n",
       "|---|---|---|---|---|\n",
       "| 208 | 265 | 281 | 174 | 132 |\n",
       "| 368 | 395 | 358 | 300 | 318 |\n",
       "\n"
      ],
      "text/plain": [
       "  B1  B2  B3  B4  B5 \n",
       "1 208 265 281 174 132\n",
       "2 368 395 358 300 318"
      ]
     },
     "metadata": {},
     "output_type": "display_data"
    }
   ],
   "source": [
    "data = subset(data, select = -c(date,Turbidité,B6,B7,B8,B8A,B9,B11,B12))\n",
    "res.pca <- prcomp(data, scale = TRUE)\n",
    "head(data,2)"
   ]
  },
  {
   "cell_type": "code",
   "execution_count": 12,
   "metadata": {},
   "outputs": [
    {
     "data": {
      "image/png": "[encoded data removed]",
      "text/plain": [
       "plot without title"
      ]
     },
     "metadata": {},
     "output_type": "display_data"
    },
    {
     "data": {
      "image/png": "[encoded data removed]",
      "text/plain": [
       "plot without title"
      ]
     },
     "metadata": {},
     "output_type": "display_data"
    }
   ],
   "source": [
    "require(gridExtra)\n",
    "options(repr.plot.width=8, repr.plot.height=4)\n",
    "fviz_eig(res.pca, addlabels = TRUE, main = \"Variance expliquée par CP's\",\n",
    "        xlab = \"Composantes principales\",\n",
    "        ylab = \"Pourcentage de la variance [%]\",\n",
    "        col =\"steelblue\")\n",
    "plot2 <- fviz_contrib(res.pca, choice = \"var\", axes = 1, top = 5, title = \"Contribution des variables à l'axe 1\")\n",
    "plot3 <- fviz_contrib(res.pca, choice = \"var\", axes = 2, top = 5, title = \"Contribution des variables à l'axe 2\")\n",
    "grid.arrange(plot2, plot3, ncol=2)"
   ]
  },
  {
   "cell_type": "code",
   "execution_count": 13,
   "metadata": {},
   "outputs": [
    {
     "name": "stdout",
     "output_type": "stream",
     "text": [
      "Standard deviations (1, .., p=5):\n",
      "[1] 2.11 0.61 0.40 0.13 0.12\n",
      "\n",
      "Rotation (n x k) = (5 x 5):\n",
      "     PC1   PC2   PC3    PC4   PC5\n",
      "B1 -0.41  0.80  0.37 -0.197  0.13\n",
      "B2 -0.46  0.18 -0.46  0.711 -0.20\n",
      "B3 -0.46 -0.12 -0.55 -0.667 -0.17\n",
      "B4 -0.46 -0.39  0.11  0.096  0.79\n",
      "B5 -0.45 -0.40  0.58  0.034 -0.54\n"
     ]
    }
   ],
   "source": [
    "print(res.pca, digits = 2)"
   ]
  },
  {
   "cell_type": "markdown",
   "metadata": {},
   "source": [
    "# Stations groupées"
   ]
  },
  {
   "cell_type": "code",
   "execution_count": 14,
   "metadata": {},
   "outputs": [
    {
     "data": {
      "text/html": [
       "<table>\n",
       "<thead><tr><th scope=col>date</th><th scope=col>Turbidité</th><th scope=col>B1</th><th scope=col>B2</th><th scope=col>B3</th><th scope=col>B4</th><th scope=col>B5</th><th scope=col>B6</th><th scope=col>B7</th><th scope=col>B8</th><th scope=col>B8A</th><th scope=col>B9</th><th scope=col>B11</th><th scope=col>B12</th></tr></thead>\n",
       "<tbody>\n",
       "\t<tr><td>2017-04-03</td><td>7.188     </td><td> 53.5     </td><td>174.5     </td><td>354.5     </td><td>231.5     </td><td>204.0     </td><td>110.5     </td><td>125.5     </td><td>132.0     </td><td>129       </td><td>103       </td><td>144.5     </td><td>101.0     </td></tr>\n",
       "\t<tr><td>2017-05-26</td><td>2.969     </td><td>294.0     </td><td>228.5     </td><td>305.0     </td><td>193.5     </td><td>150.5     </td><td> 37.0     </td><td> 51.5     </td><td> 54.5     </td><td> 71       </td><td>190       </td><td>224.0     </td><td>182.5     </td></tr>\n",
       "</tbody>\n",
       "</table>\n"
      ],
      "text/latex": [
       "\\begin{tabular}{r|llllllllllllll}\n",
       " date & Turbidité & B1 & B2 & B3 & B4 & B5 & B6 & B7 & B8 & B8A & B9 & B11 & B12\\\\\n",
       "\\hline\n",
       "\t 2017-04-03 & 7.188      &  53.5      & 174.5      & 354.5      & 231.5      & 204.0      & 110.5      & 125.5      & 132.0      & 129        & 103        & 144.5      & 101.0     \\\\\n",
       "\t 2017-05-26 & 2.969      & 294.0      & 228.5      & 305.0      & 193.5      & 150.5      &  37.0      &  51.5      &  54.5      &  71        & 190        & 224.0      & 182.5     \\\\\n",
       "\\end{tabular}\n"
      ],
      "text/markdown": [
       "\n",
       "| date | Turbidité | B1 | B2 | B3 | B4 | B5 | B6 | B7 | B8 | B8A | B9 | B11 | B12 |\n",
       "|---|---|---|---|---|---|---|---|---|---|---|---|---|---|\n",
       "| 2017-04-03 | 7.188      |  53.5      | 174.5      | 354.5      | 231.5      | 204.0      | 110.5      | 125.5      | 132.0      | 129        | 103        | 144.5      | 101.0      |\n",
       "| 2017-05-26 | 2.969      | 294.0      | 228.5      | 305.0      | 193.5      | 150.5      |  37.0      |  51.5      |  54.5      |  71        | 190        | 224.0      | 182.5      |\n",
       "\n"
      ],
      "text/plain": [
       "  date       Turbidité B1    B2    B3    B4    B5    B6    B7    B8    B8A B9 \n",
       "1 2017-04-03 7.188      53.5 174.5 354.5 231.5 204.0 110.5 125.5 132.0 129 103\n",
       "2 2017-05-26 2.969     294.0 228.5 305.0 193.5 150.5  37.0  51.5  54.5  71 190\n",
       "  B11   B12  \n",
       "1 144.5 101.0\n",
       "2 224.0 182.5"
      ]
     },
     "metadata": {},
     "output_type": "display_data"
    }
   ],
   "source": [
    "library(readxl)\n",
    "data <- read_excel(\n",
    "    path = \"Desktop\\\\Memoire\\\\bases_de_donnees\\\\jeux_donnees\\\\i_SR.xlsx\",\n",
    "    sheet = 4, # 1 = hastière, 2 = andenne, 3 = lixhe, 4 = tout\n",
    "    col_names = TRUE)\n",
    "head(data,2)"
   ]
  },
  {
   "cell_type": "code",
   "execution_count": 15,
   "metadata": {},
   "outputs": [
    {
     "data": {
      "text/html": [
       "<table>\n",
       "<thead><tr><th scope=col>B1</th><th scope=col>B2</th><th scope=col>B3</th><th scope=col>B4</th><th scope=col>B5</th></tr></thead>\n",
       "<tbody>\n",
       "\t<tr><td> 53.5</td><td>174.5</td><td>354.5</td><td>231.5</td><td>204.0</td></tr>\n",
       "\t<tr><td>294.0</td><td>228.5</td><td>305.0</td><td>193.5</td><td>150.5</td></tr>\n",
       "</tbody>\n",
       "</table>\n"
      ],
      "text/latex": [
       "\\begin{tabular}{r|lllll}\n",
       " B1 & B2 & B3 & B4 & B5\\\\\n",
       "\\hline\n",
       "\t  53.5 & 174.5 & 354.5 & 231.5 & 204.0\\\\\n",
       "\t 294.0 & 228.5 & 305.0 & 193.5 & 150.5\\\\\n",
       "\\end{tabular}\n"
      ],
      "text/markdown": [
       "\n",
       "| B1 | B2 | B3 | B4 | B5 |\n",
       "|---|---|---|---|---|\n",
       "|  53.5 | 174.5 | 354.5 | 231.5 | 204.0 |\n",
       "| 294.0 | 228.5 | 305.0 | 193.5 | 150.5 |\n",
       "\n"
      ],
      "text/plain": [
       "  B1    B2    B3    B4    B5   \n",
       "1  53.5 174.5 354.5 231.5 204.0\n",
       "2 294.0 228.5 305.0 193.5 150.5"
      ]
     },
     "metadata": {},
     "output_type": "display_data"
    }
   ],
   "source": [
    "data = subset(data, select = -c(date,Turbidité,B6,B7,B8,B8A,B9,B11,B12))\n",
    "res.pca <- prcomp(data, scale = TRUE)\n",
    "head(data,2)"
   ]
  },
  {
   "cell_type": "code",
   "execution_count": 16,
   "metadata": {},
   "outputs": [
    {
     "data": {
      "image/png": "[encoded data removed]",
      "text/plain": [
       "plot without title"
      ]
     },
     "metadata": {},
     "output_type": "display_data"
    },
    {
     "data": {
      "image/png": "[encoded data removed]",
      "text/plain": [
       "plot without title"
      ]
     },
     "metadata": {},
     "output_type": "display_data"
    }
   ],
   "source": [
    "require(gridExtra)\n",
    "options(repr.plot.width=8, repr.plot.height=4)\n",
    "fviz_eig(res.pca, addlabels = TRUE, main = \"Variance expliquée par CP's\",\n",
    "        xlab = \"Composantes principales\",\n",
    "        ylab = \"Pourcentage de la variance [%]\",\n",
    "        col =\"steelblue\")\n",
    "plot2 <- fviz_contrib(res.pca, choice = \"var\", axes = 1, top = 5, title = \"Contribution des variables à l'axe 1\")\n",
    "plot3 <- fviz_contrib(res.pca, choice = \"var\", axes = 2, top = 5, title = \"Contribution des variables à l'axe 2\")\n",
    "grid.arrange(plot2, plot3, ncol=2)"
   ]
  },
  {
   "cell_type": "code",
   "execution_count": 17,
   "metadata": {},
   "outputs": [
    {
     "name": "stdout",
     "output_type": "stream",
     "text": [
      "Standard deviations (1, .., p=5):\n",
      "[1] 2.12 0.57 0.37 0.19 0.12\n",
      "\n",
      "Rotation (n x k) = (5 x 5):\n",
      "    PC1    PC2   PC3   PC4    PC5\n",
      "B1 0.41  0.849 -0.27 -0.19 -0.046\n",
      "B2 0.46  0.082  0.46  0.75 -0.128\n",
      "B3 0.46 -0.138  0.54 -0.52  0.463\n",
      "B4 0.46 -0.366 -0.13 -0.29 -0.744\n",
      "B5 0.45 -0.345 -0.64  0.23  0.462\n"
     ]
    }
   ],
   "source": [
    "print(res.pca, digits = 2)"
   ]
  },
  {
   "cell_type": "markdown",
   "metadata": {},
   "source": [
    "# Niveau 5 : Images et débit"
   ]
  },
  {
   "cell_type": "markdown",
   "metadata": {},
   "source": [
    "# hastière"
   ]
  },
  {
   "cell_type": "code",
   "execution_count": 18,
   "metadata": {},
   "outputs": [
    {
     "data": {
      "text/html": [
       "<table>\n",
       "<thead><tr><th scope=col>date</th><th scope=col>B1</th><th scope=col>B2</th><th scope=col>B3</th><th scope=col>B4</th><th scope=col>B5</th><th scope=col>B6</th><th scope=col>B7</th><th scope=col>B8</th><th scope=col>B8A</th><th scope=col>B9</th><th scope=col>B11</th><th scope=col>B12</th><th scope=col>Turbidité</th><th scope=col>Débit</th><th scope=col>Précipitations</th></tr></thead>\n",
       "<tbody>\n",
       "\t<tr><td>2017-04-03</td><td> 53.5     </td><td>174.5     </td><td>354.5     </td><td>231.5     </td><td>204.0     </td><td>110.5     </td><td>125.5     </td><td>132.0     </td><td>129       </td><td>103       </td><td>144.5     </td><td>101.0     </td><td>7.188     </td><td>92.46     </td><td>4.6       </td></tr>\n",
       "\t<tr><td>2017-05-26</td><td>294.0     </td><td>228.5     </td><td>305.0     </td><td>193.5     </td><td>150.5     </td><td> 37.0     </td><td> 51.5     </td><td> 54.5     </td><td> 71       </td><td>190       </td><td>224.0     </td><td>182.5     </td><td>2.969     </td><td>31.33     </td><td>0.0       </td></tr>\n",
       "</tbody>\n",
       "</table>\n"
      ],
      "text/latex": [
       "\\begin{tabular}{r|llllllllllllllll}\n",
       " date & B1 & B2 & B3 & B4 & B5 & B6 & B7 & B8 & B8A & B9 & B11 & B12 & Turbidité & Débit & Précipitations\\\\\n",
       "\\hline\n",
       "\t 2017-04-03 &  53.5      & 174.5      & 354.5      & 231.5      & 204.0      & 110.5      & 125.5      & 132.0      & 129        & 103        & 144.5      & 101.0      & 7.188      & 92.46      & 4.6       \\\\\n",
       "\t 2017-05-26 & 294.0      & 228.5      & 305.0      & 193.5      & 150.5      &  37.0      &  51.5      &  54.5      &  71        & 190        & 224.0      & 182.5      & 2.969      & 31.33      & 0.0       \\\\\n",
       "\\end{tabular}\n"
      ],
      "text/markdown": [
       "\n",
       "| date | B1 | B2 | B3 | B4 | B5 | B6 | B7 | B8 | B8A | B9 | B11 | B12 | Turbidité | Débit | Précipitations |\n",
       "|---|---|---|---|---|---|---|---|---|---|---|---|---|---|---|---|\n",
       "| 2017-04-03 |  53.5      | 174.5      | 354.5      | 231.5      | 204.0      | 110.5      | 125.5      | 132.0      | 129        | 103        | 144.5      | 101.0      | 7.188      | 92.46      | 4.6        |\n",
       "| 2017-05-26 | 294.0      | 228.5      | 305.0      | 193.5      | 150.5      |  37.0      |  51.5      |  54.5      |  71        | 190        | 224.0      | 182.5      | 2.969      | 31.33      | 0.0        |\n",
       "\n"
      ],
      "text/plain": [
       "  date       B1    B2    B3    B4    B5    B6    B7    B8    B8A B9  B11  \n",
       "1 2017-04-03  53.5 174.5 354.5 231.5 204.0 110.5 125.5 132.0 129 103 144.5\n",
       "2 2017-05-26 294.0 228.5 305.0 193.5 150.5  37.0  51.5  54.5  71 190 224.0\n",
       "  B12   Turbidité Débit Précipitations\n",
       "1 101.0 7.188     92.46 4.6           \n",
       "2 182.5 2.969     31.33 0.0           "
      ]
     },
     "metadata": {},
     "output_type": "display_data"
    }
   ],
   "source": [
    "library(readxl)\n",
    "data <- read_excel(\n",
    "    path = \"Desktop\\\\Memoire\\\\bases_de_donnees\\\\jeux_donnees\\\\vi_SR_débit_précip.xlsx\",\n",
    "    sheet = 1, # 1 = hastière, 2 = andenne, 3 = lixhe, 4 = tout\n",
    "    col_names = TRUE)\n",
    "head(data,2)"
   ]
  },
  {
   "cell_type": "code",
   "execution_count": 19,
   "metadata": {},
   "outputs": [
    {
     "data": {
      "text/html": [
       "<table>\n",
       "<thead><tr><th scope=col>B1</th><th scope=col>B2</th><th scope=col>B3</th><th scope=col>B4</th><th scope=col>B5</th><th scope=col>log.Débit</th></tr></thead>\n",
       "<tbody>\n",
       "\t<tr><td> 53.5   </td><td>174.5   </td><td>354.5   </td><td>231.5   </td><td>204.0   </td><td>1.965954</td></tr>\n",
       "\t<tr><td>294.0   </td><td>228.5   </td><td>305.0   </td><td>193.5   </td><td>150.5   </td><td>1.495960</td></tr>\n",
       "</tbody>\n",
       "</table>\n"
      ],
      "text/latex": [
       "\\begin{tabular}{r|llllll}\n",
       " B1 & B2 & B3 & B4 & B5 & log.Débit\\\\\n",
       "\\hline\n",
       "\t  53.5    & 174.5    & 354.5    & 231.5    & 204.0    & 1.965954\\\\\n",
       "\t 294.0    & 228.5    & 305.0    & 193.5    & 150.5    & 1.495960\\\\\n",
       "\\end{tabular}\n"
      ],
      "text/markdown": [
       "\n",
       "| B1 | B2 | B3 | B4 | B5 | log.Débit |\n",
       "|---|---|---|---|---|---|\n",
       "|  53.5    | 174.5    | 354.5    | 231.5    | 204.0    | 1.965954 |\n",
       "| 294.0    | 228.5    | 305.0    | 193.5    | 150.5    | 1.495960 |\n",
       "\n"
      ],
      "text/plain": [
       "  B1    B2    B3    B4    B5    log.Débit\n",
       "1  53.5 174.5 354.5 231.5 204.0 1.965954 \n",
       "2 294.0 228.5 305.0 193.5 150.5 1.495960 "
      ]
     },
     "metadata": {},
     "output_type": "display_data"
    }
   ],
   "source": [
    "data$log.Débit <- log10(data$Débit)\n",
    "data = subset(data, select = -c(date,Débit,Turbidité,B6,B7,B8,B8A,B9,B11,B12,Précipitations))\n",
    "res.pca <- prcomp(data, scale = TRUE)\n",
    "head(data,2)"
   ]
  },
  {
   "cell_type": "code",
   "execution_count": 21,
   "metadata": {},
   "outputs": [
    {
     "data": {
      "image/png": "[encoded data removed]",
      "text/plain": [
       "plot without title"
      ]
     },
     "metadata": {},
     "output_type": "display_data"
    },
    {
     "data": {
      "image/png": "[encoded data removed]",
      "text/plain": [
       "plot without title"
      ]
     },
     "metadata": {},
     "output_type": "display_data"
    }
   ],
   "source": [
    "require(gridExtra)\n",
    "options(repr.plot.width=8, repr.plot.height=4)\n",
    "fviz_eig(res.pca, addlabels = TRUE, main = \"Variance expliquée par CP's\",\n",
    "        xlab = \"Composantes principales\",\n",
    "        ylab = \"Pourcentage de la variance [%]\",\n",
    "        col =\"steelblue\")\n",
    "plot2 <- fviz_contrib(res.pca, choice = \"var\", axes = 1, top = 6, title = \"Contribution des variables à l'axe 1\")\n",
    "plot3 <- fviz_contrib(res.pca, choice = \"var\", axes = 2, top = 6, title = \"Contribution des variables à l'axe 2\")\n",
    "plot4 <- fviz_contrib(res.pca, choice = \"var\", axes = 3, top = 6, title = \"Contribution des variables à l'axe 2\")\n",
    "grid.arrange(plot2, plot3, plot4, ncol=2)"
   ]
  },
  {
   "cell_type": "code",
   "execution_count": 22,
   "metadata": {},
   "outputs": [
    {
     "name": "stdout",
     "output_type": "stream",
     "text": [
      "Standard deviations (1, .., p=6):\n",
      "[1] 2.21 0.83 0.54 0.33 0.17 0.14\n",
      "\n",
      "Rotation (n x k) = (6 x 6):\n",
      "           PC1     PC2   PC3    PC4   PC5    PC6\n",
      "B1        0.38  0.3992 -0.82  0.054  0.16 -0.038\n",
      "B2        0.44  0.1991  0.19  0.466 -0.62  0.368\n",
      "B3        0.44 -0.0076  0.32  0.421  0.35 -0.634\n",
      "B4        0.44 -0.0357  0.26 -0.227  0.57  0.601\n",
      "B5        0.43  0.1036  0.15 -0.741 -0.36 -0.315\n",
      "log.Débit 0.30 -0.8882 -0.32  0.048 -0.13  0.010\n"
     ]
    }
   ],
   "source": [
    "print(res.pca, digits = 2)"
   ]
  },
  {
   "cell_type": "markdown",
   "metadata": {},
   "source": [
    "# Andenne"
   ]
  },
  {
   "cell_type": "code",
   "execution_count": 23,
   "metadata": {},
   "outputs": [
    {
     "data": {
      "text/html": [
       "<table>\n",
       "<thead><tr><th scope=col>MOY</th><th scope=col>B1</th><th scope=col>B2</th><th scope=col>B3</th><th scope=col>B4</th><th scope=col>B5</th><th scope=col>B6</th><th scope=col>B7</th><th scope=col>B8</th><th scope=col>B8A</th><th scope=col>B9</th><th scope=col>B11</th><th scope=col>B12</th><th scope=col>Turbidité</th><th scope=col>Débit</th><th scope=col>Précipitations</th></tr></thead>\n",
       "<tbody>\n",
       "\t<tr><td>2017-04-03</td><td>277.75    </td><td>315.75    </td><td>387.5     </td><td>235.25    </td><td>204.75    </td><td>154.5     </td><td>137.75    </td><td>157.75    </td><td>137.25    </td><td>539.5     </td><td>150.25    </td><td>109.75    </td><td>4.850     </td><td>129.71    </td><td>3.9       </td></tr>\n",
       "\t<tr><td>2017-05-06</td><td> 79.50    </td><td>116.00    </td><td>116.5     </td><td> 13.00    </td><td>  1.00    </td><td>  1.0     </td><td>  1.00    </td><td>  1.00    </td><td>  1.00    </td><td>111.5     </td><td> 62.50    </td><td> 82.50    </td><td>5.088     </td><td> 73.83    </td><td>9.8       </td></tr>\n",
       "</tbody>\n",
       "</table>\n"
      ],
      "text/latex": [
       "\\begin{tabular}{r|llllllllllllllll}\n",
       " MOY & B1 & B2 & B3 & B4 & B5 & B6 & B7 & B8 & B8A & B9 & B11 & B12 & Turbidité & Débit & Précipitations\\\\\n",
       "\\hline\n",
       "\t 2017-04-03 & 277.75     & 315.75     & 387.5      & 235.25     & 204.75     & 154.5      & 137.75     & 157.75     & 137.25     & 539.5      & 150.25     & 109.75     & 4.850      & 129.71     & 3.9       \\\\\n",
       "\t 2017-05-06 &  79.50     & 116.00     & 116.5      &  13.00     &   1.00     &   1.0      &   1.00     &   1.00     &   1.00     & 111.5      &  62.50     &  82.50     & 5.088      &  73.83     & 9.8       \\\\\n",
       "\\end{tabular}\n"
      ],
      "text/markdown": [
       "\n",
       "| MOY | B1 | B2 | B3 | B4 | B5 | B6 | B7 | B8 | B8A | B9 | B11 | B12 | Turbidité | Débit | Précipitations |\n",
       "|---|---|---|---|---|---|---|---|---|---|---|---|---|---|---|---|\n",
       "| 2017-04-03 | 277.75     | 315.75     | 387.5      | 235.25     | 204.75     | 154.5      | 137.75     | 157.75     | 137.25     | 539.5      | 150.25     | 109.75     | 4.850      | 129.71     | 3.9        |\n",
       "| 2017-05-06 |  79.50     | 116.00     | 116.5      |  13.00     |   1.00     |   1.0      |   1.00     |   1.00     |   1.00     | 111.5      |  62.50     |  82.50     | 5.088      |  73.83     | 9.8        |\n",
       "\n"
      ],
      "text/plain": [
       "  MOY        B1     B2     B3    B4     B5     B6    B7     B8     B8A    B9   \n",
       "1 2017-04-03 277.75 315.75 387.5 235.25 204.75 154.5 137.75 157.75 137.25 539.5\n",
       "2 2017-05-06  79.50 116.00 116.5  13.00   1.00   1.0   1.00   1.00   1.00 111.5\n",
       "  B11    B12    Turbidité Débit  Précipitations\n",
       "1 150.25 109.75 4.850     129.71 3.9           \n",
       "2  62.50  82.50 5.088      73.83 9.8           "
      ]
     },
     "metadata": {},
     "output_type": "display_data"
    }
   ],
   "source": [
    "library(readxl)\n",
    "data <- read_excel(\n",
    "    path = \"Desktop\\\\Memoire\\\\bases_de_donnees\\\\jeux_donnees\\\\vi_SR_débit_précip.xlsx\",\n",
    "    sheet = 2, # 1 = hastière, 2 = andenne, 3 = lixhe, 4 = tout\n",
    "    col_names = TRUE)\n",
    "head(data,2)"
   ]
  },
  {
   "cell_type": "code",
   "execution_count": 24,
   "metadata": {},
   "outputs": [
    {
     "data": {
      "text/html": [
       "<table>\n",
       "<thead><tr><th scope=col>B1</th><th scope=col>B2</th><th scope=col>B3</th><th scope=col>B4</th><th scope=col>B5</th><th scope=col>log.Débit</th></tr></thead>\n",
       "<tbody>\n",
       "\t<tr><td>277.75  </td><td>315.75  </td><td>387.5   </td><td>235.25  </td><td>204.75  </td><td>2.112973</td></tr>\n",
       "\t<tr><td> 79.50  </td><td>116.00  </td><td>116.5   </td><td> 13.00  </td><td>  1.00  </td><td>1.868233</td></tr>\n",
       "</tbody>\n",
       "</table>\n"
      ],
      "text/latex": [
       "\\begin{tabular}{r|llllll}\n",
       " B1 & B2 & B3 & B4 & B5 & log.Débit\\\\\n",
       "\\hline\n",
       "\t 277.75   & 315.75   & 387.5    & 235.25   & 204.75   & 2.112973\\\\\n",
       "\t  79.50   & 116.00   & 116.5    &  13.00   &   1.00   & 1.868233\\\\\n",
       "\\end{tabular}\n"
      ],
      "text/markdown": [
       "\n",
       "| B1 | B2 | B3 | B4 | B5 | log.Débit |\n",
       "|---|---|---|---|---|---|\n",
       "| 277.75   | 315.75   | 387.5    | 235.25   | 204.75   | 2.112973 |\n",
       "|  79.50   | 116.00   | 116.5    |  13.00   |   1.00   | 1.868233 |\n",
       "\n"
      ],
      "text/plain": [
       "  B1     B2     B3    B4     B5     log.Débit\n",
       "1 277.75 315.75 387.5 235.25 204.75 2.112973 \n",
       "2  79.50 116.00 116.5  13.00   1.00 1.868233 "
      ]
     },
     "metadata": {},
     "output_type": "display_data"
    }
   ],
   "source": [
    "data$log.Débit <- log10(data$Débit)\n",
    "data = subset(data, select = -c(MOY,Débit,Turbidité,B6,B7,B8,B8A,B9,B11,B12,Précipitations))\n",
    "res.pca <- prcomp(data, scale = TRUE)\n",
    "head(data,2)"
   ]
  },
  {
   "cell_type": "code",
   "execution_count": 25,
   "metadata": {},
   "outputs": [
    {
     "data": {
      "image/png": "[encoded data removed]",
      "text/plain": [
       "plot without title"
      ]
     },
     "metadata": {},
     "output_type": "display_data"
    },
    {
     "data": {
      "image/png": "[encoded data removed]",
      "text/plain": [
       "plot without title"
      ]
     },
     "metadata": {},
     "output_type": "display_data"
    }
   ],
   "source": [
    "require(gridExtra)\n",
    "options(repr.plot.width=8, repr.plot.height=4)\n",
    "fviz_eig(res.pca, addlabels = TRUE, main = \"Variance expliquée par CP's\",\n",
    "        xlab = \"Composantes principales\",\n",
    "        ylab = \"Pourcentage de la variance [%]\",\n",
    "        col =\"steelblue\")\n",
    "plot2 <- fviz_contrib(res.pca, choice = \"var\", axes = 1, top = 6, title = \"Contribution des variables à l'axe 1\")\n",
    "plot3 <- fviz_contrib(res.pca, choice = \"var\", axes = 2, top = 6, title = \"Contribution des variables à l'axe 2\")\n",
    "plot4 <- fviz_contrib(res.pca, choice = \"var\", axes = 3, top = 6, title = \"Contribution des variables à l'axe 2\")\n",
    "grid.arrange(plot2, plot3, plot4, ncol=2)"
   ]
  },
  {
   "cell_type": "code",
   "execution_count": 26,
   "metadata": {},
   "outputs": [
    {
     "name": "stdout",
     "output_type": "stream",
     "text": [
      "Standard deviations (1, .., p=6):\n",
      "[1] 2.243 0.799 0.466 0.287 0.149 0.099\n",
      "\n",
      "Rotation (n x k) = (6 x 6):\n",
      "            PC1    PC2     PC3   PC4    PC5     PC6\n",
      "B1        -0.35  0.713  0.4400  0.42  0.039 -0.0073\n",
      "B2        -0.43  0.148  0.1187 -0.78  0.397 -0.1223\n",
      "B3        -0.44 -0.042 -0.0016 -0.22 -0.767  0.4079\n",
      "B4        -0.44 -0.107 -0.3437  0.18 -0.208 -0.7765\n",
      "B5        -0.43 -0.020 -0.5981  0.28  0.413  0.4618\n",
      "log.Débit -0.35 -0.676  0.5626  0.25  0.196  0.0492\n"
     ]
    }
   ],
   "source": [
    "print(res.pca, digits = 2)"
   ]
  },
  {
   "cell_type": "markdown",
   "metadata": {},
   "source": [
    "# Lixhe"
   ]
  },
  {
   "cell_type": "code",
   "execution_count": 27,
   "metadata": {},
   "outputs": [
    {
     "data": {
      "text/html": [
       "<table>\n",
       "<thead><tr><th scope=col>date</th><th scope=col>Turbidité</th><th scope=col>B1</th><th scope=col>B2</th><th scope=col>B3</th><th scope=col>B4</th><th scope=col>B5</th><th scope=col>B6</th><th scope=col>B7</th><th scope=col>B8</th><th scope=col>B8A</th><th scope=col>B9</th><th scope=col>B11</th><th scope=col>B12</th><th scope=col>Débit</th><th scope=col>Précipitations</th></tr></thead>\n",
       "<tbody>\n",
       "\t<tr><td>2017-04-26</td><td>0.681     </td><td>208       </td><td>265       </td><td>281       </td><td>174       </td><td>132       </td><td> 66       </td><td> 73       </td><td> 78       </td><td> 66       </td><td>  1       </td><td>114       </td><td>112       </td><td>53.89304  </td><td> 4.0      </td></tr>\n",
       "\t<tr><td>2017-05-06</td><td>0.856     </td><td>368       </td><td>395       </td><td>358       </td><td>300       </td><td>318       </td><td>361       </td><td>346       </td><td>536       </td><td>366       </td><td>533       </td><td>326       </td><td>260       </td><td>55.47750  </td><td>18.6      </td></tr>\n",
       "</tbody>\n",
       "</table>\n"
      ],
      "text/latex": [
       "\\begin{tabular}{r|llllllllllllllll}\n",
       " date & Turbidité & B1 & B2 & B3 & B4 & B5 & B6 & B7 & B8 & B8A & B9 & B11 & B12 & Débit & Précipitations\\\\\n",
       "\\hline\n",
       "\t 2017-04-26 & 0.681      & 208        & 265        & 281        & 174        & 132        &  66        &  73        &  78        &  66        &   1        & 114        & 112        & 53.89304   &  4.0      \\\\\n",
       "\t 2017-05-06 & 0.856      & 368        & 395        & 358        & 300        & 318        & 361        & 346        & 536        & 366        & 533        & 326        & 260        & 55.47750   & 18.6      \\\\\n",
       "\\end{tabular}\n"
      ],
      "text/markdown": [
       "\n",
       "| date | Turbidité | B1 | B2 | B3 | B4 | B5 | B6 | B7 | B8 | B8A | B9 | B11 | B12 | Débit | Précipitations |\n",
       "|---|---|---|---|---|---|---|---|---|---|---|---|---|---|---|---|\n",
       "| 2017-04-26 | 0.681      | 208        | 265        | 281        | 174        | 132        |  66        |  73        |  78        |  66        |   1        | 114        | 112        | 53.89304   |  4.0       |\n",
       "| 2017-05-06 | 0.856      | 368        | 395        | 358        | 300        | 318        | 361        | 346        | 536        | 366        | 533        | 326        | 260        | 55.47750   | 18.6       |\n",
       "\n"
      ],
      "text/plain": [
       "  date       Turbidité B1  B2  B3  B4  B5  B6  B7  B8  B8A B9  B11 B12 Débit   \n",
       "1 2017-04-26 0.681     208 265 281 174 132  66  73  78  66   1 114 112 53.89304\n",
       "2 2017-05-06 0.856     368 395 358 300 318 361 346 536 366 533 326 260 55.47750\n",
       "  Précipitations\n",
       "1  4.0          \n",
       "2 18.6          "
      ]
     },
     "metadata": {},
     "output_type": "display_data"
    }
   ],
   "source": [
    "library(readxl)\n",
    "data <- read_excel(\n",
    "    path = \"Desktop\\\\Memoire\\\\bases_de_donnees\\\\jeux_donnees\\\\vi_SR_débit_précip.xlsx\",\n",
    "    sheet = 3, # 1 = hastière, 2 = andenne, 3 = lixhe, 4 = tout\n",
    "    col_names = TRUE)\n",
    "head(data,2)"
   ]
  },
  {
   "cell_type": "code",
   "execution_count": 28,
   "metadata": {},
   "outputs": [
    {
     "data": {
      "text/html": [
       "<table>\n",
       "<thead><tr><th scope=col>B1</th><th scope=col>B2</th><th scope=col>B3</th><th scope=col>B4</th><th scope=col>B5</th><th scope=col>log.Débit</th></tr></thead>\n",
       "<tbody>\n",
       "\t<tr><td>208     </td><td>265     </td><td>281     </td><td>174     </td><td>132     </td><td>1.731533</td></tr>\n",
       "\t<tr><td>368     </td><td>395     </td><td>358     </td><td>300     </td><td>318     </td><td>1.744117</td></tr>\n",
       "</tbody>\n",
       "</table>\n"
      ],
      "text/latex": [
       "\\begin{tabular}{r|llllll}\n",
       " B1 & B2 & B3 & B4 & B5 & log.Débit\\\\\n",
       "\\hline\n",
       "\t 208      & 265      & 281      & 174      & 132      & 1.731533\\\\\n",
       "\t 368      & 395      & 358      & 300      & 318      & 1.744117\\\\\n",
       "\\end{tabular}\n"
      ],
      "text/markdown": [
       "\n",
       "| B1 | B2 | B3 | B4 | B5 | log.Débit |\n",
       "|---|---|---|---|---|---|\n",
       "| 208      | 265      | 281      | 174      | 132      | 1.731533 |\n",
       "| 368      | 395      | 358      | 300      | 318      | 1.744117 |\n",
       "\n"
      ],
      "text/plain": [
       "  B1  B2  B3  B4  B5  log.Débit\n",
       "1 208 265 281 174 132 1.731533 \n",
       "2 368 395 358 300 318 1.744117 "
      ]
     },
     "metadata": {},
     "output_type": "display_data"
    }
   ],
   "source": [
    "data$log.Débit <- log10(data$Débit)\n",
    "data = subset(data, select = -c(date,Débit,Turbidité,B6,B7,B8,B8A,B9,B11,B12,Précipitations))\n",
    "res.pca <- prcomp(data, scale = TRUE)\n",
    "head(data,2)"
   ]
  },
  {
   "cell_type": "code",
   "execution_count": 29,
   "metadata": {},
   "outputs": [
    {
     "data": {
      "image/png": "[encoded data removed]",
      "text/plain": [
       "plot without title"
      ]
     },
     "metadata": {},
     "output_type": "display_data"
    },
    {
     "data": {
      "image/png": "[encoded data removed]",
      "text/plain": [
       "plot without title"
      ]
     },
     "metadata": {},
     "output_type": "display_data"
    }
   ],
   "source": [
    "require(gridExtra)\n",
    "options(repr.plot.width=8, repr.plot.height=4)\n",
    "fviz_eig(res.pca, addlabels = TRUE, main = \"Variance expliquée par CP's\",\n",
    "        xlab = \"Composantes principales\",\n",
    "        ylab = \"Pourcentage de la variance [%]\",\n",
    "        col =\"steelblue\")\n",
    "plot2 <- fviz_contrib(res.pca, choice = \"var\", axes = 1, top = 6, title = \"Contribution des variables à l'axe 1\")\n",
    "plot3 <- fviz_contrib(res.pca, choice = \"var\", axes = 2, top = 6, title = \"Contribution des variables à l'axe 2\")\n",
    "plot4 <- fviz_contrib(res.pca, choice = \"var\", axes = 3, top = 6, title = \"Contribution des variables à l'axe 2\")\n",
    "grid.arrange(plot2, plot3, plot4, ncol=2)"
   ]
  },
  {
   "cell_type": "code",
   "execution_count": 30,
   "metadata": {},
   "outputs": [
    {
     "name": "stdout",
     "output_type": "stream",
     "text": [
      "Standard deviations (1, .., p=6):\n",
      "[1] 2.22 0.79 0.54 0.34 0.13 0.10\n",
      "\n",
      "Rotation (n x k) = (6 x 6):\n",
      "            PC1    PC2    PC3    PC4     PC5    PC6\n",
      "B1        -0.37  0.587  0.504  0.468  0.1910 -0.084\n",
      "B2        -0.44  0.148  0.228 -0.457 -0.7028  0.183\n",
      "B3        -0.44 -0.028  0.013 -0.587  0.6743  0.085\n",
      "B4        -0.44 -0.077 -0.384  0.067 -0.1212 -0.798\n",
      "B5        -0.42  0.066 -0.621  0.358 -0.0164  0.554\n",
      "log.Débit -0.34 -0.789  0.402  0.307 -0.0028  0.093\n"
     ]
    }
   ],
   "source": [
    "print(res.pca, digits = 2)"
   ]
  },
  {
   "cell_type": "markdown",
   "metadata": {},
   "source": [
    "# Trois stations"
   ]
  },
  {
   "cell_type": "code",
   "execution_count": 31,
   "metadata": {},
   "outputs": [
    {
     "data": {
      "text/html": [
       "<table>\n",
       "<thead><tr><th scope=col>date</th><th scope=col>Turbidité</th><th scope=col>B1</th><th scope=col>B2</th><th scope=col>B3</th><th scope=col>B4</th><th scope=col>B5</th><th scope=col>B6</th><th scope=col>B7</th><th scope=col>B8</th><th scope=col>B8A</th><th scope=col>B9</th><th scope=col>B11</th><th scope=col>B12</th><th scope=col>Débit</th><th scope=col>Précipitations</th></tr></thead>\n",
       "<tbody>\n",
       "\t<tr><td>2017-04-03</td><td>7.188     </td><td> 53.5     </td><td>174.5     </td><td>354.5     </td><td>231.5     </td><td>204.0     </td><td>110.5     </td><td>125.5     </td><td>132.0     </td><td>129       </td><td>103       </td><td>144.5     </td><td>101.0     </td><td>92.46     </td><td>4.6       </td></tr>\n",
       "\t<tr><td>2017-05-26</td><td>2.969     </td><td>294.0     </td><td>228.5     </td><td>305.0     </td><td>193.5     </td><td>150.5     </td><td> 37.0     </td><td> 51.5     </td><td> 54.5     </td><td> 71       </td><td>190       </td><td>224.0     </td><td>182.5     </td><td>31.33     </td><td>0.0       </td></tr>\n",
       "</tbody>\n",
       "</table>\n"
      ],
      "text/latex": [
       "\\begin{tabular}{r|llllllllllllllll}\n",
       " date & Turbidité & B1 & B2 & B3 & B4 & B5 & B6 & B7 & B8 & B8A & B9 & B11 & B12 & Débit & Précipitations\\\\\n",
       "\\hline\n",
       "\t 2017-04-03 & 7.188      &  53.5      & 174.5      & 354.5      & 231.5      & 204.0      & 110.5      & 125.5      & 132.0      & 129        & 103        & 144.5      & 101.0      & 92.46      & 4.6       \\\\\n",
       "\t 2017-05-26 & 2.969      & 294.0      & 228.5      & 305.0      & 193.5      & 150.5      &  37.0      &  51.5      &  54.5      &  71        & 190        & 224.0      & 182.5      & 31.33      & 0.0       \\\\\n",
       "\\end{tabular}\n"
      ],
      "text/markdown": [
       "\n",
       "| date | Turbidité | B1 | B2 | B3 | B4 | B5 | B6 | B7 | B8 | B8A | B9 | B11 | B12 | Débit | Précipitations |\n",
       "|---|---|---|---|---|---|---|---|---|---|---|---|---|---|---|---|\n",
       "| 2017-04-03 | 7.188      |  53.5      | 174.5      | 354.5      | 231.5      | 204.0      | 110.5      | 125.5      | 132.0      | 129        | 103        | 144.5      | 101.0      | 92.46      | 4.6        |\n",
       "| 2017-05-26 | 2.969      | 294.0      | 228.5      | 305.0      | 193.5      | 150.5      |  37.0      |  51.5      |  54.5      |  71        | 190        | 224.0      | 182.5      | 31.33      | 0.0        |\n",
       "\n"
      ],
      "text/plain": [
       "  date       Turbidité B1    B2    B3    B4    B5    B6    B7    B8    B8A B9 \n",
       "1 2017-04-03 7.188      53.5 174.5 354.5 231.5 204.0 110.5 125.5 132.0 129 103\n",
       "2 2017-05-26 2.969     294.0 228.5 305.0 193.5 150.5  37.0  51.5  54.5  71 190\n",
       "  B11   B12   Débit Précipitations\n",
       "1 144.5 101.0 92.46 4.6           \n",
       "2 224.0 182.5 31.33 0.0           "
      ]
     },
     "metadata": {},
     "output_type": "display_data"
    }
   ],
   "source": [
    "library(readxl)\n",
    "data <- read_excel(\n",
    "    path = \"Desktop\\\\Memoire\\\\bases_de_donnees\\\\jeux_donnees\\\\vi_SR_débit_précip.xlsx\",\n",
    "    sheet = 4, # 1 = hastière, 2 = andenne, 3 = lixhe, 4 = tout\n",
    "    col_names = TRUE)\n",
    "head(data,2)"
   ]
  },
  {
   "cell_type": "code",
   "execution_count": 32,
   "metadata": {},
   "outputs": [
    {
     "data": {
      "text/html": [
       "<table>\n",
       "<thead><tr><th scope=col>B1</th><th scope=col>B2</th><th scope=col>B3</th><th scope=col>B4</th><th scope=col>B5</th><th scope=col>log.Débit</th></tr></thead>\n",
       "<tbody>\n",
       "\t<tr><td> 53.5   </td><td>174.5   </td><td>354.5   </td><td>231.5   </td><td>204.0   </td><td>1.965954</td></tr>\n",
       "\t<tr><td>294.0   </td><td>228.5   </td><td>305.0   </td><td>193.5   </td><td>150.5   </td><td>1.495960</td></tr>\n",
       "</tbody>\n",
       "</table>\n"
      ],
      "text/latex": [
       "\\begin{tabular}{r|llllll}\n",
       " B1 & B2 & B3 & B4 & B5 & log.Débit\\\\\n",
       "\\hline\n",
       "\t  53.5    & 174.5    & 354.5    & 231.5    & 204.0    & 1.965954\\\\\n",
       "\t 294.0    & 228.5    & 305.0    & 193.5    & 150.5    & 1.495960\\\\\n",
       "\\end{tabular}\n"
      ],
      "text/markdown": [
       "\n",
       "| B1 | B2 | B3 | B4 | B5 | log.Débit |\n",
       "|---|---|---|---|---|---|\n",
       "|  53.5    | 174.5    | 354.5    | 231.5    | 204.0    | 1.965954 |\n",
       "| 294.0    | 228.5    | 305.0    | 193.5    | 150.5    | 1.495960 |\n",
       "\n"
      ],
      "text/plain": [
       "  B1    B2    B3    B4    B5    log.Débit\n",
       "1  53.5 174.5 354.5 231.5 204.0 1.965954 \n",
       "2 294.0 228.5 305.0 193.5 150.5 1.495960 "
      ]
     },
     "metadata": {},
     "output_type": "display_data"
    }
   ],
   "source": [
    "data$log.Débit <- log10(data$Débit)\n",
    "data = subset(data, select = -c(date,Débit,Turbidité,B6,B7,B8,B8A,B9,B11,B12,Précipitations))\n",
    "res.pca <- prcomp(data, scale = TRUE)\n",
    "head(data,2)"
   ]
  },
  {
   "cell_type": "code",
   "execution_count": 33,
   "metadata": {},
   "outputs": [
    {
     "data": {
      "image/png": "[encoded data removed]",
      "text/plain": [
       "plot without title"
      ]
     },
     "metadata": {},
     "output_type": "display_data"
    },
    {
     "data": {
      "image/png": "[encoded data removed]",
      "text/plain": [
       "plot without title"
      ]
     },
     "metadata": {},
     "output_type": "display_data"
    }
   ],
   "source": [
    "require(gridExtra)\n",
    "options(repr.plot.width=8, repr.plot.height=4)\n",
    "fviz_eig(res.pca, addlabels = TRUE, main = \"Variance expliquée par CP's\",\n",
    "        xlab = \"Composantes principales\",\n",
    "        ylab = \"Pourcentage de la variance [%]\",\n",
    "        col =\"steelblue\")\n",
    "plot2 <- fviz_contrib(res.pca, choice = \"var\", axes = 1, top = 6, title = \"Contribution des variables à l'axe 1\")\n",
    "plot3 <- fviz_contrib(res.pca, choice = \"var\", axes = 2, top = 6, title = \"Contribution des variables à l'axe 2\")\n",
    "plot4 <- fviz_contrib(res.pca, choice = \"var\", axes = 3, top = 6, title = \"Contribution des variables à l'axe 2\")\n",
    "grid.arrange(plot2, plot3, plot4, ncol=2)"
   ]
  },
  {
   "cell_type": "code",
   "execution_count": 34,
   "metadata": {},
   "outputs": [
    {
     "name": "stdout",
     "output_type": "stream",
     "text": [
      "Standard deviations (1, .., p=6):\n",
      "[1] 2.19 0.89 0.48 0.36 0.18 0.12\n",
      "\n",
      "Rotation (n x k) = (6 x 6):\n",
      "           PC1    PC2    PC3    PC4    PC5    PC6\n",
      "B1        0.38  0.471 -0.676  0.383  0.169 -0.018\n",
      "B2        0.44  0.130 -0.104 -0.459 -0.744 -0.112\n",
      "B3        0.44  0.033  0.076 -0.569  0.547  0.418\n",
      "B4        0.45 -0.058  0.349  0.086  0.271 -0.771\n",
      "B5        0.43  0.032  0.508  0.542 -0.213  0.463\n",
      "log.Débit 0.28 -0.869 -0.384  0.132 -0.025  0.058\n"
     ]
    }
   ],
   "source": [
    "print(res.pca, digits = 2)"
   ]
  },
  {
   "cell_type": "markdown",
   "metadata": {},
   "source": [
    "# Images, débit et précipitations"
   ]
  },
  {
   "cell_type": "markdown",
   "metadata": {},
   "source": [
    "# Hastière"
   ]
  },
  {
   "cell_type": "code",
   "execution_count": 35,
   "metadata": {},
   "outputs": [
    {
     "data": {
      "text/html": [
       "<table>\n",
       "<thead><tr><th scope=col>date</th><th scope=col>B1</th><th scope=col>B2</th><th scope=col>B3</th><th scope=col>B4</th><th scope=col>B5</th><th scope=col>B6</th><th scope=col>B7</th><th scope=col>B8</th><th scope=col>B8A</th><th scope=col>B9</th><th scope=col>B11</th><th scope=col>B12</th><th scope=col>Turbidité</th><th scope=col>Débit</th><th scope=col>Précipitations</th></tr></thead>\n",
       "<tbody>\n",
       "\t<tr><td>2017-04-03</td><td> 53.5     </td><td>174.5     </td><td>354.5     </td><td>231.5     </td><td>204.0     </td><td>110.5     </td><td>125.5     </td><td>132.0     </td><td>129       </td><td>103       </td><td>144.5     </td><td>101.0     </td><td>7.188     </td><td>92.46     </td><td>4.6       </td></tr>\n",
       "\t<tr><td>2017-05-26</td><td>294.0     </td><td>228.5     </td><td>305.0     </td><td>193.5     </td><td>150.5     </td><td> 37.0     </td><td> 51.5     </td><td> 54.5     </td><td> 71       </td><td>190       </td><td>224.0     </td><td>182.5     </td><td>2.969     </td><td>31.33     </td><td>0.0       </td></tr>\n",
       "</tbody>\n",
       "</table>\n"
      ],
      "text/latex": [
       "\\begin{tabular}{r|llllllllllllllll}\n",
       " date & B1 & B2 & B3 & B4 & B5 & B6 & B7 & B8 & B8A & B9 & B11 & B12 & Turbidité & Débit & Précipitations\\\\\n",
       "\\hline\n",
       "\t 2017-04-03 &  53.5      & 174.5      & 354.5      & 231.5      & 204.0      & 110.5      & 125.5      & 132.0      & 129        & 103        & 144.5      & 101.0      & 7.188      & 92.46      & 4.6       \\\\\n",
       "\t 2017-05-26 & 294.0      & 228.5      & 305.0      & 193.5      & 150.5      &  37.0      &  51.5      &  54.5      &  71        & 190        & 224.0      & 182.5      & 2.969      & 31.33      & 0.0       \\\\\n",
       "\\end{tabular}\n"
      ],
      "text/markdown": [
       "\n",
       "| date | B1 | B2 | B3 | B4 | B5 | B6 | B7 | B8 | B8A | B9 | B11 | B12 | Turbidité | Débit | Précipitations |\n",
       "|---|---|---|---|---|---|---|---|---|---|---|---|---|---|---|---|\n",
       "| 2017-04-03 |  53.5      | 174.5      | 354.5      | 231.5      | 204.0      | 110.5      | 125.5      | 132.0      | 129        | 103        | 144.5      | 101.0      | 7.188      | 92.46      | 4.6        |\n",
       "| 2017-05-26 | 294.0      | 228.5      | 305.0      | 193.5      | 150.5      |  37.0      |  51.5      |  54.5      |  71        | 190        | 224.0      | 182.5      | 2.969      | 31.33      | 0.0        |\n",
       "\n"
      ],
      "text/plain": [
       "  date       B1    B2    B3    B4    B5    B6    B7    B8    B8A B9  B11  \n",
       "1 2017-04-03  53.5 174.5 354.5 231.5 204.0 110.5 125.5 132.0 129 103 144.5\n",
       "2 2017-05-26 294.0 228.5 305.0 193.5 150.5  37.0  51.5  54.5  71 190 224.0\n",
       "  B12   Turbidité Débit Précipitations\n",
       "1 101.0 7.188     92.46 4.6           \n",
       "2 182.5 2.969     31.33 0.0           "
      ]
     },
     "metadata": {},
     "output_type": "display_data"
    }
   ],
   "source": [
    "library(readxl)\n",
    "data <- read_excel(\n",
    "    path = \"Desktop\\\\Memoire\\\\bases_de_donnees\\\\jeux_donnees\\\\vi_SR_débit_précip.xlsx\",\n",
    "    sheet = 1, # 1 = hastière, 2 = andenne, 3 = lixhe, 4 = tout\n",
    "    col_names = TRUE)\n",
    "head(data,2)"
   ]
  },
  {
   "cell_type": "code",
   "execution_count": 36,
   "metadata": {},
   "outputs": [
    {
     "data": {
      "text/html": [
       "<table>\n",
       "<thead><tr><th scope=col>B1</th><th scope=col>B2</th><th scope=col>B3</th><th scope=col>B4</th><th scope=col>B5</th><th scope=col>Précipitations</th><th scope=col>log.Débit</th></tr></thead>\n",
       "<tbody>\n",
       "\t<tr><td> 53.5   </td><td>174.5   </td><td>354.5   </td><td>231.5   </td><td>204.0   </td><td>4.6     </td><td>1.965954</td></tr>\n",
       "\t<tr><td>294.0   </td><td>228.5   </td><td>305.0   </td><td>193.5   </td><td>150.5   </td><td>0.0     </td><td>1.495960</td></tr>\n",
       "</tbody>\n",
       "</table>\n"
      ],
      "text/latex": [
       "\\begin{tabular}{r|lllllll}\n",
       " B1 & B2 & B3 & B4 & B5 & Précipitations & log.Débit\\\\\n",
       "\\hline\n",
       "\t  53.5    & 174.5    & 354.5    & 231.5    & 204.0    & 4.6      & 1.965954\\\\\n",
       "\t 294.0    & 228.5    & 305.0    & 193.5    & 150.5    & 0.0      & 1.495960\\\\\n",
       "\\end{tabular}\n"
      ],
      "text/markdown": [
       "\n",
       "| B1 | B2 | B3 | B4 | B5 | Précipitations | log.Débit |\n",
       "|---|---|---|---|---|---|---|\n",
       "|  53.5    | 174.5    | 354.5    | 231.5    | 204.0    | 4.6      | 1.965954 |\n",
       "| 294.0    | 228.5    | 305.0    | 193.5    | 150.5    | 0.0      | 1.495960 |\n",
       "\n"
      ],
      "text/plain": [
       "  B1    B2    B3    B4    B5    Précipitations log.Débit\n",
       "1  53.5 174.5 354.5 231.5 204.0 4.6            1.965954 \n",
       "2 294.0 228.5 305.0 193.5 150.5 0.0            1.495960 "
      ]
     },
     "metadata": {},
     "output_type": "display_data"
    }
   ],
   "source": [
    "data$log.Débit <- log10(data$Débit)\n",
    "data = subset(data, select = -c(date,Débit,Turbidité,B6,B7,B8,B8A,B9,B11,B12))\n",
    "res.pca <- prcomp(data, scale = TRUE)\n",
    "head(data,2)"
   ]
  },
  {
   "cell_type": "code",
   "execution_count": 41,
   "metadata": {},
   "outputs": [
    {
     "name": "stdout",
     "output_type": "stream",
     "text": [
      "      eigenvalue variance.percent cumulative.variance.percent\n",
      "Dim.1     4.8774           69.678                        69.7\n",
      "Dim.2     1.1390           16.272                        85.9\n",
      "Dim.3     0.5464            7.806                        93.8\n",
      "Dim.4     0.2842            4.060                        97.8\n",
      "Dim.5     0.1058            1.511                        99.3\n",
      "Dim.6     0.0284            0.406                        99.7\n",
      "Dim.7     0.0186            0.266                       100.0\n"
     ]
    },
    {
     "data": {
      "image/png": "[encoded data removed]",
      "text/plain": [
       "plot without title"
      ]
     },
     "metadata": {},
     "output_type": "display_data"
    },
    {
     "data": {
      "image/png": "[encoded data removed]",
      "text/plain": [
       "plot without title"
      ]
     },
     "metadata": {},
     "output_type": "display_data"
    }
   ],
   "source": [
    "eig.val <- get_eigenvalue(res.pca)\n",
    "print(eig.val, scientific = FALSE, digits = 3)\n",
    "fviz_eig(res.pca, addlabels = TRUE, main = \"Variance expliquée par CP's\",\n",
    "        xlab = \"Composantes principales\",\n",
    "        ylab = \"Pourcentage de la variance [%]\",\n",
    "        col =\"steelblue\")\n",
    "require(gridExtra)\n",
    "options(repr.plot.width=8, repr.plot.height=4)\n",
    "plot2 <- fviz_contrib(res.pca, choice = \"var\", axes = 1, top = 7, title = \"Contribution des variables à l'axe 1\")\n",
    "plot3 <- fviz_contrib(res.pca, choice = \"var\", axes = 2, top = 7, title = \"Contribution des variables à l'axe 1\")\n",
    "plot4 <- fviz_contrib(res.pca, choice = \"var\", axes = 3, top = 7, title = \"Contribution des variables à l'axe 1\")\n",
    "plot5 <- fviz_contrib(res.pca, choice = \"var\", axes = 4, top = 7, title = \"Contribution des variables à l'axe 1\")\n",
    "grid.arrange(plot2,plot3, plot4, plot5, ncol=2)"
   ]
  },
  {
   "cell_type": "code",
   "execution_count": 42,
   "metadata": {},
   "outputs": [
    {
     "name": "stdout",
     "output_type": "stream",
     "text": [
      "Standard deviations (1, .., p=7):\n",
      "[1] 2.21 1.07 0.74 0.53 0.33 0.17 0.14\n",
      "\n",
      "Rotation (n x k) = (7 x 7):\n",
      "                  PC1     PC2     PC3    PC4    PC5      PC6    PC7\n",
      "B1              0.378  0.2319 -0.2906 -0.830  0.063  0.15849  0.043\n",
      "B2              0.435  0.1030 -0.1759  0.188  0.469 -0.61714 -0.365\n",
      "B3              0.439  0.0099  0.0096  0.330  0.416  0.34953  0.635\n",
      "B4              0.444 -0.0290  0.0046  0.253 -0.226  0.56894 -0.603\n",
      "B5              0.435  0.0441 -0.1090  0.139 -0.742 -0.36055  0.312\n",
      "Précipitations -0.024  0.8740  0.4801  0.062 -0.029  0.00048 -0.018\n",
      "log.Débit       0.298 -0.4108  0.8013 -0.283  0.038 -0.13476 -0.015\n"
     ]
    }
   ],
   "source": [
    "print(res.pca, digits = 2)"
   ]
  },
  {
   "cell_type": "markdown",
   "metadata": {},
   "source": [
    "# Andenne"
   ]
  },
  {
   "cell_type": "code",
   "execution_count": 43,
   "metadata": {},
   "outputs": [
    {
     "data": {
      "text/html": [
       "<table>\n",
       "<thead><tr><th scope=col>MOY</th><th scope=col>B1</th><th scope=col>B2</th><th scope=col>B3</th><th scope=col>B4</th><th scope=col>B5</th><th scope=col>B6</th><th scope=col>B7</th><th scope=col>B8</th><th scope=col>B8A</th><th scope=col>B9</th><th scope=col>B11</th><th scope=col>B12</th><th scope=col>Turbidité</th><th scope=col>Débit</th><th scope=col>Précipitations</th></tr></thead>\n",
       "<tbody>\n",
       "\t<tr><td>2017-04-03</td><td>277.75    </td><td>315.75    </td><td>387.5     </td><td>235.25    </td><td>204.75    </td><td>154.5     </td><td>137.75    </td><td>157.75    </td><td>137.25    </td><td>539.5     </td><td>150.25    </td><td>109.75    </td><td>4.850     </td><td>129.71    </td><td>3.9       </td></tr>\n",
       "\t<tr><td>2017-05-06</td><td> 79.50    </td><td>116.00    </td><td>116.5     </td><td> 13.00    </td><td>  1.00    </td><td>  1.0     </td><td>  1.00    </td><td>  1.00    </td><td>  1.00    </td><td>111.5     </td><td> 62.50    </td><td> 82.50    </td><td>5.088     </td><td> 73.83    </td><td>9.8       </td></tr>\n",
       "</tbody>\n",
       "</table>\n"
      ],
      "text/latex": [
       "\\begin{tabular}{r|llllllllllllllll}\n",
       " MOY & B1 & B2 & B3 & B4 & B5 & B6 & B7 & B8 & B8A & B9 & B11 & B12 & Turbidité & Débit & Précipitations\\\\\n",
       "\\hline\n",
       "\t 2017-04-03 & 277.75     & 315.75     & 387.5      & 235.25     & 204.75     & 154.5      & 137.75     & 157.75     & 137.25     & 539.5      & 150.25     & 109.75     & 4.850      & 129.71     & 3.9       \\\\\n",
       "\t 2017-05-06 &  79.50     & 116.00     & 116.5      &  13.00     &   1.00     &   1.0      &   1.00     &   1.00     &   1.00     & 111.5      &  62.50     &  82.50     & 5.088      &  73.83     & 9.8       \\\\\n",
       "\\end{tabular}\n"
      ],
      "text/markdown": [
       "\n",
       "| MOY | B1 | B2 | B3 | B4 | B5 | B6 | B7 | B8 | B8A | B9 | B11 | B12 | Turbidité | Débit | Précipitations |\n",
       "|---|---|---|---|---|---|---|---|---|---|---|---|---|---|---|---|\n",
       "| 2017-04-03 | 277.75     | 315.75     | 387.5      | 235.25     | 204.75     | 154.5      | 137.75     | 157.75     | 137.25     | 539.5      | 150.25     | 109.75     | 4.850      | 129.71     | 3.9        |\n",
       "| 2017-05-06 |  79.50     | 116.00     | 116.5      |  13.00     |   1.00     |   1.0      |   1.00     |   1.00     |   1.00     | 111.5      |  62.50     |  82.50     | 5.088      |  73.83     | 9.8        |\n",
       "\n"
      ],
      "text/plain": [
       "  MOY        B1     B2     B3    B4     B5     B6    B7     B8     B8A    B9   \n",
       "1 2017-04-03 277.75 315.75 387.5 235.25 204.75 154.5 137.75 157.75 137.25 539.5\n",
       "2 2017-05-06  79.50 116.00 116.5  13.00   1.00   1.0   1.00   1.00   1.00 111.5\n",
       "  B11    B12    Turbidité Débit  Précipitations\n",
       "1 150.25 109.75 4.850     129.71 3.9           \n",
       "2  62.50  82.50 5.088      73.83 9.8           "
      ]
     },
     "metadata": {},
     "output_type": "display_data"
    }
   ],
   "source": [
    "library(readxl)\n",
    "data <- read_excel(\n",
    "    path = \"Desktop\\\\Memoire\\\\bases_de_donnees\\\\jeux_donnees\\\\vi_SR_débit_précip.xlsx\",\n",
    "    sheet = 2, # 1 = hastière, 2 = andenne, 3 = lixhe, 4 = tout\n",
    "    col_names = TRUE)\n",
    "head(data,2)"
   ]
  },
  {
   "cell_type": "code",
   "execution_count": 44,
   "metadata": {},
   "outputs": [
    {
     "data": {
      "text/html": [
       "<table>\n",
       "<thead><tr><th scope=col>B1</th><th scope=col>B2</th><th scope=col>B3</th><th scope=col>B4</th><th scope=col>B5</th><th scope=col>Précipitations</th><th scope=col>log.Débit</th></tr></thead>\n",
       "<tbody>\n",
       "\t<tr><td>277.75  </td><td>315.75  </td><td>387.5   </td><td>235.25  </td><td>204.75  </td><td>3.9     </td><td>2.112973</td></tr>\n",
       "\t<tr><td> 79.50  </td><td>116.00  </td><td>116.5   </td><td> 13.00  </td><td>  1.00  </td><td>9.8     </td><td>1.868233</td></tr>\n",
       "</tbody>\n",
       "</table>\n"
      ],
      "text/latex": [
       "\\begin{tabular}{r|lllllll}\n",
       " B1 & B2 & B3 & B4 & B5 & Précipitations & log.Débit\\\\\n",
       "\\hline\n",
       "\t 277.75   & 315.75   & 387.5    & 235.25   & 204.75   & 3.9      & 2.112973\\\\\n",
       "\t  79.50   & 116.00   & 116.5    &  13.00   &   1.00   & 9.8      & 1.868233\\\\\n",
       "\\end{tabular}\n"
      ],
      "text/markdown": [
       "\n",
       "| B1 | B2 | B3 | B4 | B5 | Précipitations | log.Débit |\n",
       "|---|---|---|---|---|---|---|\n",
       "| 277.75   | 315.75   | 387.5    | 235.25   | 204.75   | 3.9      | 2.112973 |\n",
       "|  79.50   | 116.00   | 116.5    |  13.00   |   1.00   | 9.8      | 1.868233 |\n",
       "\n"
      ],
      "text/plain": [
       "  B1     B2     B3    B4     B5     Précipitations log.Débit\n",
       "1 277.75 315.75 387.5 235.25 204.75 3.9            2.112973 \n",
       "2  79.50 116.00 116.5  13.00   1.00 9.8            1.868233 "
      ]
     },
     "metadata": {},
     "output_type": "display_data"
    }
   ],
   "source": [
    "data$log.Débit <- log10(data$Débit)\n",
    "data = subset(data, select = -c(MOY,Débit,Turbidité,B6,B7,B8,B8A,B9,B11,B12))\n",
    "res.pca <- prcomp(data, scale = TRUE)\n",
    "head(data,2)"
   ]
  },
  {
   "cell_type": "code",
   "execution_count": 45,
   "metadata": {},
   "outputs": [
    {
     "name": "stdout",
     "output_type": "stream",
     "text": [
      "      eigenvalue variance.percent cumulative.variance.percent\n",
      "Dim.1    5.03645           71.949                        71.9\n",
      "Dim.2    1.19048           17.007                        89.0\n",
      "Dim.3    0.49741            7.106                        96.1\n",
      "Dim.4    0.16512            2.359                        98.4\n",
      "Dim.5    0.07879            1.126                        99.5\n",
      "Dim.6    0.02232            0.319                        99.9\n",
      "Dim.7    0.00942            0.135                       100.0\n"
     ]
    },
    {
     "data": {
      "image/png": "[encoded data removed]",
      "text/plain": [
       "plot without title"
      ]
     },
     "metadata": {},
     "output_type": "display_data"
    },
    {
     "data": {
      "image/png": "[encoded data removed]",
      "text/plain": [
       "plot without title"
      ]
     },
     "metadata": {},
     "output_type": "display_data"
    }
   ],
   "source": [
    "eig.val <- get_eigenvalue(res.pca)\n",
    "print(eig.val, scientific = FALSE, digits = 3)\n",
    "fviz_eig(res.pca, addlabels = TRUE, main = \"Variance expliquée par CP's\",\n",
    "        xlab = \"Composantes principales\",\n",
    "        ylab = \"Pourcentage de la variance [%]\",\n",
    "        col =\"steelblue\")\n",
    "require(gridExtra)\n",
    "options(repr.plot.width=8, repr.plot.height=4)\n",
    "plot2 <- fviz_contrib(res.pca, choice = \"var\", axes = 1, top = 7, title = \"Contribution des variables à l'axe 1\")\n",
    "plot3 <- fviz_contrib(res.pca, choice = \"var\", axes = 2, top = 7, title = \"Contribution des variables à l'axe 1\")\n",
    "plot4 <- fviz_contrib(res.pca, choice = \"var\", axes = 3, top = 7, title = \"Contribution des variables à l'axe 1\")\n",
    "plot5 <- fviz_contrib(res.pca, choice = \"var\", axes = 4, top = 7, title = \"Contribution des variables à l'axe 1\")\n",
    "grid.arrange(plot2,plot3, plot4, plot5, ncol=2)"
   ]
  },
  {
   "cell_type": "code",
   "execution_count": 46,
   "metadata": {},
   "outputs": [
    {
     "name": "stdout",
     "output_type": "stream",
     "text": [
      "Standard deviations (1, .., p=7):\n",
      "[1] 2.244 1.091 0.705 0.406 0.281 0.149 0.097\n",
      "\n",
      "Rotation (n x k) = (7 x 7):\n",
      "                  PC1    PC2    PC3    PC4    PC5    PC6     PC7\n",
      "B1             -0.353  0.379  0.521 -0.592 -0.331  0.036 -0.0032\n",
      "B2             -0.430  0.096  0.072 -0.040  0.796  0.392  0.1109\n",
      "B3             -0.441 -0.023 -0.046  0.049  0.206 -0.765 -0.4152\n",
      "B4             -0.435 -0.137  0.025  0.295 -0.212 -0.210  0.7844\n",
      "B5             -0.424 -0.131  0.161  0.532 -0.346  0.421 -0.4440\n",
      "Précipitations  0.042 -0.867  0.413 -0.263  0.083 -0.006 -0.0215\n",
      "log.Débit      -0.354 -0.244 -0.724 -0.454 -0.209  0.196 -0.0490\n"
     ]
    }
   ],
   "source": [
    "print(res.pca, digits = 2)"
   ]
  },
  {
   "cell_type": "markdown",
   "metadata": {},
   "source": [
    "# Lixhe"
   ]
  },
  {
   "cell_type": "code",
   "execution_count": 47,
   "metadata": {},
   "outputs": [
    {
     "data": {
      "text/html": [
       "<table>\n",
       "<thead><tr><th scope=col>date</th><th scope=col>Turbidité</th><th scope=col>B1</th><th scope=col>B2</th><th scope=col>B3</th><th scope=col>B4</th><th scope=col>B5</th><th scope=col>B6</th><th scope=col>B7</th><th scope=col>B8</th><th scope=col>B8A</th><th scope=col>B9</th><th scope=col>B11</th><th scope=col>B12</th><th scope=col>Débit</th><th scope=col>Précipitations</th></tr></thead>\n",
       "<tbody>\n",
       "\t<tr><td>2017-04-26</td><td>0.681     </td><td>208       </td><td>265       </td><td>281       </td><td>174       </td><td>132       </td><td> 66       </td><td> 73       </td><td> 78       </td><td> 66       </td><td>  1       </td><td>114       </td><td>112       </td><td>53.89304  </td><td> 4.0      </td></tr>\n",
       "\t<tr><td>2017-05-06</td><td>0.856     </td><td>368       </td><td>395       </td><td>358       </td><td>300       </td><td>318       </td><td>361       </td><td>346       </td><td>536       </td><td>366       </td><td>533       </td><td>326       </td><td>260       </td><td>55.47750  </td><td>18.6      </td></tr>\n",
       "</tbody>\n",
       "</table>\n"
      ],
      "text/latex": [
       "\\begin{tabular}{r|llllllllllllllll}\n",
       " date & Turbidité & B1 & B2 & B3 & B4 & B5 & B6 & B7 & B8 & B8A & B9 & B11 & B12 & Débit & Précipitations\\\\\n",
       "\\hline\n",
       "\t 2017-04-26 & 0.681      & 208        & 265        & 281        & 174        & 132        &  66        &  73        &  78        &  66        &   1        & 114        & 112        & 53.89304   &  4.0      \\\\\n",
       "\t 2017-05-06 & 0.856      & 368        & 395        & 358        & 300        & 318        & 361        & 346        & 536        & 366        & 533        & 326        & 260        & 55.47750   & 18.6      \\\\\n",
       "\\end{tabular}\n"
      ],
      "text/markdown": [
       "\n",
       "| date | Turbidité | B1 | B2 | B3 | B4 | B5 | B6 | B7 | B8 | B8A | B9 | B11 | B12 | Débit | Précipitations |\n",
       "|---|---|---|---|---|---|---|---|---|---|---|---|---|---|---|---|\n",
       "| 2017-04-26 | 0.681      | 208        | 265        | 281        | 174        | 132        |  66        |  73        |  78        |  66        |   1        | 114        | 112        | 53.89304   |  4.0       |\n",
       "| 2017-05-06 | 0.856      | 368        | 395        | 358        | 300        | 318        | 361        | 346        | 536        | 366        | 533        | 326        | 260        | 55.47750   | 18.6       |\n",
       "\n"
      ],
      "text/plain": [
       "  date       Turbidité B1  B2  B3  B4  B5  B6  B7  B8  B8A B9  B11 B12 Débit   \n",
       "1 2017-04-26 0.681     208 265 281 174 132  66  73  78  66   1 114 112 53.89304\n",
       "2 2017-05-06 0.856     368 395 358 300 318 361 346 536 366 533 326 260 55.47750\n",
       "  Précipitations\n",
       "1  4.0          \n",
       "2 18.6          "
      ]
     },
     "metadata": {},
     "output_type": "display_data"
    }
   ],
   "source": [
    "library(readxl)\n",
    "data <- read_excel(\n",
    "    path = \"Desktop\\\\Memoire\\\\bases_de_donnees\\\\jeux_donnees\\\\vi_SR_débit_précip.xlsx\",\n",
    "    sheet = 3, # 1 = hastière, 2 = andenne, 3 = lixhe, 4 = tout\n",
    "    col_names = TRUE)\n",
    "head(data,2)"
   ]
  },
  {
   "cell_type": "code",
   "execution_count": 48,
   "metadata": {},
   "outputs": [
    {
     "data": {
      "text/html": [
       "<table>\n",
       "<thead><tr><th scope=col>B1</th><th scope=col>B2</th><th scope=col>B3</th><th scope=col>B4</th><th scope=col>B5</th><th scope=col>Précipitations</th><th scope=col>log.Débit</th></tr></thead>\n",
       "<tbody>\n",
       "\t<tr><td>208     </td><td>265     </td><td>281     </td><td>174     </td><td>132     </td><td> 4.0    </td><td>1.731533</td></tr>\n",
       "\t<tr><td>368     </td><td>395     </td><td>358     </td><td>300     </td><td>318     </td><td>18.6    </td><td>1.744117</td></tr>\n",
       "</tbody>\n",
       "</table>\n"
      ],
      "text/latex": [
       "\\begin{tabular}{r|lllllll}\n",
       " B1 & B2 & B3 & B4 & B5 & Précipitations & log.Débit\\\\\n",
       "\\hline\n",
       "\t 208      & 265      & 281      & 174      & 132      &  4.0     & 1.731533\\\\\n",
       "\t 368      & 395      & 358      & 300      & 318      & 18.6     & 1.744117\\\\\n",
       "\\end{tabular}\n"
      ],
      "text/markdown": [
       "\n",
       "| B1 | B2 | B3 | B4 | B5 | Précipitations | log.Débit |\n",
       "|---|---|---|---|---|---|---|\n",
       "| 208      | 265      | 281      | 174      | 132      |  4.0     | 1.731533 |\n",
       "| 368      | 395      | 358      | 300      | 318      | 18.6     | 1.744117 |\n",
       "\n"
      ],
      "text/plain": [
       "  B1  B2  B3  B4  B5  Précipitations log.Débit\n",
       "1 208 265 281 174 132  4.0           1.731533 \n",
       "2 368 395 358 300 318 18.6           1.744117 "
      ]
     },
     "metadata": {},
     "output_type": "display_data"
    }
   ],
   "source": [
    "data$log.Débit <- log10(data$Débit)\n",
    "data = subset(data, select = -c(date,Débit,Turbidité,B6,B7,B8,B8A,B9,B11,B12))\n",
    "res.pca <- prcomp(data, scale = TRUE)\n",
    "head(data,2)"
   ]
  },
  {
   "cell_type": "code",
   "execution_count": 49,
   "metadata": {},
   "outputs": [
    {
     "name": "stdout",
     "output_type": "stream",
     "text": [
      "      eigenvalue variance.percent cumulative.variance.percent\n",
      "Dim.1    5.01021           71.574                        71.6\n",
      "Dim.2    0.93974           13.425                        85.0\n",
      "Dim.3    0.61654            8.808                        93.8\n",
      "Dim.4    0.29379            4.197                        98.0\n",
      "Dim.5    0.11511            1.644                        99.6\n",
      "Dim.6    0.01536            0.219                        99.9\n",
      "Dim.7    0.00925            0.132                       100.0\n"
     ]
    },
    {
     "data": {
      "image/png": "[encoded data removed]",
      "text/plain": [
       "plot without title"
      ]
     },
     "metadata": {},
     "output_type": "display_data"
    },
    {
     "data": {
      "image/png": "[encoded data removed]",
      "text/plain": [
       "plot without title"
      ]
     },
     "metadata": {},
     "output_type": "display_data"
    }
   ],
   "source": [
    "eig.val <- get_eigenvalue(res.pca)\n",
    "print(eig.val, scientific = FALSE, digits = 3)\n",
    "fviz_eig(res.pca, addlabels = TRUE, main = \"Variance expliquée par CP's\",\n",
    "        xlab = \"Composantes principales\",\n",
    "        ylab = \"Pourcentage de la variance [%]\",\n",
    "        col =\"steelblue\")\n",
    "require(gridExtra)\n",
    "options(repr.plot.width=8, repr.plot.height=4)\n",
    "plot2 <- fviz_contrib(res.pca, choice = \"var\", axes = 1, top = 7, title = \"Contribution des variables à l'axe 1\")\n",
    "plot3 <- fviz_contrib(res.pca, choice = \"var\", axes = 2, top = 7, title = \"Contribution des variables à l'axe 1\")\n",
    "plot4 <- fviz_contrib(res.pca, choice = \"var\", axes = 3, top = 7, title = \"Contribution des variables à l'axe 1\")\n",
    "plot5 <- fviz_contrib(res.pca, choice = \"var\", axes = 4, top = 7, title = \"Contribution des variables à l'axe 1\")\n",
    "grid.arrange(plot2,plot3, plot4, plot5, ncol=2)"
   ]
  },
  {
   "cell_type": "code",
   "execution_count": 50,
   "metadata": {},
   "outputs": [
    {
     "name": "stdout",
     "output_type": "stream",
     "text": [
      "Standard deviations (1, .., p=7):\n",
      "[1] 2.238 0.969 0.785 0.542 0.339 0.124 0.096\n",
      "\n",
      "Rotation (n x k) = (7 x 7):\n",
      "                 PC1     PC2    PC3    PC4    PC5    PC6    PC7\n",
      "B1             -0.37  0.0505  0.588 -0.507  0.466  0.198 -0.032\n",
      "B2             -0.43  0.0713  0.149 -0.221 -0.476 -0.714 -0.030\n",
      "B3             -0.43  0.1373 -0.025  0.013 -0.558  0.625  0.301\n",
      "B4             -0.43 -0.0069 -0.078  0.377  0.056  0.126 -0.802\n",
      "B5             -0.42  0.0036  0.065  0.618  0.381 -0.201  0.505\n",
      "Précipitations -0.13 -0.9843 -0.016 -0.069 -0.066  0.042  0.051\n",
      "log.Débit      -0.33  0.0683 -0.788 -0.405  0.303 -0.037  0.081\n"
     ]
    }
   ],
   "source": [
    "print(res.pca, digits = 2)"
   ]
  },
  {
   "cell_type": "markdown",
   "metadata": {},
   "source": [
    "# Trois stations"
   ]
  },
  {
   "cell_type": "code",
   "execution_count": 51,
   "metadata": {},
   "outputs": [
    {
     "data": {
      "text/html": [
       "<table>\n",
       "<thead><tr><th scope=col>date</th><th scope=col>Turbidité</th><th scope=col>B1</th><th scope=col>B2</th><th scope=col>B3</th><th scope=col>B4</th><th scope=col>B5</th><th scope=col>B6</th><th scope=col>B7</th><th scope=col>B8</th><th scope=col>B8A</th><th scope=col>B9</th><th scope=col>B11</th><th scope=col>B12</th><th scope=col>Débit</th><th scope=col>Précipitations</th></tr></thead>\n",
       "<tbody>\n",
       "\t<tr><td>2017-04-03</td><td>7.188     </td><td> 53.5     </td><td>174.5     </td><td>354.5     </td><td>231.5     </td><td>204.0     </td><td>110.5     </td><td>125.5     </td><td>132.0     </td><td>129       </td><td>103       </td><td>144.5     </td><td>101.0     </td><td>92.46     </td><td>4.6       </td></tr>\n",
       "\t<tr><td>2017-05-26</td><td>2.969     </td><td>294.0     </td><td>228.5     </td><td>305.0     </td><td>193.5     </td><td>150.5     </td><td> 37.0     </td><td> 51.5     </td><td> 54.5     </td><td> 71       </td><td>190       </td><td>224.0     </td><td>182.5     </td><td>31.33     </td><td>0.0       </td></tr>\n",
       "</tbody>\n",
       "</table>\n"
      ],
      "text/latex": [
       "\\begin{tabular}{r|llllllllllllllll}\n",
       " date & Turbidité & B1 & B2 & B3 & B4 & B5 & B6 & B7 & B8 & B8A & B9 & B11 & B12 & Débit & Précipitations\\\\\n",
       "\\hline\n",
       "\t 2017-04-03 & 7.188      &  53.5      & 174.5      & 354.5      & 231.5      & 204.0      & 110.5      & 125.5      & 132.0      & 129        & 103        & 144.5      & 101.0      & 92.46      & 4.6       \\\\\n",
       "\t 2017-05-26 & 2.969      & 294.0      & 228.5      & 305.0      & 193.5      & 150.5      &  37.0      &  51.5      &  54.5      &  71        & 190        & 224.0      & 182.5      & 31.33      & 0.0       \\\\\n",
       "\\end{tabular}\n"
      ],
      "text/markdown": [
       "\n",
       "| date | Turbidité | B1 | B2 | B3 | B4 | B5 | B6 | B7 | B8 | B8A | B9 | B11 | B12 | Débit | Précipitations |\n",
       "|---|---|---|---|---|---|---|---|---|---|---|---|---|---|---|---|\n",
       "| 2017-04-03 | 7.188      |  53.5      | 174.5      | 354.5      | 231.5      | 204.0      | 110.5      | 125.5      | 132.0      | 129        | 103        | 144.5      | 101.0      | 92.46      | 4.6        |\n",
       "| 2017-05-26 | 2.969      | 294.0      | 228.5      | 305.0      | 193.5      | 150.5      |  37.0      |  51.5      |  54.5      |  71        | 190        | 224.0      | 182.5      | 31.33      | 0.0        |\n",
       "\n"
      ],
      "text/plain": [
       "  date       Turbidité B1    B2    B3    B4    B5    B6    B7    B8    B8A B9 \n",
       "1 2017-04-03 7.188      53.5 174.5 354.5 231.5 204.0 110.5 125.5 132.0 129 103\n",
       "2 2017-05-26 2.969     294.0 228.5 305.0 193.5 150.5  37.0  51.5  54.5  71 190\n",
       "  B11   B12   Débit Précipitations\n",
       "1 144.5 101.0 92.46 4.6           \n",
       "2 224.0 182.5 31.33 0.0           "
      ]
     },
     "metadata": {},
     "output_type": "display_data"
    }
   ],
   "source": [
    "library(readxl)\n",
    "data <- read_excel(\n",
    "    path = \"Desktop\\\\Memoire\\\\bases_de_donnees\\\\jeux_donnees\\\\vi_SR_débit_précip.xlsx\",\n",
    "    sheet = 4, # 1 = hastière, 2 = andenne, 3 = lixhe, 4 = tout\n",
    "    col_names = TRUE)\n",
    "head(data,2)"
   ]
  },
  {
   "cell_type": "code",
   "execution_count": 52,
   "metadata": {},
   "outputs": [
    {
     "data": {
      "text/html": [
       "<table>\n",
       "<thead><tr><th scope=col>B1</th><th scope=col>B2</th><th scope=col>B3</th><th scope=col>B4</th><th scope=col>B5</th><th scope=col>Précipitations</th><th scope=col>log.Débit</th></tr></thead>\n",
       "<tbody>\n",
       "\t<tr><td> 53.5   </td><td>174.5   </td><td>354.5   </td><td>231.5   </td><td>204.0   </td><td>4.6     </td><td>1.965954</td></tr>\n",
       "\t<tr><td>294.0   </td><td>228.5   </td><td>305.0   </td><td>193.5   </td><td>150.5   </td><td>0.0     </td><td>1.495960</td></tr>\n",
       "</tbody>\n",
       "</table>\n"
      ],
      "text/latex": [
       "\\begin{tabular}{r|lllllll}\n",
       " B1 & B2 & B3 & B4 & B5 & Précipitations & log.Débit\\\\\n",
       "\\hline\n",
       "\t  53.5    & 174.5    & 354.5    & 231.5    & 204.0    & 4.6      & 1.965954\\\\\n",
       "\t 294.0    & 228.5    & 305.0    & 193.5    & 150.5    & 0.0      & 1.495960\\\\\n",
       "\\end{tabular}\n"
      ],
      "text/markdown": [
       "\n",
       "| B1 | B2 | B3 | B4 | B5 | Précipitations | log.Débit |\n",
       "|---|---|---|---|---|---|---|\n",
       "|  53.5    | 174.5    | 354.5    | 231.5    | 204.0    | 4.6      | 1.965954 |\n",
       "| 294.0    | 228.5    | 305.0    | 193.5    | 150.5    | 0.0      | 1.495960 |\n",
       "\n"
      ],
      "text/plain": [
       "  B1    B2    B3    B4    B5    Précipitations log.Débit\n",
       "1  53.5 174.5 354.5 231.5 204.0 4.6            1.965954 \n",
       "2 294.0 228.5 305.0 193.5 150.5 0.0            1.495960 "
      ]
     },
     "metadata": {},
     "output_type": "display_data"
    }
   ],
   "source": [
    "data$log.Débit <- log10(data$Débit)\n",
    "data = subset(data, select = -c(date,Débit,Turbidité,B6,B7,B8,B8A,B9,B11,B12))\n",
    "res.pca <- prcomp(data, scale = TRUE)\n",
    "head(data,2)"
   ]
  },
  {
   "cell_type": "code",
   "execution_count": 53,
   "metadata": {},
   "outputs": [
    {
     "name": "stdout",
     "output_type": "stream",
     "text": [
      "      eigenvalue variance.percent cumulative.variance.percent\n",
      "Dim.1      4.798           68.549                        68.5\n",
      "Dim.2      1.014           14.490                        83.0\n",
      "Dim.3      0.778           11.113                        94.2\n",
      "Dim.4      0.232            3.312                        97.5\n",
      "Dim.5      0.131            1.864                        99.3\n",
      "Dim.6      0.034            0.485                        99.8\n",
      "Dim.7      0.013            0.186                       100.0\n"
     ]
    },
    {
     "data": {
      "image/png": "[encoded data removed]",
      "text/plain": [
       "plot without title"
      ]
     },
     "metadata": {},
     "output_type": "display_data"
    },
    {
     "data": {
      "image/png": "[encoded data removed]",
      "text/plain": [
       "plot without title"
      ]
     },
     "metadata": {},
     "output_type": "display_data"
    }
   ],
   "source": [
    "eig.val <- get_eigenvalue(res.pca)\n",
    "print(eig.val, scientific = FALSE, digits = 3)\n",
    "fviz_eig(res.pca, addlabels = TRUE, main = \"Variance expliquée par CP's\",\n",
    "        xlab = \"Composantes principales\",\n",
    "        ylab = \"Pourcentage de la variance [%]\",\n",
    "        col =\"steelblue\")\n",
    "require(gridExtra)\n",
    "options(repr.plot.width=8, repr.plot.height=4)\n",
    "plot2 <- fviz_contrib(res.pca, choice = \"var\", axes = 1, top = 7, title = \"Contribution des variables à l'axe 1\")\n",
    "plot3 <- fviz_contrib(res.pca, choice = \"var\", axes = 2, top = 7, title = \"Contribution des variables à l'axe 1\")\n",
    "plot4 <- fviz_contrib(res.pca, choice = \"var\", axes = 3, top = 7, title = \"Contribution des variables à l'axe 1\")\n",
    "plot5 <- fviz_contrib(res.pca, choice = \"var\", axes = 4, top = 7, title = \"Contribution des variables à l'axe 1\")\n",
    "grid.arrange(plot2,plot3, plot4, plot5, ncol=2)"
   ]
  },
  {
   "cell_type": "code",
   "execution_count": 54,
   "metadata": {},
   "outputs": [
    {
     "name": "stdout",
     "output_type": "stream",
     "text": [
      "Standard deviations (1, .., p=7):\n",
      "[1] 2.19 1.01 0.88 0.48 0.36 0.18 0.11\n",
      "\n",
      "Rotation (n x k) = (7 x 7):\n",
      "                 PC1     PC2    PC3    PC4    PC5     PC6    PC7\n",
      "B1             0.381  0.0797 -0.469  0.678 -0.374  0.1690  0.018\n",
      "B2             0.442  0.0002 -0.136  0.095  0.461 -0.7432  0.112\n",
      "B3             0.443 -0.0305 -0.044 -0.090  0.563  0.5461 -0.421\n",
      "B4             0.447  0.0048  0.065 -0.343 -0.087  0.2722  0.772\n",
      "B5             0.432  0.0327 -0.020 -0.500 -0.553 -0.2150 -0.458\n",
      "Précipitations 0.036  0.9646  0.251  0.060  0.036  0.0031 -0.018\n",
      "log.Débit      0.275 -0.2472  0.832  0.390 -0.124 -0.0245 -0.059\n"
     ]
    }
   ],
   "source": [
    "print(res.pca, digits = 2)"
   ]
  },
  {
   "cell_type": "code",
   "execution_count": null,
   "metadata": {},
   "outputs": [],
   "source": []
  }
 ],
 "metadata": {
  "kernelspec": {
   "display_name": "R",
   "language": "R",
   "name": "ir"
  },
  "language_info": {
   "codemirror_mode": "r",
   "file_extension": ".r",
   "mimetype": "text/x-r-source",
   "name": "R",
   "pygments_lexer": "r",
   "version": "3.6.1"
  }
 },
 "nbformat": 4,
 "nbformat_minor": 4
}
