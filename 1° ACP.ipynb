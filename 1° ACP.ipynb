{
 "cells": [
  {
   "cell_type": "code",
   "execution_count": 1,
   "metadata": {},
   "outputs": [
    {
     "name": "stdout",
     "output_type": "stream",
     "text": [
      "package 'tibble' successfully unpacked and MD5 sums checked\n",
      "\n",
      "The downloaded binary packages are in\n",
      "\tC:\\Users\\daxel\\AppData\\Local\\Temp\\RtmpyGlKCE\\downloaded_packages\n"
     ]
    },
    {
     "name": "stderr",
     "output_type": "stream",
     "text": [
      "Warning message:\n",
      "\"package 'tibble' was built under R version 3.6.3\""
     ]
    },
    {
     "name": "stdout",
     "output_type": "stream",
     "text": [
      "package 'FactoMineR' successfully unpacked and MD5 sums checked\n",
      "package 'factoextra' successfully unpacked and MD5 sums checked\n",
      "\n",
      "The downloaded binary packages are in\n",
      "\tC:\\Users\\daxel\\AppData\\Local\\Temp\\RtmpyGlKCE\\downloaded_packages\n"
     ]
    },
    {
     "name": "stderr",
     "output_type": "stream",
     "text": [
      "Warning message:\n",
      "\"package 'FactoMineR' was built under R version 3.6.3\"Warning message:\n",
      "\"package 'factoextra' was built under R version 3.6.3\"Loading required package: ggplot2\n",
      "Warning message:\n",
      "\"package 'ggplot2' was built under R version 3.6.3\"Welcome! Want to learn more? See two factoextra-related books at https://goo.gl/ve3WBa\n",
      "Warning message:\n",
      "\"package 'dplyr' was built under R version 3.6.3\"\n",
      "Attaching package: 'dplyr'\n",
      "\n",
      "The following objects are masked from 'package:stats':\n",
      "\n",
      "    filter, lag\n",
      "\n",
      "The following objects are masked from 'package:base':\n",
      "\n",
      "    intersect, setdiff, setequal, union\n",
      "\n"
     ]
    }
   ],
   "source": [
    "install.packages(\"tibble\")\n",
    "library(\"tibble\")\n",
    "install.packages(c(\"FactoMineR\", \"factoextra\"))\n",
    "library(\"FactoMineR\")\n",
    "library(\"factoextra\")\n",
    "library(dplyr)\n",
    "library(repr)"
   ]
  },
  {
   "cell_type": "code",
   "execution_count": 2,
   "metadata": {},
   "outputs": [
    {
     "name": "stdout",
     "output_type": "stream",
     "text": [
      "package 'corrplot' successfully unpacked and MD5 sums checked\n",
      "\n",
      "The downloaded binary packages are in\n",
      "\tC:\\Users\\daxel\\AppData\\Local\\Temp\\RtmpyGlKCE\\downloaded_packages\n",
      "package 'PerformanceAnalytics' successfully unpacked and MD5 sums checked\n",
      "\n",
      "The downloaded binary packages are in\n",
      "\tC:\\Users\\daxel\\AppData\\Local\\Temp\\RtmpyGlKCE\\downloaded_packages\n"
     ]
    },
    {
     "name": "stderr",
     "output_type": "stream",
     "text": [
      "Warning message:\n",
      "\"package 'corrplot' was built under R version 3.6.3\"corrplot 0.84 loaded\n",
      "Warning message:\n",
      "\"package 'PerformanceAnalytics' was built under R version 3.6.3\"Loading required package: xts\n",
      "Loading required package: zoo\n",
      "\n",
      "Attaching package: 'zoo'\n",
      "\n",
      "The following objects are masked from 'package:base':\n",
      "\n",
      "    as.Date, as.Date.numeric\n",
      "\n",
      "Registered S3 method overwritten by 'xts':\n",
      "  method     from\n",
      "  as.zoo.xts zoo \n",
      "\n",
      "Attaching package: 'xts'\n",
      "\n",
      "The following objects are masked from 'package:dplyr':\n",
      "\n",
      "    first, last\n",
      "\n",
      "\n",
      "Attaching package: 'PerformanceAnalytics'\n",
      "\n",
      "The following object is masked from 'package:graphics':\n",
      "\n",
      "    legend\n",
      "\n"
     ]
    }
   ],
   "source": [
    "install.packages(\"corrplot\")\n",
    "install.packages(\"PerformanceAnalytics\")\n",
    "library(corrplot)\n",
    "library(\"PerformanceAnalytics\")"
   ]
  },
  {
   "cell_type": "markdown",
   "metadata": {},
   "source": [
    "# Hastière"
   ]
  },
  {
   "cell_type": "code",
   "execution_count": 3,
   "metadata": {},
   "outputs": [
    {
     "data": {
      "text/html": [
       "<table>\n",
       "<thead><tr><th scope=col>date</th><th scope=col>B1</th><th scope=col>B2</th><th scope=col>B3</th><th scope=col>B4</th><th scope=col>B5</th><th scope=col>B6</th><th scope=col>B7</th><th scope=col>B8</th><th scope=col>B8A</th><th scope=col>B9</th><th scope=col>B11</th><th scope=col>B12</th><th scope=col>Turbidité</th></tr></thead>\n",
       "<tbody>\n",
       "\t<tr><td>2017-04-03</td><td> 53.5     </td><td>174.5     </td><td>354.5     </td><td>231.5     </td><td>204.0     </td><td>110.5     </td><td>125.5     </td><td>132.0     </td><td>129       </td><td>103       </td><td>144.5     </td><td>101.0     </td><td>7.188     </td></tr>\n",
       "\t<tr><td>2017-05-26</td><td>294.0     </td><td>228.5     </td><td>305.0     </td><td>193.5     </td><td>150.5     </td><td> 37.0     </td><td> 51.5     </td><td> 54.5     </td><td> 71       </td><td>190       </td><td>224.0     </td><td>182.5     </td><td>2.969     </td></tr>\n",
       "</tbody>\n",
       "</table>\n"
      ],
      "text/latex": [
       "\\begin{tabular}{r|llllllllllllll}\n",
       " date & B1 & B2 & B3 & B4 & B5 & B6 & B7 & B8 & B8A & B9 & B11 & B12 & Turbidité\\\\\n",
       "\\hline\n",
       "\t 2017-04-03 &  53.5      & 174.5      & 354.5      & 231.5      & 204.0      & 110.5      & 125.5      & 132.0      & 129        & 103        & 144.5      & 101.0      & 7.188     \\\\\n",
       "\t 2017-05-26 & 294.0      & 228.5      & 305.0      & 193.5      & 150.5      &  37.0      &  51.5      &  54.5      &  71        & 190        & 224.0      & 182.5      & 2.969     \\\\\n",
       "\\end{tabular}\n"
      ],
      "text/markdown": [
       "\n",
       "| date | B1 | B2 | B3 | B4 | B5 | B6 | B7 | B8 | B8A | B9 | B11 | B12 | Turbidité |\n",
       "|---|---|---|---|---|---|---|---|---|---|---|---|---|---|\n",
       "| 2017-04-03 |  53.5      | 174.5      | 354.5      | 231.5      | 204.0      | 110.5      | 125.5      | 132.0      | 129        | 103        | 144.5      | 101.0      | 7.188      |\n",
       "| 2017-05-26 | 294.0      | 228.5      | 305.0      | 193.5      | 150.5      |  37.0      |  51.5      |  54.5      |  71        | 190        | 224.0      | 182.5      | 2.969      |\n",
       "\n"
      ],
      "text/plain": [
       "  date       B1    B2    B3    B4    B5    B6    B7    B8    B8A B9  B11  \n",
       "1 2017-04-03  53.5 174.5 354.5 231.5 204.0 110.5 125.5 132.0 129 103 144.5\n",
       "2 2017-05-26 294.0 228.5 305.0 193.5 150.5  37.0  51.5  54.5  71 190 224.0\n",
       "  B12   Turbidité\n",
       "1 101.0 7.188    \n",
       "2 182.5 2.969    "
      ]
     },
     "metadata": {},
     "output_type": "display_data"
    }
   ],
   "source": [
    "library(readxl)\n",
    "data <- read_excel(\n",
    "    path = \"Desktop\\\\Memoire\\\\bases_de_donnees\\\\jeux_donnees\\\\i_SR.xlsx\",\n",
    "    sheet = 1, # 1 = hastière, 2 = andenne, 3 = lixhe, 4 = tout\n",
    "    col_names = TRUE)\n",
    "head(data,2)"
   ]
  },
  {
   "cell_type": "code",
   "execution_count": 4,
   "metadata": {},
   "outputs": [],
   "source": [
    "data = subset(data, select = -c(date))\n",
    "res.pca <- prcomp(data, scale = TRUE)\n",
    "var <- get_pca_var(res.pca)"
   ]
  },
  {
   "cell_type": "code",
   "execution_count": null,
   "metadata": {},
   "outputs": [],
   "source": [
    "fviz_pca_var(res.pca, col.var = \"black\", title = \"Station d'Hastière\")"
   ]
  },
  {
   "cell_type": "code",
   "execution_count": 22,
   "metadata": {},
   "outputs": [],
   "source": [
    "#chart.Correlation(data, histogram=TRUE)"
   ]
  },
  {
   "cell_type": "markdown",
   "metadata": {},
   "source": [
    "# Andenne"
   ]
  },
  {
   "cell_type": "code",
   "execution_count": 8,
   "metadata": {},
   "outputs": [
    {
     "data": {
      "text/html": [
       "<table>\n",
       "<thead><tr><th scope=col>MOY</th><th scope=col>B1</th><th scope=col>B2</th><th scope=col>B3</th><th scope=col>B4</th><th scope=col>B5</th><th scope=col>B6</th><th scope=col>B7</th><th scope=col>B8</th><th scope=col>B8A</th><th scope=col>B9</th><th scope=col>B11</th><th scope=col>B12</th><th scope=col>Turbidité</th></tr></thead>\n",
       "<tbody>\n",
       "\t<tr><td>2017-04-03</td><td>277.75    </td><td>315.75    </td><td>387.5     </td><td>235.25    </td><td>204.75    </td><td>154.5     </td><td>137.75    </td><td>157.75    </td><td>137.25    </td><td>539.5     </td><td>150.25    </td><td>109.75    </td><td>4.850     </td></tr>\n",
       "\t<tr><td>2017-05-06</td><td> 79.50    </td><td>116.00    </td><td>116.5     </td><td> 13.00    </td><td>  1.00    </td><td>  1.0     </td><td>  1.00    </td><td>  1.00    </td><td>  1.00    </td><td>111.5     </td><td> 62.50    </td><td> 82.50    </td><td>5.088     </td></tr>\n",
       "</tbody>\n",
       "</table>\n"
      ],
      "text/latex": [
       "\\begin{tabular}{r|llllllllllllll}\n",
       " MOY & B1 & B2 & B3 & B4 & B5 & B6 & B7 & B8 & B8A & B9 & B11 & B12 & Turbidité\\\\\n",
       "\\hline\n",
       "\t 2017-04-03 & 277.75     & 315.75     & 387.5      & 235.25     & 204.75     & 154.5      & 137.75     & 157.75     & 137.25     & 539.5      & 150.25     & 109.75     & 4.850     \\\\\n",
       "\t 2017-05-06 &  79.50     & 116.00     & 116.5      &  13.00     &   1.00     &   1.0      &   1.00     &   1.00     &   1.00     & 111.5      &  62.50     &  82.50     & 5.088     \\\\\n",
       "\\end{tabular}\n"
      ],
      "text/markdown": [
       "\n",
       "| MOY | B1 | B2 | B3 | B4 | B5 | B6 | B7 | B8 | B8A | B9 | B11 | B12 | Turbidité |\n",
       "|---|---|---|---|---|---|---|---|---|---|---|---|---|---|\n",
       "| 2017-04-03 | 277.75     | 315.75     | 387.5      | 235.25     | 204.75     | 154.5      | 137.75     | 157.75     | 137.25     | 539.5      | 150.25     | 109.75     | 4.850      |\n",
       "| 2017-05-06 |  79.50     | 116.00     | 116.5      |  13.00     |   1.00     |   1.0      |   1.00     |   1.00     |   1.00     | 111.5      |  62.50     |  82.50     | 5.088      |\n",
       "\n"
      ],
      "text/plain": [
       "  MOY        B1     B2     B3    B4     B5     B6    B7     B8     B8A    B9   \n",
       "1 2017-04-03 277.75 315.75 387.5 235.25 204.75 154.5 137.75 157.75 137.25 539.5\n",
       "2 2017-05-06  79.50 116.00 116.5  13.00   1.00   1.0   1.00   1.00   1.00 111.5\n",
       "  B11    B12    Turbidité\n",
       "1 150.25 109.75 4.850    \n",
       "2  62.50  82.50 5.088    "
      ]
     },
     "metadata": {},
     "output_type": "display_data"
    }
   ],
   "source": [
    "library(readxl)\n",
    "data <- read_excel(\n",
    "    path = \"Desktop\\\\Memoire\\\\bases_de_donnees\\\\jeux_donnees\\\\i_SR.xlsx\",\n",
    "    sheet = 2, # 1 = hastière, 2 = andenne, 3 = lixhe, 4 = tout\n",
    "    col_names = TRUE)\n",
    "head(data,2)"
   ]
  },
  {
   "cell_type": "code",
   "execution_count": 9,
   "metadata": {},
   "outputs": [],
   "source": [
    "data = subset(data, select = -c(MOY))\n",
    "res.pca <- prcomp(data, scale = TRUE)\n",
    "var <- get_pca_var(res.pca)"
   ]
  },
  {
   "cell_type": "code",
   "execution_count": 10,
   "metadata": {},
   "outputs": [
    {
     "data": {
      "image/png": "[encoded data removed]",
      "text/plain": [
       "plot without title"
      ]
     },
     "metadata": {},
     "output_type": "display_data"
    }
   ],
   "source": [
    "fviz_pca_var(res.pca, axes = 1:2, col.var = \"black\", title = \"Station d'Andenne\")"
   ]
  },
  {
   "cell_type": "code",
   "execution_count": 40,
   "metadata": {},
   "outputs": [],
   "source": [
    "#var$coord"
   ]
  },
  {
   "cell_type": "markdown",
   "metadata": {},
   "source": [
    "# Lixhe"
   ]
  },
  {
   "cell_type": "code",
   "execution_count": 11,
   "metadata": {},
   "outputs": [
    {
     "data": {
      "text/html": [
       "<table>\n",
       "<thead><tr><th scope=col>date</th><th scope=col>Turbidité</th><th scope=col>B1</th><th scope=col>B2</th><th scope=col>B3</th><th scope=col>B4</th><th scope=col>B5</th><th scope=col>B6</th><th scope=col>B7</th><th scope=col>B8</th><th scope=col>B8A</th><th scope=col>B9</th><th scope=col>B11</th><th scope=col>B12</th></tr></thead>\n",
       "<tbody>\n",
       "\t<tr><td>2017-04-26</td><td>0.681     </td><td>208       </td><td>265       </td><td>281       </td><td>174       </td><td>132       </td><td> 66       </td><td> 73       </td><td> 78       </td><td> 66       </td><td>  1       </td><td>114       </td><td>112       </td></tr>\n",
       "\t<tr><td>2017-05-06</td><td>0.856     </td><td>368       </td><td>395       </td><td>358       </td><td>300       </td><td>318       </td><td>361       </td><td>346       </td><td>536       </td><td>366       </td><td>533       </td><td>326       </td><td>260       </td></tr>\n",
       "</tbody>\n",
       "</table>\n"
      ],
      "text/latex": [
       "\\begin{tabular}{r|llllllllllllll}\n",
       " date & Turbidité & B1 & B2 & B3 & B4 & B5 & B6 & B7 & B8 & B8A & B9 & B11 & B12\\\\\n",
       "\\hline\n",
       "\t 2017-04-26 & 0.681      & 208        & 265        & 281        & 174        & 132        &  66        &  73        &  78        &  66        &   1        & 114        & 112       \\\\\n",
       "\t 2017-05-06 & 0.856      & 368        & 395        & 358        & 300        & 318        & 361        & 346        & 536        & 366        & 533        & 326        & 260       \\\\\n",
       "\\end{tabular}\n"
      ],
      "text/markdown": [
       "\n",
       "| date | Turbidité | B1 | B2 | B3 | B4 | B5 | B6 | B7 | B8 | B8A | B9 | B11 | B12 |\n",
       "|---|---|---|---|---|---|---|---|---|---|---|---|---|---|\n",
       "| 2017-04-26 | 0.681      | 208        | 265        | 281        | 174        | 132        |  66        |  73        |  78        |  66        |   1        | 114        | 112        |\n",
       "| 2017-05-06 | 0.856      | 368        | 395        | 358        | 300        | 318        | 361        | 346        | 536        | 366        | 533        | 326        | 260        |\n",
       "\n"
      ],
      "text/plain": [
       "  date       Turbidité B1  B2  B3  B4  B5  B6  B7  B8  B8A B9  B11 B12\n",
       "1 2017-04-26 0.681     208 265 281 174 132  66  73  78  66   1 114 112\n",
       "2 2017-05-06 0.856     368 395 358 300 318 361 346 536 366 533 326 260"
      ]
     },
     "metadata": {},
     "output_type": "display_data"
    }
   ],
   "source": [
    "library(readxl)\n",
    "data <- read_excel(\n",
    "    path = \"Desktop\\\\Memoire\\\\bases_de_donnees\\\\jeux_donnees\\\\i_SR.xlsx\",\n",
    "    sheet = 3, # 1 = hastière, 2 = andenne, 3 = lixhe, 4 = tout\n",
    "    col_names = TRUE)\n",
    "head(data,2)"
   ]
  },
  {
   "cell_type": "code",
   "execution_count": 12,
   "metadata": {},
   "outputs": [],
   "source": [
    "data = subset(data, select = -c(date))\n",
    "res.pca <- prcomp(data, scale = TRUE)\n",
    "var <- get_pca_var(res.pca)"
   ]
  },
  {
   "cell_type": "code",
   "execution_count": 13,
   "metadata": {},
   "outputs": [
    {
     "data": {
      "image/png": "[encoded data removed]",
      "text/plain": [
       "plot without title"
      ]
     },
     "metadata": {},
     "output_type": "display_data"
    }
   ],
   "source": [
    "fviz_pca_var(res.pca, col.var = \"black\", title = \"Station de Lixhe\")"
   ]
  },
  {
   "cell_type": "code",
   "execution_count": 28,
   "metadata": {},
   "outputs": [],
   "source": [
    "#chart.Correlation(data, histogram=TRUE)"
   ]
  },
  {
   "cell_type": "markdown",
   "metadata": {},
   "source": [
    "# Stations groupées"
   ]
  },
  {
   "cell_type": "code",
   "execution_count": 14,
   "metadata": {},
   "outputs": [
    {
     "data": {
      "text/html": [
       "<table>\n",
       "<thead><tr><th scope=col>date</th><th scope=col>Turbidité</th><th scope=col>B1</th><th scope=col>B2</th><th scope=col>B3</th><th scope=col>B4</th><th scope=col>B5</th><th scope=col>B6</th><th scope=col>B7</th><th scope=col>B8</th><th scope=col>B8A</th><th scope=col>B9</th><th scope=col>B11</th><th scope=col>B12</th></tr></thead>\n",
       "<tbody>\n",
       "\t<tr><td>2017-04-03</td><td>7.188     </td><td> 53.5     </td><td>174.5     </td><td>354.5     </td><td>231.5     </td><td>204.0     </td><td>110.5     </td><td>125.5     </td><td>132.0     </td><td>129       </td><td>103       </td><td>144.5     </td><td>101.0     </td></tr>\n",
       "\t<tr><td>2017-05-26</td><td>2.969     </td><td>294.0     </td><td>228.5     </td><td>305.0     </td><td>193.5     </td><td>150.5     </td><td> 37.0     </td><td> 51.5     </td><td> 54.5     </td><td> 71       </td><td>190       </td><td>224.0     </td><td>182.5     </td></tr>\n",
       "</tbody>\n",
       "</table>\n"
      ],
      "text/latex": [
       "\\begin{tabular}{r|llllllllllllll}\n",
       " date & Turbidité & B1 & B2 & B3 & B4 & B5 & B6 & B7 & B8 & B8A & B9 & B11 & B12\\\\\n",
       "\\hline\n",
       "\t 2017-04-03 & 7.188      &  53.5      & 174.5      & 354.5      & 231.5      & 204.0      & 110.5      & 125.5      & 132.0      & 129        & 103        & 144.5      & 101.0     \\\\\n",
       "\t 2017-05-26 & 2.969      & 294.0      & 228.5      & 305.0      & 193.5      & 150.5      &  37.0      &  51.5      &  54.5      &  71        & 190        & 224.0      & 182.5     \\\\\n",
       "\\end{tabular}\n"
      ],
      "text/markdown": [
       "\n",
       "| date | Turbidité | B1 | B2 | B3 | B4 | B5 | B6 | B7 | B8 | B8A | B9 | B11 | B12 |\n",
       "|---|---|---|---|---|---|---|---|---|---|---|---|---|---|\n",
       "| 2017-04-03 | 7.188      |  53.5      | 174.5      | 354.5      | 231.5      | 204.0      | 110.5      | 125.5      | 132.0      | 129        | 103        | 144.5      | 101.0      |\n",
       "| 2017-05-26 | 2.969      | 294.0      | 228.5      | 305.0      | 193.5      | 150.5      |  37.0      |  51.5      |  54.5      |  71        | 190        | 224.0      | 182.5      |\n",
       "\n"
      ],
      "text/plain": [
       "  date       Turbidité B1    B2    B3    B4    B5    B6    B7    B8    B8A B9 \n",
       "1 2017-04-03 7.188      53.5 174.5 354.5 231.5 204.0 110.5 125.5 132.0 129 103\n",
       "2 2017-05-26 2.969     294.0 228.5 305.0 193.5 150.5  37.0  51.5  54.5  71 190\n",
       "  B11   B12  \n",
       "1 144.5 101.0\n",
       "2 224.0 182.5"
      ]
     },
     "metadata": {},
     "output_type": "display_data"
    }
   ],
   "source": [
    "library(readxl)\n",
    "data <- read_excel(\n",
    "    path = \"Desktop\\\\Memoire\\\\bases_de_donnees\\\\jeux_donnees\\\\i_SR.xlsx\",\n",
    "    sheet = 4, # 1 = hastière, 2 = andenne, 3 = lixhe, 4 = tout\n",
    "    col_names = TRUE)\n",
    "head(data,2)"
   ]
  },
  {
   "cell_type": "code",
   "execution_count": 15,
   "metadata": {},
   "outputs": [],
   "source": [
    "data = subset(data, select = -c(date))\n",
    "res.pca <- prcomp(data, scale = TRUE)\n",
    "var <- get_pca_var(res.pca)"
   ]
  },
  {
   "cell_type": "code",
   "execution_count": 16,
   "metadata": {},
   "outputs": [
    {
     "data": {
      "image/png": "[encoded data removed]",
      "text/plain": [
       "plot without title"
      ]
     },
     "metadata": {},
     "output_type": "display_data"
    }
   ],
   "source": [
    "fviz_pca_var(res.pca, axes = 1:2, col.var = \"black\",title = \"Stations groupées\")"
   ]
  },
  {
   "cell_type": "code",
   "execution_count": 27,
   "metadata": {},
   "outputs": [],
   "source": [
    "#chart.Correlation(data, histogram=TRUE)"
   ]
  },
  {
   "cell_type": "code",
   "execution_count": 28,
   "metadata": {},
   "outputs": [],
   "source": [
    "# Calculer la matrice de corrélation suivant le coefficient choisi (\"Pearson\",\"Kendall\",\"Spearman\")\n",
    "#res <- cor(data, method = c(\"pearson\"))\n",
    "# Afficher la matrice de corrélation\n",
    "# round(res, 2)\n",
    "#corrplot(res,\n",
    "#         method = \"color\", tl.col = \"black\",# order = \"hclust\", addrect = 4,\n",
    "#         addCoef.col = \"white\", number.cex = .6, type = \"lower\")"
   ]
  },
  {
   "cell_type": "code",
   "execution_count": null,
   "metadata": {},
   "outputs": [],
   "source": []
  }
 ],
 "metadata": {
  "kernelspec": {
   "display_name": "R",
   "language": "R",
   "name": "ir"
  },
  "language_info": {
   "codemirror_mode": "r",
   "file_extension": ".r",
   "mimetype": "text/x-r-source",
   "name": "R",
   "pygments_lexer": "r",
   "version": "3.6.1"
  }
 },
 "nbformat": 4,
 "nbformat_minor": 4
}
