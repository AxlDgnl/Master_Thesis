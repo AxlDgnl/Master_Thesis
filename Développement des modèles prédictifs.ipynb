{
 "cells": [
  {
   "cell_type": "code",
   "execution_count": 2,
   "metadata": {},
   "outputs": [],
   "source": [
    "library(dplyr)"
   ]
  },
  {
   "cell_type": "markdown",
   "metadata": {},
   "source": [
    "# Niveau 1 : réflectance de surface"
   ]
  },
  {
   "cell_type": "code",
   "execution_count": 30,
   "metadata": {},
   "outputs": [
    {
     "data": {
      "text/html": [
       "<table>\n",
       "<thead><tr><th scope=col>date</th><th scope=col>Turbidité</th><th scope=col>B1</th><th scope=col>B2</th><th scope=col>B3</th><th scope=col>B4</th><th scope=col>B5</th><th scope=col>B6</th><th scope=col>B7</th><th scope=col>B8</th><th scope=col>B8A</th><th scope=col>B9</th><th scope=col>B11</th><th scope=col>B12</th></tr></thead>\n",
       "<tbody>\n",
       "\t<tr><td>2017-04-03</td><td>7.188     </td><td> 53.5     </td><td>174.5     </td><td>354.5     </td><td>231.5     </td><td>204.0     </td><td>110.5     </td><td>125.5     </td><td>132.0     </td><td>129       </td><td>103       </td><td>144.5     </td><td>101.0     </td></tr>\n",
       "\t<tr><td>2017-05-26</td><td>2.969     </td><td>294.0     </td><td>228.5     </td><td>305.0     </td><td>193.5     </td><td>150.5     </td><td> 37.0     </td><td> 51.5     </td><td> 54.5     </td><td> 71       </td><td>190       </td><td>224.0     </td><td>182.5     </td></tr>\n",
       "</tbody>\n",
       "</table>\n"
      ],
      "text/latex": [
       "\\begin{tabular}{r|llllllllllllll}\n",
       " date & Turbidité & B1 & B2 & B3 & B4 & B5 & B6 & B7 & B8 & B8A & B9 & B11 & B12\\\\\n",
       "\\hline\n",
       "\t 2017-04-03 & 7.188      &  53.5      & 174.5      & 354.5      & 231.5      & 204.0      & 110.5      & 125.5      & 132.0      & 129        & 103        & 144.5      & 101.0     \\\\\n",
       "\t 2017-05-26 & 2.969      & 294.0      & 228.5      & 305.0      & 193.5      & 150.5      &  37.0      &  51.5      &  54.5      &  71        & 190        & 224.0      & 182.5     \\\\\n",
       "\\end{tabular}\n"
      ],
      "text/markdown": [
       "\n",
       "| date | Turbidité | B1 | B2 | B3 | B4 | B5 | B6 | B7 | B8 | B8A | B9 | B11 | B12 |\n",
       "|---|---|---|---|---|---|---|---|---|---|---|---|---|---|\n",
       "| 2017-04-03 | 7.188      |  53.5      | 174.5      | 354.5      | 231.5      | 204.0      | 110.5      | 125.5      | 132.0      | 129        | 103        | 144.5      | 101.0      |\n",
       "| 2017-05-26 | 2.969      | 294.0      | 228.5      | 305.0      | 193.5      | 150.5      |  37.0      |  51.5      |  54.5      |  71        | 190        | 224.0      | 182.5      |\n",
       "\n"
      ],
      "text/plain": [
       "  date       Turbidité B1    B2    B3    B4    B5    B6    B7    B8    B8A B9 \n",
       "1 2017-04-03 7.188      53.5 174.5 354.5 231.5 204.0 110.5 125.5 132.0 129 103\n",
       "2 2017-05-26 2.969     294.0 228.5 305.0 193.5 150.5  37.0  51.5  54.5  71 190\n",
       "  B11   B12  \n",
       "1 144.5 101.0\n",
       "2 224.0 182.5"
      ]
     },
     "metadata": {},
     "output_type": "display_data"
    }
   ],
   "source": [
    "library(readxl)\n",
    "data <- read_excel(\n",
    "    path = \"Desktop\\\\Memoire\\\\bases_de_donnees\\\\jeux_donnees\\\\i_SR.xlsx\",\n",
    "    sheet = 4, # 1 = hastière, 2 = andenne, 3 = lixhe, 4 = tout\n",
    "    col_names = TRUE)\n",
    "head(data,2)"
   ]
  },
  {
   "cell_type": "code",
   "execution_count": 19,
   "metadata": {
    "scrolled": true
   },
   "outputs": [
    {
     "data": {
      "text/html": [
       "<table>\n",
       "<thead><tr><th scope=col>date</th><th scope=col>B1</th><th scope=col>B2</th><th scope=col>B3</th><th scope=col>B4</th><th scope=col>B5</th><th scope=col>B6</th><th scope=col>B7</th><th scope=col>B8</th><th scope=col>B8A</th><th scope=col>B9</th><th scope=col>B11</th><th scope=col>B12</th><th scope=col>Turbidité</th><th scope=col>P1</th><th scope=col>P2</th><th scope=col>P3</th></tr></thead>\n",
       "<tbody>\n",
       "\t<tr><td>2017-04-03</td><td> 53.5     </td><td>174.5     </td><td>354.5     </td><td>231.5     </td><td>204.0     </td><td>110.5     </td><td>125.5     </td><td>132.0     </td><td>129       </td><td>103       </td><td>144.5     </td><td>101.0     </td><td>7.188     </td><td>465.07    </td><td>-165.87   </td><td>-38.555   </td></tr>\n",
       "\t<tr><td>2017-05-26</td><td>294.0     </td><td>228.5     </td><td>305.0     </td><td>193.5     </td><td>150.5     </td><td> 37.0     </td><td> 51.5     </td><td> 54.5     </td><td> 71       </td><td>190       </td><td>224.0     </td><td>182.5     </td><td>2.969     </td><td>521.25    </td><td>  77.68   </td><td>-97.220   </td></tr>\n",
       "</tbody>\n",
       "</table>\n"
      ],
      "text/latex": [
       "\\begin{tabular}{r|lllllllllllllllll}\n",
       " date & B1 & B2 & B3 & B4 & B5 & B6 & B7 & B8 & B8A & B9 & B11 & B12 & Turbidité & P1 & P2 & P3\\\\\n",
       "\\hline\n",
       "\t 2017-04-03 &  53.5      & 174.5      & 354.5      & 231.5      & 204.0      & 110.5      & 125.5      & 132.0      & 129        & 103        & 144.5      & 101.0      & 7.188      & 465.07     & -165.87    & -38.555   \\\\\n",
       "\t 2017-05-26 & 294.0      & 228.5      & 305.0      & 193.5      & 150.5      &  37.0      &  51.5      &  54.5      &  71        & 190        & 224.0      & 182.5      & 2.969      & 521.25     &   77.68    & -97.220   \\\\\n",
       "\\end{tabular}\n"
      ],
      "text/markdown": [
       "\n",
       "| date | B1 | B2 | B3 | B4 | B5 | B6 | B7 | B8 | B8A | B9 | B11 | B12 | Turbidité | P1 | P2 | P3 |\n",
       "|---|---|---|---|---|---|---|---|---|---|---|---|---|---|---|---|---|\n",
       "| 2017-04-03 |  53.5      | 174.5      | 354.5      | 231.5      | 204.0      | 110.5      | 125.5      | 132.0      | 129        | 103        | 144.5      | 101.0      | 7.188      | 465.07     | -165.87    | -38.555    |\n",
       "| 2017-05-26 | 294.0      | 228.5      | 305.0      | 193.5      | 150.5      |  37.0      |  51.5      |  54.5      |  71        | 190        | 224.0      | 182.5      | 2.969      | 521.25     |   77.68    | -97.220    |\n",
       "\n"
      ],
      "text/plain": [
       "  date       B1    B2    B3    B4    B5    B6    B7    B8    B8A B9  B11  \n",
       "1 2017-04-03  53.5 174.5 354.5 231.5 204.0 110.5 125.5 132.0 129 103 144.5\n",
       "2 2017-05-26 294.0 228.5 305.0 193.5 150.5  37.0  51.5  54.5  71 190 224.0\n",
       "  B12   Turbidité P1     P2      P3     \n",
       "1 101.0 7.188     465.07 -165.87 -38.555\n",
       "2 182.5 2.969     521.25   77.68 -97.220"
      ]
     },
     "metadata": {},
     "output_type": "display_data"
    }
   ],
   "source": [
    "#hastière\n",
    "data <- mutate(data,\n",
    "               P1 = 0.40*B1 + 0.46*B2 + 0.46*B3 + 0.46*B4 + 0.46* B5,\n",
    "               P2 = 0.89*B1 - 0.06*B2 - 0.32*B3 - 0.29*B4 - 0.11*B5,\n",
    "               P3 = -0.02*B1 - 0.51*B2 - 0.42*B3 + 0.24*B4 + 0.71*B5)\n",
    "head(data,2)"
   ]
  },
  {
   "cell_type": "code",
   "execution_count": 23,
   "metadata": {},
   "outputs": [],
   "source": [
    "#andenne\n",
    "data <- mutate(data,\n",
    "               P1 = - 0.39 * B1 - 0.46 * B2 - 0.47 * B3 - 0.46 * B4 - 0.45 * B5,\n",
    "              P2 = 0.86*B1 + 0.08*B2 - 0.16*B3 - 0.34*B4 - 0.33*B5,\n",
    "              P3 = 0.30*B1 - 0.68*B2 - 0.33*B3 + 0.21*B4 + 0.55*B5)"
   ]
  },
  {
   "cell_type": "code",
   "execution_count": 27,
   "metadata": {},
   "outputs": [],
   "source": [
    "#lixhe\n",
    "data <- mutate(data,\n",
    "               P1 = - 0.41 * B1 - 0.46 * B2 - 0.46 * B3 - 0.46 * B4 - 0.45 * B5,\n",
    "               P2 = 0.80*B1 + 0.18*B2 - 0.12*B3 - 0.39*B4 - 0.40*B5,\n",
    "               P3 = 0.37*B1 - 0.46*B2 - 0.55*B3 + 0.11*B4 + 0.58*B5)"
   ]
  },
  {
   "cell_type": "code",
   "execution_count": 31,
   "metadata": {},
   "outputs": [],
   "source": [
    "#tout\n",
    "data <- mutate(data,\n",
    "               P1 = 0.41 * B1 + 0.46 * B2 + 0.46 * B3 + 0.46 * B4 + 0.45 * B5,\n",
    "               P2 = 0.85*B1 + 0.08*B2 - 0.14*B3 - 0.37*B4 - 0.35*B5,\n",
    "               P3 = -0.27*B1 + 0.46*B2 + 0.54*B3 - 0.13*B4 - 0.64*B5)"
   ]
  },
  {
   "cell_type": "code",
   "execution_count": 32,
   "metadata": {},
   "outputs": [
    {
     "data": {
      "text/plain": [
       "\n",
       "Call:\n",
       "lm(formula = model, data = data)\n",
       "\n",
       "Residuals:\n",
       "    Min      1Q  Median      3Q     Max \n",
       "-1.0106 -0.1526  0.0307  0.1994  0.7279 \n",
       "\n",
       "Coefficients:\n",
       "              Estimate Std. Error t value Pr(>|t|)    \n",
       "(Intercept)  3.210e-01  6.532e-02   4.914 3.30e-06 ***\n",
       "P1           4.631e-04  9.253e-05   5.004 2.27e-06 ***\n",
       "P2          -1.579e-03  3.719e-04  -4.245 4.73e-05 ***\n",
       "---\n",
       "Signif. codes:  0 '***' 0.001 '**' 0.01 '*' 0.05 '.' 0.1 ' ' 1\n",
       "\n",
       "Residual standard error: 0.3172 on 105 degrees of freedom\n",
       "Multiple R-squared:  0.3536,\tAdjusted R-squared:  0.3413 \n",
       "F-statistic: 28.72 on 2 and 105 DF,  p-value: 1.124e-10\n"
      ]
     },
     "metadata": {},
     "output_type": "display_data"
    },
    {
     "data": {
      "text/html": [
       "0.0978015537248388"
      ],
      "text/latex": [
       "0.0978015537248388"
      ],
      "text/markdown": [
       "0.0978015537248388"
      ],
      "text/plain": [
       "[1] 0.09780155"
      ]
     },
     "metadata": {},
     "output_type": "display_data"
    },
    {
     "data": {
      "text/html": [
       "74.1392480271705"
      ],
      "text/latex": [
       "74.1392480271705"
      ],
      "text/markdown": [
       "74.1392480271705"
      ],
      "text/plain": [
       "[1] 74.13925"
      ]
     },
     "metadata": {},
     "output_type": "display_data"
    },
    {
     "data": {
      "text/html": [
       "0.312732399544465"
      ],
      "text/latex": [
       "0.312732399544465"
      ],
      "text/markdown": [
       "0.312732399544465"
      ],
      "text/plain": [
       "[1] 0.3127324"
      ]
     },
     "metadata": {},
     "output_type": "display_data"
    },
    {
     "data": {
      "text/html": [
       "<table>\n",
       "<thead><tr><th></th><th scope=col>Df</th><th scope=col>Sum Sq</th><th scope=col>Mean Sq</th><th scope=col>F value</th><th scope=col>Pr(&gt;F)</th></tr></thead>\n",
       "<tbody>\n",
       "\t<tr><th scope=row>P1</th><td>  1         </td><td> 3.965760   </td><td>3.9657600   </td><td>39.42269    </td><td>7.827362e-09</td></tr>\n",
       "\t<tr><th scope=row>P2</th><td>  1         </td><td> 1.812776   </td><td>1.8127757   </td><td>18.02038    </td><td>4.731025e-05</td></tr>\n",
       "\t<tr><th scope=row>Residuals</th><td>105         </td><td>10.562568   </td><td>0.1005959   </td><td>      NA    </td><td>          NA</td></tr>\n",
       "</tbody>\n",
       "</table>\n"
      ],
      "text/latex": [
       "\\begin{tabular}{r|lllll}\n",
       "  & Df & Sum Sq & Mean Sq & F value & Pr(>F)\\\\\n",
       "\\hline\n",
       "\tP1 &   1          &  3.965760    & 3.9657600    & 39.42269     & 7.827362e-09\\\\\n",
       "\tP2 &   1          &  1.812776    & 1.8127757    & 18.02038     & 4.731025e-05\\\\\n",
       "\tResiduals & 105          & 10.562568    & 0.1005959    &       NA     &           NA\\\\\n",
       "\\end{tabular}\n"
      ],
      "text/markdown": [
       "\n",
       "| <!--/--> | Df | Sum Sq | Mean Sq | F value | Pr(>F) |\n",
       "|---|---|---|---|---|---|\n",
       "| P1 |   1          |  3.965760    | 3.9657600    | 39.42269     | 7.827362e-09 |\n",
       "| P2 |   1          |  1.812776    | 1.8127757    | 18.02038     | 4.731025e-05 |\n",
       "| Residuals | 105          | 10.562568    | 0.1005959    |       NA     |           NA |\n",
       "\n"
      ],
      "text/plain": [
       "          Df  Sum Sq    Mean Sq   F value  Pr(>F)      \n",
       "P1          1  3.965760 3.9657600 39.42269 7.827362e-09\n",
       "P2          1  1.812776 1.8127757 18.02038 4.731025e-05\n",
       "Residuals 105 10.562568 0.1005959       NA           NA"
      ]
     },
     "metadata": {},
     "output_type": "display_data"
    },
    {
     "data": {
      "text/html": [
       "<dl class=dl-horizontal>\n",
       "\t<dt>(Intercept)</dt>\n",
       "\t\t<dd>0.321017224553145</dd>\n",
       "\t<dt>P1</dt>\n",
       "\t\t<dd>0.000463052854681846</dd>\n",
       "\t<dt>P2</dt>\n",
       "\t\t<dd>-0.0015787210820672</dd>\n",
       "</dl>\n"
      ],
      "text/latex": [
       "\\begin{description*}\n",
       "\\item[(Intercept)] 0.321017224553145\n",
       "\\item[P1] 0.000463052854681846\n",
       "\\item[P2] -0.0015787210820672\n",
       "\\end{description*}\n"
      ],
      "text/markdown": [
       "(Intercept)\n",
       ":   0.321017224553145P1\n",
       ":   0.000463052854681846P2\n",
       ":   -0.0015787210820672\n",
       "\n"
      ],
      "text/plain": [
       "  (Intercept)            P1            P2 \n",
       " 0.3210172246  0.0004630529 -0.0015787211 "
      ]
     },
     "metadata": {},
     "output_type": "display_data"
    }
   ],
   "source": [
    "data$l.Turbidité <- log10(data$Turbidité)\n",
    "model <- l.Turbidité ~ P1 + P2\n",
    "fit <- lm(model, data)\n",
    "summ <- summary(fit)\n",
    "summ\n",
    "mean(summ$residuals^2)\n",
    "BIC(fit)\n",
    "sqrt(mean(summ$residuals^2))\n",
    "anova(fit)\n",
    "coefficients(fit)"
   ]
  },
  {
   "cell_type": "code",
   "execution_count": 33,
   "metadata": {},
   "outputs": [
    {
     "data": {
      "image/png": "[encoded data removed]",
      "text/plain": [
       "Plot with title \"Scénario 1 - Stations groupées\""
      ]
     },
     "metadata": {},
     "output_type": "display_data"
    }
   ],
   "source": [
    "ybis = 0.000463052854681846 *data$P1 -0.0015787210820672 * data$P2 + 0.321017224553145\n",
    "y = ybis\n",
    "x = data$l.Turbidité\n",
    "plot(x, y,\n",
    "  ylab=\"Log(turbidité estimée [NTU])\",\n",
    "  xlab=\"Log(turbidité observée [NTU])\",\n",
    "     main = \"Scénario 1 - Stations groupées\",\n",
    "    pch = 18)\n",
    "abline(lm(y ~ x), col=\"blue\")"
   ]
  },
  {
   "cell_type": "markdown",
   "metadata": {},
   "source": [
    "# Niveau 2 : débit"
   ]
  },
  {
   "cell_type": "markdown",
   "metadata": {},
   "source": [
    "# Hastière"
   ]
  },
  {
   "cell_type": "code",
   "execution_count": 39,
   "metadata": {},
   "outputs": [
    {
     "data": {
      "text/html": [
       "<table>\n",
       "<thead><tr><th scope=col>Turbidité</th><th scope=col>Débit</th></tr></thead>\n",
       "<tbody>\n",
       "\t<tr><td>7.188</td><td>92.46</td></tr>\n",
       "\t<tr><td>2.969</td><td>31.33</td></tr>\n",
       "</tbody>\n",
       "</table>\n"
      ],
      "text/latex": [
       "\\begin{tabular}{r|ll}\n",
       " Turbidité & Débit\\\\\n",
       "\\hline\n",
       "\t 7.188 & 92.46\\\\\n",
       "\t 2.969 & 31.33\\\\\n",
       "\\end{tabular}\n"
      ],
      "text/markdown": [
       "\n",
       "| Turbidité | Débit |\n",
       "|---|---|\n",
       "| 7.188 | 92.46 |\n",
       "| 2.969 | 31.33 |\n",
       "\n"
      ],
      "text/plain": [
       "  Turbidité Débit\n",
       "1 7.188     92.46\n",
       "2 2.969     31.33"
      ]
     },
     "metadata": {},
     "output_type": "display_data"
    }
   ],
   "source": [
    "library(readxl)\n",
    "data <- read_excel(\n",
    "    path = \"Desktop\\\\Memoire\\\\bases_de_donnees\\\\jeux_donnees\\\\vi_SR_débit_précip.xlsx\",\n",
    "    sheet = 1, # 1 = hastière, 2 = andenne, 3 = lixhe, 5 = tout\n",
    "    col_names = TRUE)\n",
    "data = subset(data, select = -c(date,B1,B2,B3,B4,B5,B6,B7,B8,B8A,B9,B11,B12,Précipitations))\n",
    "head(data,2)"
   ]
  },
  {
   "cell_type": "code",
   "execution_count": 35,
   "metadata": {},
   "outputs": [
    {
     "data": {
      "text/html": [
       "<table>\n",
       "<thead><tr><th scope=col>Turbidité</th><th scope=col>Débit</th><th scope=col>l.Turbidité</th><th scope=col>log.Débit</th></tr></thead>\n",
       "<tbody>\n",
       "\t<tr><td>7.188    </td><td>92.46    </td><td>0.8566081</td><td>1.965954 </td></tr>\n",
       "\t<tr><td>2.969    </td><td>31.33    </td><td>0.4726102</td><td>1.495960 </td></tr>\n",
       "</tbody>\n",
       "</table>\n"
      ],
      "text/latex": [
       "\\begin{tabular}{r|llll}\n",
       " Turbidité & Débit & l.Turbidité & log.Débit\\\\\n",
       "\\hline\n",
       "\t 7.188     & 92.46     & 0.8566081 & 1.965954 \\\\\n",
       "\t 2.969     & 31.33     & 0.4726102 & 1.495960 \\\\\n",
       "\\end{tabular}\n"
      ],
      "text/markdown": [
       "\n",
       "| Turbidité | Débit | l.Turbidité | log.Débit |\n",
       "|---|---|---|---|\n",
       "| 7.188     | 92.46     | 0.8566081 | 1.965954  |\n",
       "| 2.969     | 31.33     | 0.4726102 | 1.495960  |\n",
       "\n"
      ],
      "text/plain": [
       "  Turbidité Débit l.Turbidité log.Débit\n",
       "1 7.188     92.46 0.8566081   1.965954 \n",
       "2 2.969     31.33 0.4726102   1.495960 "
      ]
     },
     "metadata": {},
     "output_type": "display_data"
    },
    {
     "data": {
      "text/plain": [
       "\n",
       "Call:\n",
       "lm(formula = model, data = data)\n",
       "\n",
       "Residuals:\n",
       "      Min        1Q    Median        3Q       Max \n",
       "-0.313373 -0.063356 -0.003664  0.098264  0.286329 \n",
       "\n",
       "Coefficients:\n",
       "            Estimate Std. Error t value Pr(>|t|)    \n",
       "(Intercept) -0.05942    0.10715  -0.555    0.583    \n",
       "log.Débit    0.54224    0.06171   8.787 2.23e-10 ***\n",
       "---\n",
       "Signif. codes:  0 '***' 0.001 '**' 0.01 '*' 0.05 '.' 0.1 ' ' 1\n",
       "\n",
       "Residual standard error: 0.1346 on 35 degrees of freedom\n",
       "Multiple R-squared:  0.6881,\tAdjusted R-squared:  0.6792 \n",
       "F-statistic: 77.21 on 1 and 35 DF,  p-value: 2.232e-10\n"
      ]
     },
     "metadata": {},
     "output_type": "display_data"
    },
    {
     "data": {
      "text/html": [
       "0.0171344354091572"
      ],
      "text/latex": [
       "0.0171344354091572"
      ],
      "text/markdown": [
       "0.0171344354091572"
      ],
      "text/plain": [
       "[1] 0.01713444"
      ]
     },
     "metadata": {},
     "output_type": "display_data"
    },
    {
     "data": {
      "text/html": [
       "-34.6324025342682"
      ],
      "text/latex": [
       "-34.6324025342682"
      ],
      "text/markdown": [
       "-34.6324025342682"
      ],
      "text/plain": [
       "[1] -34.6324"
      ]
     },
     "metadata": {},
     "output_type": "display_data"
    },
    {
     "data": {
      "text/html": [
       "0.130898569163904"
      ],
      "text/latex": [
       "0.130898569163904"
      ],
      "text/markdown": [
       "0.130898569163904"
      ],
      "text/plain": [
       "[1] 0.1308986"
      ]
     },
     "metadata": {},
     "output_type": "display_data"
    }
   ],
   "source": [
    "data$l.Turbidité <- log10(data$Turbidité)\n",
    "data$log.Débit <- log10(data$Débit)\n",
    "head(data,2)\n",
    "model <- l.Turbidité ~ log.Débit\n",
    "fit <- lm(model, data)\n",
    "summ <- summary(fit)\n",
    "summ\n",
    "mean(summ$residuals^2)\n",
    "BIC(fit)\n",
    "sqrt(mean(summ$residuals^2))"
   ]
  },
  {
   "cell_type": "code",
   "execution_count": 36,
   "metadata": {},
   "outputs": [
    {
     "data": {
      "text/html": [
       "<table>\n",
       "<thead><tr><th></th><th scope=col>Df</th><th scope=col>Sum Sq</th><th scope=col>Mean Sq</th><th scope=col>F value</th><th scope=col>Pr(&gt;F)</th></tr></thead>\n",
       "<tbody>\n",
       "\t<tr><th scope=row>log.Débit</th><td> 1          </td><td>1.3984744   </td><td>1.39847439  </td><td>77.206      </td><td>2.232136e-10</td></tr>\n",
       "\t<tr><th scope=row>Residuals</th><td>35          </td><td>0.6339741   </td><td>0.01811355  </td><td>    NA      </td><td>          NA</td></tr>\n",
       "</tbody>\n",
       "</table>\n"
      ],
      "text/latex": [
       "\\begin{tabular}{r|lllll}\n",
       "  & Df & Sum Sq & Mean Sq & F value & Pr(>F)\\\\\n",
       "\\hline\n",
       "\tlog.Débit &  1           & 1.3984744    & 1.39847439   & 77.206       & 2.232136e-10\\\\\n",
       "\tResiduals & 35           & 0.6339741    & 0.01811355   &     NA       &           NA\\\\\n",
       "\\end{tabular}\n"
      ],
      "text/markdown": [
       "\n",
       "| <!--/--> | Df | Sum Sq | Mean Sq | F value | Pr(>F) |\n",
       "|---|---|---|---|---|---|\n",
       "| log.Débit |  1           | 1.3984744    | 1.39847439   | 77.206       | 2.232136e-10 |\n",
       "| Residuals | 35           | 0.6339741    | 0.01811355   |     NA       |           NA |\n",
       "\n"
      ],
      "text/plain": [
       "          Df Sum Sq    Mean Sq    F value Pr(>F)      \n",
       "log.Débit  1 1.3984744 1.39847439 77.206  2.232136e-10\n",
       "Residuals 35 0.6339741 0.01811355     NA            NA"
      ]
     },
     "metadata": {},
     "output_type": "display_data"
    },
    {
     "data": {
      "text/html": [
       "<dl class=dl-horizontal>\n",
       "\t<dt>(Intercept)</dt>\n",
       "\t\t<dd>-0.059415181039148</dd>\n",
       "\t<dt>log.Débit</dt>\n",
       "\t\t<dd>0.542243639978675</dd>\n",
       "</dl>\n"
      ],
      "text/latex": [
       "\\begin{description*}\n",
       "\\item[(Intercept)] -0.059415181039148\n",
       "\\item[log.Débit] 0.542243639978675\n",
       "\\end{description*}\n"
      ],
      "text/markdown": [
       "(Intercept)\n",
       ":   -0.059415181039148log.Débit\n",
       ":   0.542243639978675\n",
       "\n"
      ],
      "text/plain": [
       "(Intercept)   log.Débit \n",
       "-0.05941518  0.54224364 "
      ]
     },
     "metadata": {},
     "output_type": "display_data"
    }
   ],
   "source": [
    "anova(fit)\n",
    "coefficients(fit)"
   ]
  },
  {
   "cell_type": "code",
   "execution_count": 37,
   "metadata": {},
   "outputs": [
    {
     "data": {
      "image/png": "[encoded data removed]",
      "text/plain": [
       "Plot with title \"Scénario 2 - Hastière\""
      ]
     },
     "metadata": {},
     "output_type": "display_data"
    }
   ],
   "source": [
    "ybis = 0.542243639978675 *data$log.Débit -0.059415181039148\n",
    "y1 = ybis\n",
    "x1 = data$l.Turbidité\n",
    "plot(x1, y1,\n",
    "  ylab=\"Log(turbidité estimée [NTU])\",\n",
    "  xlab=\"Log(turbidité observée [NTU])\",\n",
    "     main = \"Scénario 2 - Hastière\",\n",
    "    pch = 18)\n",
    "abline(lm(y1 ~ x1), col=\"blue\")\n",
    "#coeff=coefficients(fit)\n",
    "#eq = paste0(\"y = \", round(coeff[2],1), \"*x \", round(coeff[1],1))"
   ]
  },
  {
   "cell_type": "code",
   "execution_count": 23,
   "metadata": {},
   "outputs": [],
   "source": [
    "#model <- l.Turbidité ~ log.Débit\n",
    "#sat.lm0 <- lm(model, data)\n",
    "#summary(sat.lm0)\n",
    "#sat.sse0 <- sum(resid(sat.lm0) ^2)\n",
    "#AIC(sat.lm0, k = 2)\n",
    "#AIC(sat.lm0)\n",
    "#BIC(sat.lm0)"
   ]
  },
  {
   "cell_type": "markdown",
   "metadata": {},
   "source": [
    "# Andenne"
   ]
  },
  {
   "cell_type": "code",
   "execution_count": 40,
   "metadata": {},
   "outputs": [
    {
     "data": {
      "text/html": [
       "<table>\n",
       "<thead><tr><th scope=col>Turbidité</th><th scope=col>Débit</th></tr></thead>\n",
       "<tbody>\n",
       "\t<tr><td>4.850 </td><td>129.71</td></tr>\n",
       "\t<tr><td>5.088 </td><td> 73.83</td></tr>\n",
       "</tbody>\n",
       "</table>\n"
      ],
      "text/latex": [
       "\\begin{tabular}{r|ll}\n",
       " Turbidité & Débit\\\\\n",
       "\\hline\n",
       "\t 4.850  & 129.71\\\\\n",
       "\t 5.088  &  73.83\\\\\n",
       "\\end{tabular}\n"
      ],
      "text/markdown": [
       "\n",
       "| Turbidité | Débit |\n",
       "|---|---|\n",
       "| 4.850  | 129.71 |\n",
       "| 5.088  |  73.83 |\n",
       "\n"
      ],
      "text/plain": [
       "  Turbidité Débit \n",
       "1 4.850     129.71\n",
       "2 5.088      73.83"
      ]
     },
     "metadata": {},
     "output_type": "display_data"
    }
   ],
   "source": [
    "library(readxl)\n",
    "data <- read_excel(\n",
    "    path = \"Desktop\\\\Memoire\\\\bases_de_donnees\\\\jeux_donnees\\\\vi_SR_débit_précip.xlsx\",\n",
    "    sheet = 2, # 1 = hastière, 2 = andenne, 3 = lixhe, 5 = tout\n",
    "    col_names = TRUE)\n",
    "data = subset(data, select = -c(MOY,B1,B2,B3,B4,B5,B6,B7,B8,B8A,B9,B11,B12,Précipitations))\n",
    "head(data,2)"
   ]
  },
  {
   "cell_type": "code",
   "execution_count": 41,
   "metadata": {},
   "outputs": [
    {
     "data": {
      "text/plain": [
       "\n",
       "Call:\n",
       "lm(formula = model, data = data)\n",
       "\n",
       "Residuals:\n",
       "     Min       1Q   Median       3Q      Max \n",
       "-0.79558 -0.23201  0.05418  0.25952  0.57065 \n",
       "\n",
       "Coefficients:\n",
       "            Estimate Std. Error t value Pr(>|t|)    \n",
       "(Intercept)  -1.1355     0.3477  -3.266   0.0028 ** \n",
       "log.Débit     0.9826     0.1796   5.470 6.88e-06 ***\n",
       "---\n",
       "Signif. codes:  0 '***' 0.001 '**' 0.01 '*' 0.05 '.' 0.1 ' ' 1\n",
       "\n",
       "Residual standard error: 0.3465 on 29 degrees of freedom\n",
       "Multiple R-squared:  0.5078,\tAdjusted R-squared:  0.4908 \n",
       "F-statistic: 29.92 on 1 and 29 DF,  p-value: 6.88e-06\n"
      ]
     },
     "metadata": {},
     "output_type": "display_data"
    },
    {
     "data": {
      "text/html": [
       "0.112316363604691"
      ],
      "text/latex": [
       "0.112316363604691"
      ],
      "text/markdown": [
       "0.112316363604691"
      ],
      "text/plain": [
       "[1] 0.1123164"
      ]
     },
     "metadata": {},
     "output_type": "display_data"
    },
    {
     "data": {
      "text/html": [
       "30.4966435213093"
      ],
      "text/latex": [
       "30.4966435213093"
      ],
      "text/markdown": [
       "30.4966435213093"
      ],
      "text/plain": [
       "[1] 30.49664"
      ]
     },
     "metadata": {},
     "output_type": "display_data"
    },
    {
     "data": {
      "text/html": [
       "0.335136335846608"
      ],
      "text/latex": [
       "0.335136335846608"
      ],
      "text/markdown": [
       "0.335136335846608"
      ],
      "text/plain": [
       "[1] 0.3351363"
      ]
     },
     "metadata": {},
     "output_type": "display_data"
    },
    {
     "data": {
      "text/html": [
       "<table>\n",
       "<thead><tr><th></th><th scope=col>Df</th><th scope=col>Sum Sq</th><th scope=col>Mean Sq</th><th scope=col>F value</th><th scope=col>Pr(&gt;F)</th></tr></thead>\n",
       "<tbody>\n",
       "\t<tr><th scope=row>log.Débit</th><td> 1         </td><td>3.592072   </td><td>3.5920723  </td><td>29.9184    </td><td>6.87985e-06</td></tr>\n",
       "\t<tr><th scope=row>Residuals</th><td>29         </td><td>3.481807   </td><td>0.1200623  </td><td>     NA    </td><td>         NA</td></tr>\n",
       "</tbody>\n",
       "</table>\n"
      ],
      "text/latex": [
       "\\begin{tabular}{r|lllll}\n",
       "  & Df & Sum Sq & Mean Sq & F value & Pr(>F)\\\\\n",
       "\\hline\n",
       "\tlog.Débit &  1          & 3.592072    & 3.5920723   & 29.9184     & 6.87985e-06\\\\\n",
       "\tResiduals & 29          & 3.481807    & 0.1200623   &      NA     &          NA\\\\\n",
       "\\end{tabular}\n"
      ],
      "text/markdown": [
       "\n",
       "| <!--/--> | Df | Sum Sq | Mean Sq | F value | Pr(>F) |\n",
       "|---|---|---|---|---|---|\n",
       "| log.Débit |  1          | 3.592072    | 3.5920723   | 29.9184     | 6.87985e-06 |\n",
       "| Residuals | 29          | 3.481807    | 0.1200623   |      NA     |          NA |\n",
       "\n"
      ],
      "text/plain": [
       "          Df Sum Sq   Mean Sq   F value Pr(>F)     \n",
       "log.Débit  1 3.592072 3.5920723 29.9184 6.87985e-06\n",
       "Residuals 29 3.481807 0.1200623      NA          NA"
      ]
     },
     "metadata": {},
     "output_type": "display_data"
    },
    {
     "data": {
      "text/html": [
       "<dl class=dl-horizontal>\n",
       "\t<dt>(Intercept)</dt>\n",
       "\t\t<dd>-1.13545710887282</dd>\n",
       "\t<dt>log.Débit</dt>\n",
       "\t\t<dd>0.982640748702559</dd>\n",
       "</dl>\n"
      ],
      "text/latex": [
       "\\begin{description*}\n",
       "\\item[(Intercept)] -1.13545710887282\n",
       "\\item[log.Débit] 0.982640748702559\n",
       "\\end{description*}\n"
      ],
      "text/markdown": [
       "(Intercept)\n",
       ":   -1.13545710887282log.Débit\n",
       ":   0.982640748702559\n",
       "\n"
      ],
      "text/plain": [
       "(Intercept)   log.Débit \n",
       " -1.1354571   0.9826407 "
      ]
     },
     "metadata": {},
     "output_type": "display_data"
    }
   ],
   "source": [
    "data$l.Turbidité <- log10(data$Turbidité)\n",
    "data$log.Débit <- log10(data$Débit)\n",
    "model <- l.Turbidité ~ log.Débit\n",
    "fit <- lm(model, data)\n",
    "summ <- summary(fit)\n",
    "summ\n",
    "mean(summ$residuals^2)\n",
    "BIC(fit)\n",
    "sqrt(mean(summ$residuals^2))\n",
    "anova(fit)\n",
    "coefficients(fit)"
   ]
  },
  {
   "cell_type": "code",
   "execution_count": 43,
   "metadata": {},
   "outputs": [
    {
     "data": {
      "image/png": "[encoded data removed]",
      "text/plain": [
       "Plot with title \"Scénario 2 - Andenne\""
      ]
     },
     "metadata": {},
     "output_type": "display_data"
    }
   ],
   "source": [
    "ybis = 0.982640748702559 *data$log.Débit -1.13545710887282\n",
    "y1 = ybis\n",
    "x1 = data$l.Turbidité\n",
    "plot(x1, y1,\n",
    "  ylab=\"Log(turbidité estimée [NTU])\",\n",
    "  xlab=\"Log(turbidité observée [NTU])\",\n",
    "     main = \"Scénario 2 - Andenne\",\n",
    "    pch = 18)\n",
    "abline(lm(y1 ~ x1), col=\"blue\")"
   ]
  },
  {
   "cell_type": "markdown",
   "metadata": {},
   "source": [
    "# Lixhe"
   ]
  },
  {
   "cell_type": "code",
   "execution_count": 44,
   "metadata": {},
   "outputs": [
    {
     "data": {
      "text/html": [
       "<table>\n",
       "<thead><tr><th scope=col>Turbidité</th><th scope=col>Débit</th></tr></thead>\n",
       "<tbody>\n",
       "\t<tr><td>0.681   </td><td>53.89304</td></tr>\n",
       "\t<tr><td>0.856   </td><td>55.47750</td></tr>\n",
       "</tbody>\n",
       "</table>\n"
      ],
      "text/latex": [
       "\\begin{tabular}{r|ll}\n",
       " Turbidité & Débit\\\\\n",
       "\\hline\n",
       "\t 0.681    & 53.89304\\\\\n",
       "\t 0.856    & 55.47750\\\\\n",
       "\\end{tabular}\n"
      ],
      "text/markdown": [
       "\n",
       "| Turbidité | Débit |\n",
       "|---|---|\n",
       "| 0.681    | 53.89304 |\n",
       "| 0.856    | 55.47750 |\n",
       "\n"
      ],
      "text/plain": [
       "  Turbidité Débit   \n",
       "1 0.681     53.89304\n",
       "2 0.856     55.47750"
      ]
     },
     "metadata": {},
     "output_type": "display_data"
    }
   ],
   "source": [
    "library(readxl)\n",
    "data <- read_excel(\n",
    "    path = \"Desktop\\\\Memoire\\\\bases_de_donnees\\\\jeux_donnees\\\\vi_SR_débit_précip.xlsx\",\n",
    "    sheet = 3, # 1 = hastière, 2 = andenne, 3 = lixhe, 5 = tout\n",
    "    col_names = TRUE)\n",
    "data = subset(data, select = -c(date,B1,B2,B3,B4,B5,B6,B7,B8,B8A,B9,B11,B12,Précipitations))\n",
    "head(data,2)"
   ]
  },
  {
   "cell_type": "code",
   "execution_count": 45,
   "metadata": {},
   "outputs": [
    {
     "data": {
      "text/plain": [
       "\n",
       "Call:\n",
       "lm(formula = model, data = data)\n",
       "\n",
       "Residuals:\n",
       "     Min       1Q   Median       3Q      Max \n",
       "-0.61002 -0.17213 -0.07672  0.22295  0.73450 \n",
       "\n",
       "Coefficients:\n",
       "            Estimate Std. Error t value Pr(>|t|)    \n",
       "(Intercept) -0.25550    0.18156  -1.407 0.167472    \n",
       "log.Débit    0.40350    0.09396   4.294 0.000117 ***\n",
       "---\n",
       "Signif. codes:  0 '***' 0.001 '**' 0.01 '*' 0.05 '.' 0.1 ' ' 1\n",
       "\n",
       "Residual standard error: 0.2863 on 38 degrees of freedom\n",
       "Multiple R-squared:  0.3267,\tAdjusted R-squared:  0.309 \n",
       "F-statistic: 18.44 on 1 and 38 DF,  p-value: 0.0001169\n"
      ]
     },
     "metadata": {},
     "output_type": "display_data"
    },
    {
     "data": {
      "text/html": [
       "0.0778867949720657"
      ],
      "text/latex": [
       "0.0778867949720657"
      ],
      "text/markdown": [
       "0.0778867949720657"
      ],
      "text/plain": [
       "[1] 0.07788679"
      ]
     },
     "metadata": {},
     "output_type": "display_data"
    },
    {
     "data": {
      "text/html": [
       "22.4817668975946"
      ],
      "text/latex": [
       "22.4817668975946"
      ],
      "text/markdown": [
       "22.4817668975946"
      ],
      "text/plain": [
       "[1] 22.48177"
      ]
     },
     "metadata": {},
     "output_type": "display_data"
    },
    {
     "data": {
      "text/html": [
       "0.279082057775246"
      ],
      "text/latex": [
       "0.279082057775246"
      ],
      "text/markdown": [
       "0.279082057775246"
      ],
      "text/plain": [
       "[1] 0.2790821"
      ]
     },
     "metadata": {},
     "output_type": "display_data"
    },
    {
     "data": {
      "text/html": [
       "<table>\n",
       "<thead><tr><th></th><th scope=col>Df</th><th scope=col>Sum Sq</th><th scope=col>Mean Sq</th><th scope=col>F value</th><th scope=col>Pr(&gt;F)</th></tr></thead>\n",
       "<tbody>\n",
       "\t<tr><th scope=row>log.Débit</th><td> 1          </td><td>1.511822    </td><td>1.5118223   </td><td>18.43998    </td><td>0.0001168711</td></tr>\n",
       "\t<tr><th scope=row>Residuals</th><td>38          </td><td>3.115472    </td><td>0.0819861   </td><td>      NA    </td><td>          NA</td></tr>\n",
       "</tbody>\n",
       "</table>\n"
      ],
      "text/latex": [
       "\\begin{tabular}{r|lllll}\n",
       "  & Df & Sum Sq & Mean Sq & F value & Pr(>F)\\\\\n",
       "\\hline\n",
       "\tlog.Débit &  1           & 1.511822     & 1.5118223    & 18.43998     & 0.0001168711\\\\\n",
       "\tResiduals & 38           & 3.115472     & 0.0819861    &       NA     &           NA\\\\\n",
       "\\end{tabular}\n"
      ],
      "text/markdown": [
       "\n",
       "| <!--/--> | Df | Sum Sq | Mean Sq | F value | Pr(>F) |\n",
       "|---|---|---|---|---|---|\n",
       "| log.Débit |  1           | 1.511822     | 1.5118223    | 18.43998     | 0.0001168711 |\n",
       "| Residuals | 38           | 3.115472     | 0.0819861    |       NA     |           NA |\n",
       "\n"
      ],
      "text/plain": [
       "          Df Sum Sq   Mean Sq   F value  Pr(>F)      \n",
       "log.Débit  1 1.511822 1.5118223 18.43998 0.0001168711\n",
       "Residuals 38 3.115472 0.0819861       NA           NA"
      ]
     },
     "metadata": {},
     "output_type": "display_data"
    },
    {
     "data": {
      "text/html": [
       "<dl class=dl-horizontal>\n",
       "\t<dt>(Intercept)</dt>\n",
       "\t\t<dd>-0.255501629809784</dd>\n",
       "\t<dt>log.Débit</dt>\n",
       "\t\t<dd>0.403500071066787</dd>\n",
       "</dl>\n"
      ],
      "text/latex": [
       "\\begin{description*}\n",
       "\\item[(Intercept)] -0.255501629809784\n",
       "\\item[log.Débit] 0.403500071066787\n",
       "\\end{description*}\n"
      ],
      "text/markdown": [
       "(Intercept)\n",
       ":   -0.255501629809784log.Débit\n",
       ":   0.403500071066787\n",
       "\n"
      ],
      "text/plain": [
       "(Intercept)   log.Débit \n",
       " -0.2555016   0.4035001 "
      ]
     },
     "metadata": {},
     "output_type": "display_data"
    }
   ],
   "source": [
    "data$l.Turbidité <- log10(data$Turbidité)\n",
    "data$log.Débit <- log10(data$Débit)\n",
    "model <- l.Turbidité ~ log.Débit\n",
    "fit <- lm(model, data)\n",
    "summ <- summary(fit)\n",
    "summ\n",
    "mean(summ$residuals^2)\n",
    "BIC(fit)\n",
    "sqrt(mean(summ$residuals^2))\n",
    "anova(fit)\n",
    "coefficients(fit)"
   ]
  },
  {
   "cell_type": "code",
   "execution_count": 46,
   "metadata": {},
   "outputs": [
    {
     "data": {
      "image/png": "[encoded data removed]",
      "text/plain": [
       "Plot with title \"Scénario 2 - Lixhe\""
      ]
     },
     "metadata": {},
     "output_type": "display_data"
    }
   ],
   "source": [
    "ybis = 0.403500071066787 *data$log.Débit -0.255501629809784\n",
    "y1 = ybis\n",
    "x1 = data$l.Turbidité\n",
    "plot(x1, y1,\n",
    "  ylab=\"Log(turbidité estimée [NTU])\",\n",
    "  xlab=\"Log(turbidité observée [NTU])\",\n",
    "     main = \"Scénario 2 - Lixhe\",\n",
    "    pch = 18)\n",
    "abline(lm(y1 ~ x1), col=\"blue\")"
   ]
  },
  {
   "cell_type": "markdown",
   "metadata": {},
   "source": [
    "# Stations groupées"
   ]
  },
  {
   "cell_type": "code",
   "execution_count": 47,
   "metadata": {},
   "outputs": [
    {
     "data": {
      "text/html": [
       "<table>\n",
       "<thead><tr><th scope=col>Turbidité</th><th scope=col>Débit</th></tr></thead>\n",
       "<tbody>\n",
       "\t<tr><td>7.188</td><td>92.46</td></tr>\n",
       "\t<tr><td>2.969</td><td>31.33</td></tr>\n",
       "</tbody>\n",
       "</table>\n"
      ],
      "text/latex": [
       "\\begin{tabular}{r|ll}\n",
       " Turbidité & Débit\\\\\n",
       "\\hline\n",
       "\t 7.188 & 92.46\\\\\n",
       "\t 2.969 & 31.33\\\\\n",
       "\\end{tabular}\n"
      ],
      "text/markdown": [
       "\n",
       "| Turbidité | Débit |\n",
       "|---|---|\n",
       "| 7.188 | 92.46 |\n",
       "| 2.969 | 31.33 |\n",
       "\n"
      ],
      "text/plain": [
       "  Turbidité Débit\n",
       "1 7.188     92.46\n",
       "2 2.969     31.33"
      ]
     },
     "metadata": {},
     "output_type": "display_data"
    }
   ],
   "source": [
    "library(readxl)\n",
    "data <- read_excel(\n",
    "    path = \"Desktop\\\\Memoire\\\\bases_de_donnees\\\\jeux_donnees\\\\vi_SR_débit_précip.xlsx\",\n",
    "    sheet = 4, # 1 = hastière, 2 = andenne, 3 = lixhe, 4 = tout\n",
    "    col_names = TRUE)\n",
    "data = subset(data, select = -c(date,B1,B2,B3,B4,B5,B6,B7,B8,B8A,B9,B11,B12,Précipitations))\n",
    "head(data,2)"
   ]
  },
  {
   "cell_type": "code",
   "execution_count": 48,
   "metadata": {},
   "outputs": [
    {
     "data": {
      "text/plain": [
       "\n",
       "Call:\n",
       "lm(formula = model, data = data)\n",
       "\n",
       "Residuals:\n",
       "     Min       1Q   Median       3Q      Max \n",
       "-0.94728 -0.24704  0.06771  0.24976  0.81697 \n",
       "\n",
       "Coefficients:\n",
       "            Estimate Std. Error t value Pr(>|t|)    \n",
       "(Intercept) -0.18284    0.14595  -1.253    0.213    \n",
       "log.Débit    0.47992    0.07812   6.143 1.44e-08 ***\n",
       "---\n",
       "Signif. codes:  0 '***' 0.001 '**' 0.01 '*' 0.05 '.' 0.1 ' ' 1\n",
       "\n",
       "Residual standard error: 0.3372 on 106 degrees of freedom\n",
       "Multiple R-squared:  0.2626,\tAdjusted R-squared:  0.2556 \n",
       "F-statistic: 37.74 on 1 and 106 DF,  p-value: 1.437e-08\n"
      ]
     },
     "metadata": {},
     "output_type": "display_data"
    },
    {
     "data": {
      "text/html": [
       "0.111579266178611"
      ],
      "text/latex": [
       "0.111579266178611"
      ],
      "text/markdown": [
       "0.111579266178611"
      ],
      "text/plain": [
       "[1] 0.1115793"
      ]
     },
     "metadata": {},
     "output_type": "display_data"
    },
    {
     "data": {
      "text/html": [
       "83.690953265232"
      ],
      "text/latex": [
       "83.690953265232"
      ],
      "text/markdown": [
       "83.690953265232"
      ],
      "text/plain": [
       "[1] 83.69095"
      ]
     },
     "metadata": {},
     "output_type": "display_data"
    },
    {
     "data": {
      "text/html": [
       "0.334034827792869"
      ],
      "text/latex": [
       "0.334034827792869"
      ],
      "text/markdown": [
       "0.334034827792869"
      ],
      "text/plain": [
       "[1] 0.3340348"
      ]
     },
     "metadata": {},
     "output_type": "display_data"
    },
    {
     "data": {
      "text/html": [
       "<table>\n",
       "<thead><tr><th></th><th scope=col>Df</th><th scope=col>Sum Sq</th><th scope=col>Mean Sq</th><th scope=col>F value</th><th scope=col>Pr(&gt;F)</th></tr></thead>\n",
       "<tbody>\n",
       "\t<tr><th scope=row>log.Débit</th><td>  1         </td><td> 4.290543   </td><td>4.2905427   </td><td>37.74078    </td><td>1.437035e-08</td></tr>\n",
       "\t<tr><th scope=row>Residuals</th><td>106         </td><td>12.050561   </td><td>0.1136845   </td><td>      NA    </td><td>          NA</td></tr>\n",
       "</tbody>\n",
       "</table>\n"
      ],
      "text/latex": [
       "\\begin{tabular}{r|lllll}\n",
       "  & Df & Sum Sq & Mean Sq & F value & Pr(>F)\\\\\n",
       "\\hline\n",
       "\tlog.Débit &   1          &  4.290543    & 4.2905427    & 37.74078     & 1.437035e-08\\\\\n",
       "\tResiduals & 106          & 12.050561    & 0.1136845    &       NA     &           NA\\\\\n",
       "\\end{tabular}\n"
      ],
      "text/markdown": [
       "\n",
       "| <!--/--> | Df | Sum Sq | Mean Sq | F value | Pr(>F) |\n",
       "|---|---|---|---|---|---|\n",
       "| log.Débit |   1          |  4.290543    | 4.2905427    | 37.74078     | 1.437035e-08 |\n",
       "| Residuals | 106          | 12.050561    | 0.1136845    |       NA     |           NA |\n",
       "\n"
      ],
      "text/plain": [
       "          Df  Sum Sq    Mean Sq   F value  Pr(>F)      \n",
       "log.Débit   1  4.290543 4.2905427 37.74078 1.437035e-08\n",
       "Residuals 106 12.050561 0.1136845       NA           NA"
      ]
     },
     "metadata": {},
     "output_type": "display_data"
    },
    {
     "data": {
      "text/html": [
       "<dl class=dl-horizontal>\n",
       "\t<dt>(Intercept)</dt>\n",
       "\t\t<dd>-0.182844543331383</dd>\n",
       "\t<dt>log.Débit</dt>\n",
       "\t\t<dd>0.47992285575744</dd>\n",
       "</dl>\n"
      ],
      "text/latex": [
       "\\begin{description*}\n",
       "\\item[(Intercept)] -0.182844543331383\n",
       "\\item[log.Débit] 0.47992285575744\n",
       "\\end{description*}\n"
      ],
      "text/markdown": [
       "(Intercept)\n",
       ":   -0.182844543331383log.Débit\n",
       ":   0.47992285575744\n",
       "\n"
      ],
      "text/plain": [
       "(Intercept)   log.Débit \n",
       " -0.1828445   0.4799229 "
      ]
     },
     "metadata": {},
     "output_type": "display_data"
    }
   ],
   "source": [
    "data$l.Turbidité <- log10(data$Turbidité)\n",
    "data$log.Débit <- log10(data$Débit)\n",
    "model <- l.Turbidité ~ log.Débit\n",
    "fit <- lm(model, data)\n",
    "summ <- summary(fit)\n",
    "summ\n",
    "mean(summ$residuals^2)\n",
    "BIC(fit)\n",
    "sqrt(mean(summ$residuals^2))\n",
    "anova(fit)\n",
    "coefficients(fit)"
   ]
  },
  {
   "cell_type": "code",
   "execution_count": 49,
   "metadata": {},
   "outputs": [
    {
     "data": {
      "image/png": "[encoded data removed]",
      "text/plain": [
       "Plot with title \"Scénario 2 - Stations groupées\""
      ]
     },
     "metadata": {},
     "output_type": "display_data"
    }
   ],
   "source": [
    "ybis = 0.47992285575744 *data$log.Débit -0.182844543331383\n",
    "y1 = ybis\n",
    "x1 = data$l.Turbidité\n",
    "plot(x1, y1,\n",
    "  ylab=\"Log(turbidité estimée [NTU])\",\n",
    "  xlab=\"Log(turbidité observée [NTU])\",\n",
    "     main = \"Scénario 2 - Stations groupées\",\n",
    "    pch = 18)\n",
    "abline(lm(y1 ~ x1), col=\"blue\")"
   ]
  },
  {
   "cell_type": "markdown",
   "metadata": {},
   "source": [
    "# Niveau 3 :  précipitations"
   ]
  },
  {
   "cell_type": "markdown",
   "metadata": {},
   "source": [
    "# Hastière"
   ]
  },
  {
   "cell_type": "code",
   "execution_count": 50,
   "metadata": {},
   "outputs": [
    {
     "data": {
      "text/html": [
       "<table>\n",
       "<thead><tr><th scope=col>Turbidité</th><th scope=col>Débit</th><th scope=col>Précipitations</th></tr></thead>\n",
       "<tbody>\n",
       "\t<tr><td>7.188</td><td>92.46</td><td>4.6  </td></tr>\n",
       "\t<tr><td>2.969</td><td>31.33</td><td>0.0  </td></tr>\n",
       "</tbody>\n",
       "</table>\n"
      ],
      "text/latex": [
       "\\begin{tabular}{r|lll}\n",
       " Turbidité & Débit & Précipitations\\\\\n",
       "\\hline\n",
       "\t 7.188 & 92.46 & 4.6  \\\\\n",
       "\t 2.969 & 31.33 & 0.0  \\\\\n",
       "\\end{tabular}\n"
      ],
      "text/markdown": [
       "\n",
       "| Turbidité | Débit | Précipitations |\n",
       "|---|---|---|\n",
       "| 7.188 | 92.46 | 4.6   |\n",
       "| 2.969 | 31.33 | 0.0   |\n",
       "\n"
      ],
      "text/plain": [
       "  Turbidité Débit Précipitations\n",
       "1 7.188     92.46 4.6           \n",
       "2 2.969     31.33 0.0           "
      ]
     },
     "metadata": {},
     "output_type": "display_data"
    }
   ],
   "source": [
    "library(readxl)\n",
    "data <- read_excel(\n",
    "    path = \"Desktop\\\\Memoire\\\\bases_de_donnees\\\\jeux_donnees\\\\vi_SR_débit_précip.xlsx\",\n",
    "    sheet = 1, # 1 = hastière, 2 = andenne, 3 = lixhe, 5 = tout\n",
    "    col_names = TRUE)\n",
    "data = subset(data, select = -c(date,B1,B2,B3,B4,B5,B6,B7,B8,B8A,B9,B11,B12))\n",
    "head(data,2)"
   ]
  },
  {
   "cell_type": "code",
   "execution_count": 51,
   "metadata": {},
   "outputs": [
    {
     "data": {
      "text/plain": [
       "\n",
       "Call:\n",
       "lm(formula = model, data = data)\n",
       "\n",
       "Residuals:\n",
       "     Min       1Q   Median       3Q      Max \n",
       "-0.39878 -0.18579 -0.00774  0.14591  0.45797 \n",
       "\n",
       "Coefficients:\n",
       "                Estimate Std. Error t value Pr(>|t|)    \n",
       "(Intercept)     0.869826   0.046303  18.785   <2e-16 ***\n",
       "Précipitations -0.001314   0.003938  -0.334    0.741    \n",
       "---\n",
       "Signif. codes:  0 '***' 0.001 '**' 0.01 '*' 0.05 '.' 0.1 ' ' 1\n",
       "\n",
       "Residual standard error: 0.2406 on 35 degrees of freedom\n",
       "Multiple R-squared:  0.003171,\tAdjusted R-squared:  -0.02531 \n",
       "F-statistic: 0.1114 on 1 and 35 DF,  p-value: 0.7406\n"
      ]
     },
     "metadata": {},
     "output_type": "display_data"
    },
    {
     "data": {
      "text/html": [
       "0.0547568284141321"
      ],
      "text/latex": [
       "0.0547568284141321"
      ],
      "text/markdown": [
       "0.0547568284141321"
      ],
      "text/plain": [
       "[1] 0.05475683"
      ]
     },
     "metadata": {},
     "output_type": "display_data"
    },
    {
     "data": {
      "text/html": [
       "8.35463686280388"
      ],
      "text/latex": [
       "8.35463686280388"
      ],
      "text/markdown": [
       "8.35463686280388"
      ],
      "text/plain": [
       "[1] 8.354637"
      ]
     },
     "metadata": {},
     "output_type": "display_data"
    },
    {
     "data": {
      "text/html": [
       "0.234001770108972"
      ],
      "text/latex": [
       "0.234001770108972"
      ],
      "text/markdown": [
       "0.234001770108972"
      ],
      "text/plain": [
       "[1] 0.2340018"
      ]
     },
     "metadata": {},
     "output_type": "display_data"
    },
    {
     "data": {
      "text/html": [
       "<table>\n",
       "<thead><tr><th></th><th scope=col>Df</th><th scope=col>Sum Sq</th><th scope=col>Mean Sq</th><th scope=col>F value</th><th scope=col>Pr(&gt;F)</th></tr></thead>\n",
       "<tbody>\n",
       "\t<tr><th scope=row>Précipitations</th><td> 1         </td><td>0.006445844</td><td>0.006445844</td><td>0.1113545  </td><td>0.7405984  </td></tr>\n",
       "\t<tr><th scope=row>Residuals</th><td>35         </td><td>2.026002651</td><td>0.057885790</td><td>       NA  </td><td>       NA  </td></tr>\n",
       "</tbody>\n",
       "</table>\n"
      ],
      "text/latex": [
       "\\begin{tabular}{r|lllll}\n",
       "  & Df & Sum Sq & Mean Sq & F value & Pr(>F)\\\\\n",
       "\\hline\n",
       "\tPrécipitations &  1          & 0.006445844 & 0.006445844 & 0.1113545   & 0.7405984  \\\\\n",
       "\tResiduals & 35          & 2.026002651 & 0.057885790 &        NA   &        NA  \\\\\n",
       "\\end{tabular}\n"
      ],
      "text/markdown": [
       "\n",
       "| <!--/--> | Df | Sum Sq | Mean Sq | F value | Pr(>F) |\n",
       "|---|---|---|---|---|---|\n",
       "| Précipitations |  1          | 0.006445844 | 0.006445844 | 0.1113545   | 0.7405984   |\n",
       "| Residuals | 35          | 2.026002651 | 0.057885790 |        NA   |        NA   |\n",
       "\n"
      ],
      "text/plain": [
       "               Df Sum Sq      Mean Sq     F value   Pr(>F)   \n",
       "Précipitations  1 0.006445844 0.006445844 0.1113545 0.7405984\n",
       "Residuals      35 2.026002651 0.057885790        NA        NA"
      ]
     },
     "metadata": {},
     "output_type": "display_data"
    },
    {
     "data": {
      "text/html": [
       "<dl class=dl-horizontal>\n",
       "\t<dt>(Intercept)</dt>\n",
       "\t\t<dd>0.869825683326001</dd>\n",
       "\t<dt>Précipitations</dt>\n",
       "\t\t<dd>-0.00131400773872193</dd>\n",
       "</dl>\n"
      ],
      "text/latex": [
       "\\begin{description*}\n",
       "\\item[(Intercept)] 0.869825683326001\n",
       "\\item[Précipitations] -0.00131400773872193\n",
       "\\end{description*}\n"
      ],
      "text/markdown": [
       "(Intercept)\n",
       ":   0.869825683326001Précipitations\n",
       ":   -0.00131400773872193\n",
       "\n"
      ],
      "text/plain": [
       "   (Intercept) Précipitations \n",
       "   0.869825683   -0.001314008 "
      ]
     },
     "metadata": {},
     "output_type": "display_data"
    }
   ],
   "source": [
    "data$l.Turbidité <- log10(data$Turbidité)\n",
    "model <- l.Turbidité ~ Précipitations\n",
    "fit <- lm(model, data)\n",
    "summ <- summary(fit)\n",
    "summ\n",
    "mean(summ$residuals^2)\n",
    "BIC(fit)\n",
    "sqrt(mean(summ$residuals^2))\n",
    "anova(fit)\n",
    "coefficients(fit)"
   ]
  },
  {
   "cell_type": "code",
   "execution_count": 52,
   "metadata": {},
   "outputs": [
    {
     "data": {
      "image/png": "[encoded data removed]",
      "text/plain": [
       "Plot with title \"Scénario 3 - Hastière\""
      ]
     },
     "metadata": {},
     "output_type": "display_data"
    }
   ],
   "source": [
    "ybis = -0.00131400773872193 *data$Précipitations + 0.869825683326001\n",
    "y1 = ybis\n",
    "x1 = data$l.Turbidité\n",
    "plot(x1, y1,\n",
    "  ylab=\"Log(turbidité estimée [NTU])\",\n",
    "  xlab=\"Log(turbidité observée [NTU])\",\n",
    "     main = \"Scénario 3 - Hastière\",\n",
    "    pch = 18)\n",
    "abline(lm(y1 ~ x1), col=\"blue\")"
   ]
  },
  {
   "cell_type": "markdown",
   "metadata": {},
   "source": [
    "# Andenne"
   ]
  },
  {
   "cell_type": "code",
   "execution_count": 53,
   "metadata": {},
   "outputs": [
    {
     "data": {
      "text/html": [
       "<table>\n",
       "<thead><tr><th scope=col>Turbidité</th><th scope=col>Débit</th><th scope=col>Précipitations</th></tr></thead>\n",
       "<tbody>\n",
       "\t<tr><td>4.850 </td><td>129.71</td><td>3.9   </td></tr>\n",
       "\t<tr><td>5.088 </td><td> 73.83</td><td>9.8   </td></tr>\n",
       "</tbody>\n",
       "</table>\n"
      ],
      "text/latex": [
       "\\begin{tabular}{r|lll}\n",
       " Turbidité & Débit & Précipitations\\\\\n",
       "\\hline\n",
       "\t 4.850  & 129.71 & 3.9   \\\\\n",
       "\t 5.088  &  73.83 & 9.8   \\\\\n",
       "\\end{tabular}\n"
      ],
      "text/markdown": [
       "\n",
       "| Turbidité | Débit | Précipitations |\n",
       "|---|---|---|\n",
       "| 4.850  | 129.71 | 3.9    |\n",
       "| 5.088  |  73.83 | 9.8    |\n",
       "\n"
      ],
      "text/plain": [
       "  Turbidité Débit  Précipitations\n",
       "1 4.850     129.71 3.9           \n",
       "2 5.088      73.83 9.8           "
      ]
     },
     "metadata": {},
     "output_type": "display_data"
    }
   ],
   "source": [
    "library(readxl)\n",
    "data <- read_excel(\n",
    "    path = \"Desktop\\\\Memoire\\\\bases_de_donnees\\\\jeux_donnees\\\\vi_SR_débit_précip.xlsx\",\n",
    "    sheet = 2, # 1 = hastière, 2 = andenne, 3 = lixhe, 5 = tout\n",
    "    col_names = TRUE)\n",
    "data = subset(data, select = -c(MOY,B1,B2,B3,B4,B5,B6,B7,B8,B8A,B9,B11,B12))\n",
    "head(data,2)"
   ]
  },
  {
   "cell_type": "code",
   "execution_count": 54,
   "metadata": {},
   "outputs": [
    {
     "data": {
      "text/plain": [
       "\n",
       "Call:\n",
       "lm(formula = model, data = data)\n",
       "\n",
       "Residuals:\n",
       "     Min       1Q   Median       3Q      Max \n",
       "-0.96091 -0.20826 -0.01429  0.31841  1.01127 \n",
       "\n",
       "Coefficients:\n",
       "               Estimate Std. Error t value Pr(>|t|)    \n",
       "(Intercept)     0.59539    0.10157   5.862 2.33e-06 ***\n",
       "Précipitations  0.02549    0.01102   2.313    0.028 *  \n",
       "---\n",
       "Signif. codes:  0 '***' 0.001 '**' 0.01 '*' 0.05 '.' 0.1 ' ' 1\n",
       "\n",
       "Residual standard error: 0.4538 on 29 degrees of freedom\n",
       "Multiple R-squared:  0.1557,\tAdjusted R-squared:  0.1266 \n",
       "F-statistic: 5.348 on 1 and 29 DF,  p-value: 0.02804\n"
      ]
     },
     "metadata": {},
     "output_type": "display_data"
    },
    {
     "data": {
      "text/html": [
       "0.192661741704526"
      ],
      "text/latex": [
       "0.192661741704526"
      ],
      "text/markdown": [
       "0.192661741704526"
      ],
      "text/plain": [
       "[1] 0.1926617"
      ]
     },
     "metadata": {},
     "output_type": "display_data"
    },
    {
     "data": {
      "text/html": [
       "47.2247535689988"
      ],
      "text/latex": [
       "47.2247535689988"
      ],
      "text/markdown": [
       "47.2247535689988"
      ],
      "text/plain": [
       "[1] 47.22475"
      ]
     },
     "metadata": {},
     "output_type": "display_data"
    },
    {
     "data": {
      "text/html": [
       "0.43893250244716"
      ],
      "text/latex": [
       "0.43893250244716"
      ],
      "text/markdown": [
       "0.43893250244716"
      ],
      "text/plain": [
       "[1] 0.4389325"
      ]
     },
     "metadata": {},
     "output_type": "display_data"
    },
    {
     "data": {
      "text/html": [
       "<table>\n",
       "<thead><tr><th></th><th scope=col>Df</th><th scope=col>Sum Sq</th><th scope=col>Mean Sq</th><th scope=col>F value</th><th scope=col>Pr(&gt;F)</th></tr></thead>\n",
       "<tbody>\n",
       "\t<tr><th scope=row>Précipitations</th><td> 1        </td><td>1.101366  </td><td>1.1013656 </td><td>5.347765  </td><td>0.02804489</td></tr>\n",
       "\t<tr><th scope=row>Residuals</th><td>29        </td><td>5.972514  </td><td>0.2059488 </td><td>      NA  </td><td>        NA</td></tr>\n",
       "</tbody>\n",
       "</table>\n"
      ],
      "text/latex": [
       "\\begin{tabular}{r|lllll}\n",
       "  & Df & Sum Sq & Mean Sq & F value & Pr(>F)\\\\\n",
       "\\hline\n",
       "\tPrécipitations &  1         & 1.101366   & 1.1013656  & 5.347765   & 0.02804489\\\\\n",
       "\tResiduals & 29         & 5.972514   & 0.2059488  &       NA   &         NA\\\\\n",
       "\\end{tabular}\n"
      ],
      "text/markdown": [
       "\n",
       "| <!--/--> | Df | Sum Sq | Mean Sq | F value | Pr(>F) |\n",
       "|---|---|---|---|---|---|\n",
       "| Précipitations |  1         | 1.101366   | 1.1013656  | 5.347765   | 0.02804489 |\n",
       "| Residuals | 29         | 5.972514   | 0.2059488  |       NA   |         NA |\n",
       "\n"
      ],
      "text/plain": [
       "               Df Sum Sq   Mean Sq   F value  Pr(>F)    \n",
       "Précipitations  1 1.101366 1.1013656 5.347765 0.02804489\n",
       "Residuals      29 5.972514 0.2059488       NA         NA"
      ]
     },
     "metadata": {},
     "output_type": "display_data"
    },
    {
     "data": {
      "text/html": [
       "<dl class=dl-horizontal>\n",
       "\t<dt>(Intercept)</dt>\n",
       "\t\t<dd>0.595389488112999</dd>\n",
       "\t<dt>Précipitations</dt>\n",
       "\t\t<dd>0.0254938855807666</dd>\n",
       "</dl>\n"
      ],
      "text/latex": [
       "\\begin{description*}\n",
       "\\item[(Intercept)] 0.595389488112999\n",
       "\\item[Précipitations] 0.0254938855807666\n",
       "\\end{description*}\n"
      ],
      "text/markdown": [
       "(Intercept)\n",
       ":   0.595389488112999Précipitations\n",
       ":   0.0254938855807666\n",
       "\n"
      ],
      "text/plain": [
       "   (Intercept) Précipitations \n",
       "    0.59538949     0.02549389 "
      ]
     },
     "metadata": {},
     "output_type": "display_data"
    }
   ],
   "source": [
    "data$l.Turbidité <- log10(data$Turbidité)\n",
    "model <- l.Turbidité ~ Précipitations\n",
    "fit <- lm(model, data)\n",
    "summ <- summary(fit)\n",
    "summ\n",
    "mean(summ$residuals^2)\n",
    "BIC(fit)\n",
    "sqrt(mean(summ$residuals^2))\n",
    "anova(fit)\n",
    "coefficients(fit)"
   ]
  },
  {
   "cell_type": "code",
   "execution_count": 55,
   "metadata": {},
   "outputs": [
    {
     "data": {
      "image/png": "[encoded data removed]",
      "text/plain": [
       "Plot with title \"Scénario 3 - Andenne\""
      ]
     },
     "metadata": {},
     "output_type": "display_data"
    }
   ],
   "source": [
    "ybis = 0.0254938855807666 *data$Précipitations + 0.595389488112999\n",
    "y1 = ybis\n",
    "x1 = data$l.Turbidité\n",
    "plot(x1, y1,\n",
    "  ylab=\"Log(turbidité estimée [NTU])\",\n",
    "  xlab=\"Log(turbidité observée [NTU])\",\n",
    "     main = \"Scénario 3 - Andenne\",\n",
    "    pch = 18)\n",
    "abline(lm(y1 ~ x1), col=\"blue\")"
   ]
  },
  {
   "cell_type": "markdown",
   "metadata": {},
   "source": [
    "# Lixhe"
   ]
  },
  {
   "cell_type": "code",
   "execution_count": 56,
   "metadata": {},
   "outputs": [
    {
     "data": {
      "text/html": [
       "<table>\n",
       "<thead><tr><th scope=col>Turbidité</th><th scope=col>Débit</th><th scope=col>Précipitations</th></tr></thead>\n",
       "<tbody>\n",
       "\t<tr><td>0.681   </td><td>53.89304</td><td> 4.0    </td></tr>\n",
       "\t<tr><td>0.856   </td><td>55.47750</td><td>18.6    </td></tr>\n",
       "</tbody>\n",
       "</table>\n"
      ],
      "text/latex": [
       "\\begin{tabular}{r|lll}\n",
       " Turbidité & Débit & Précipitations\\\\\n",
       "\\hline\n",
       "\t 0.681    & 53.89304 &  4.0    \\\\\n",
       "\t 0.856    & 55.47750 & 18.6    \\\\\n",
       "\\end{tabular}\n"
      ],
      "text/markdown": [
       "\n",
       "| Turbidité | Débit | Précipitations |\n",
       "|---|---|---|\n",
       "| 0.681    | 53.89304 |  4.0     |\n",
       "| 0.856    | 55.47750 | 18.6     |\n",
       "\n"
      ],
      "text/plain": [
       "  Turbidité Débit    Précipitations\n",
       "1 0.681     53.89304  4.0          \n",
       "2 0.856     55.47750 18.6          "
      ]
     },
     "metadata": {},
     "output_type": "display_data"
    }
   ],
   "source": [
    "library(readxl)\n",
    "data <- read_excel(\n",
    "    path = \"Desktop\\\\Memoire\\\\bases_de_donnees\\\\jeux_donnees\\\\vi_SR_débit_précip.xlsx\",\n",
    "    sheet = 3, # 1 = hastière, 2 = andenne, 3 = lixhe, 5 = tout\n",
    "    col_names = TRUE)\n",
    "data = subset(data, select = -c(date,B1,B2,B3,B4,B5,B6,B7,B8,B8A,B9,B11,B12))\n",
    "head(data,2)"
   ]
  },
  {
   "cell_type": "code",
   "execution_count": 57,
   "metadata": {},
   "outputs": [
    {
     "data": {
      "text/plain": [
       "\n",
       "Call:\n",
       "lm(formula = model, data = data)\n",
       "\n",
       "Residuals:\n",
       "     Min       1Q   Median       3Q      Max \n",
       "-0.82454 -0.14069 -0.03057  0.14319  0.82907 \n",
       "\n",
       "Coefficients:\n",
       "               Estimate Std. Error t value Pr(>|t|)    \n",
       "(Intercept)    0.416543   0.061351   6.789 4.75e-08 ***\n",
       "Précipitations 0.018305   0.007442   2.460   0.0186 *  \n",
       "---\n",
       "Signif. codes:  0 '***' 0.001 '**' 0.01 '*' 0.05 '.' 0.1 ' ' 1\n",
       "\n",
       "Residual standard error: 0.3241 on 38 degrees of freedom\n",
       "Multiple R-squared:  0.1373,\tAdjusted R-squared:  0.1146 \n",
       "F-statistic:  6.05 on 1 and 38 DF,  p-value: 0.01857\n"
      ]
     },
     "metadata": {},
     "output_type": "display_data"
    },
    {
     "data": {
      "text/html": [
       "0.0997944395075896"
      ],
      "text/latex": [
       "0.0997944395075896"
      ],
      "text/markdown": [
       "0.0997944395075896"
      ],
      "text/plain": [
       "[1] 0.09979444"
      ]
     },
     "metadata": {},
     "output_type": "display_data"
    },
    {
     "data": {
      "text/html": [
       "32.3960084757656"
      ],
      "text/latex": [
       "32.3960084757656"
      ],
      "text/markdown": [
       "32.3960084757656"
      ],
      "text/plain": [
       "[1] 32.39601"
      ]
     },
     "metadata": {},
     "output_type": "display_data"
    },
    {
     "data": {
      "text/html": [
       "0.315902579140452"
      ],
      "text/latex": [
       "0.315902579140452"
      ],
      "text/markdown": [
       "0.315902579140452"
      ],
      "text/plain": [
       "[1] 0.3159026"
      ]
     },
     "metadata": {},
     "output_type": "display_data"
    },
    {
     "data": {
      "text/html": [
       "<table>\n",
       "<thead><tr><th></th><th scope=col>Df</th><th scope=col>Sum Sq</th><th scope=col>Mean Sq</th><th scope=col>F value</th><th scope=col>Pr(&gt;F)</th></tr></thead>\n",
       "<tbody>\n",
       "\t<tr><th scope=row>Précipitations</th><td> 1        </td><td>0.6355166 </td><td>0.6355166 </td><td>6.049843  </td><td>0.01857079</td></tr>\n",
       "\t<tr><th scope=row>Residuals</th><td>38        </td><td>3.9917776 </td><td>0.1050468 </td><td>      NA  </td><td>        NA</td></tr>\n",
       "</tbody>\n",
       "</table>\n"
      ],
      "text/latex": [
       "\\begin{tabular}{r|lllll}\n",
       "  & Df & Sum Sq & Mean Sq & F value & Pr(>F)\\\\\n",
       "\\hline\n",
       "\tPrécipitations &  1         & 0.6355166  & 0.6355166  & 6.049843   & 0.01857079\\\\\n",
       "\tResiduals & 38         & 3.9917776  & 0.1050468  &       NA   &         NA\\\\\n",
       "\\end{tabular}\n"
      ],
      "text/markdown": [
       "\n",
       "| <!--/--> | Df | Sum Sq | Mean Sq | F value | Pr(>F) |\n",
       "|---|---|---|---|---|---|\n",
       "| Précipitations |  1         | 0.6355166  | 0.6355166  | 6.049843   | 0.01857079 |\n",
       "| Residuals | 38         | 3.9917776  | 0.1050468  |       NA   |         NA |\n",
       "\n"
      ],
      "text/plain": [
       "               Df Sum Sq    Mean Sq   F value  Pr(>F)    \n",
       "Précipitations  1 0.6355166 0.6355166 6.049843 0.01857079\n",
       "Residuals      38 3.9917776 0.1050468       NA         NA"
      ]
     },
     "metadata": {},
     "output_type": "display_data"
    },
    {
     "data": {
      "text/html": [
       "<dl class=dl-horizontal>\n",
       "\t<dt>(Intercept)</dt>\n",
       "\t\t<dd>0.416542502584499</dd>\n",
       "\t<dt>Précipitations</dt>\n",
       "\t\t<dd>0.0183048222601186</dd>\n",
       "</dl>\n"
      ],
      "text/latex": [
       "\\begin{description*}\n",
       "\\item[(Intercept)] 0.416542502584499\n",
       "\\item[Précipitations] 0.0183048222601186\n",
       "\\end{description*}\n"
      ],
      "text/markdown": [
       "(Intercept)\n",
       ":   0.416542502584499Précipitations\n",
       ":   0.0183048222601186\n",
       "\n"
      ],
      "text/plain": [
       "   (Intercept) Précipitations \n",
       "    0.41654250     0.01830482 "
      ]
     },
     "metadata": {},
     "output_type": "display_data"
    }
   ],
   "source": [
    "data$l.Turbidité <- log10(data$Turbidité)\n",
    "model <- l.Turbidité ~ Précipitations\n",
    "fit <- lm(model, data)\n",
    "summ <- summary(fit)\n",
    "summ\n",
    "mean(summ$residuals^2)\n",
    "BIC(fit)\n",
    "sqrt(mean(summ$residuals^2))\n",
    "anova(fit)\n",
    "coefficients(fit)"
   ]
  },
  {
   "cell_type": "code",
   "execution_count": 58,
   "metadata": {},
   "outputs": [
    {
     "data": {
      "image/png": "[encoded data removed]",
      "text/plain": [
       "Plot with title \"Scénario 3 - Lixhe\""
      ]
     },
     "metadata": {},
     "output_type": "display_data"
    }
   ],
   "source": [
    "ybis = 0.0183048222601186 *data$Précipitations + 0.416542502584499\n",
    "y1 = ybis\n",
    "x1 = data$l.Turbidité\n",
    "plot(x1, y1,\n",
    "  ylab=\"Log(turbidité estimée [NTU])\",\n",
    "  xlab=\"Log(turbidité observée [NTU])\",\n",
    "     main = \"Scénario 3 - Lixhe\",\n",
    "    pch = 18)\n",
    "abline(lm(y1 ~ x1), col=\"blue\")"
   ]
  },
  {
   "cell_type": "markdown",
   "metadata": {},
   "source": [
    "# Stations groupées"
   ]
  },
  {
   "cell_type": "code",
   "execution_count": 59,
   "metadata": {},
   "outputs": [
    {
     "data": {
      "text/html": [
       "<table>\n",
       "<thead><tr><th scope=col>Turbidité</th><th scope=col>Débit</th><th scope=col>Précipitations</th></tr></thead>\n",
       "<tbody>\n",
       "\t<tr><td>7.188</td><td>92.46</td><td>4.6  </td></tr>\n",
       "\t<tr><td>2.969</td><td>31.33</td><td>0.0  </td></tr>\n",
       "</tbody>\n",
       "</table>\n"
      ],
      "text/latex": [
       "\\begin{tabular}{r|lll}\n",
       " Turbidité & Débit & Précipitations\\\\\n",
       "\\hline\n",
       "\t 7.188 & 92.46 & 4.6  \\\\\n",
       "\t 2.969 & 31.33 & 0.0  \\\\\n",
       "\\end{tabular}\n"
      ],
      "text/markdown": [
       "\n",
       "| Turbidité | Débit | Précipitations |\n",
       "|---|---|---|\n",
       "| 7.188 | 92.46 | 4.6   |\n",
       "| 2.969 | 31.33 | 0.0   |\n",
       "\n"
      ],
      "text/plain": [
       "  Turbidité Débit Précipitations\n",
       "1 7.188     92.46 4.6           \n",
       "2 2.969     31.33 0.0           "
      ]
     },
     "metadata": {},
     "output_type": "display_data"
    }
   ],
   "source": [
    "library(readxl)\n",
    "data <- read_excel(\n",
    "    path = \"Desktop\\\\Memoire\\\\bases_de_donnees\\\\jeux_donnees\\\\vi_SR_débit_précip.xlsx\",\n",
    "    sheet = 4, # 1 = hastière, 2 = andenne, 3 = lixhe, 4 = tout\n",
    "    col_names = TRUE)\n",
    "data = subset(data, select = -c(date,B1,B2,B3,B4,B5,B6,B7,B8,B8A,B9,B11,B12))\n",
    "head(data,2)"
   ]
  },
  {
   "cell_type": "code",
   "execution_count": 60,
   "metadata": {},
   "outputs": [
    {
     "data": {
      "text/plain": [
       "\n",
       "Call:\n",
       "lm(formula = model, data = data)\n",
       "\n",
       "Residuals:\n",
       "     Min       1Q   Median       3Q      Max \n",
       "-0.99571 -0.20086 -0.03121  0.18314  1.19300 \n",
       "\n",
       "Coefficients:\n",
       "               Estimate Std. Error t value Pr(>|t|)    \n",
       "(Intercept)    0.630190   0.043664  14.433   <2e-16 ***\n",
       "Précipitations 0.011433   0.004436   2.578   0.0113 *  \n",
       "---\n",
       "Signif. codes:  0 '***' 0.001 '**' 0.01 '*' 0.05 '.' 0.1 ' ' 1\n",
       "\n",
       "Residual standard error: 0.3809 on 106 degrees of freedom\n",
       "Multiple R-squared:  0.05898,\tAdjusted R-squared:  0.05011 \n",
       "F-statistic: 6.644 on 1 and 106 DF,  p-value: 0.01132\n"
      ]
     },
     "metadata": {},
     "output_type": "display_data"
    },
    {
     "data": {
      "text/html": [
       "0.142381771324159"
      ],
      "text/latex": [
       "0.142381771324159"
      ],
      "text/markdown": [
       "0.142381771324159"
      ],
      "text/plain": [
       "[1] 0.1423818"
      ]
     },
     "metadata": {},
     "output_type": "display_data"
    },
    {
     "data": {
      "text/html": [
       "110.018840608849"
      ],
      "text/latex": [
       "110.018840608849"
      ],
      "text/markdown": [
       "110.018840608849"
      ],
      "text/plain": [
       "[1] 110.0188"
      ]
     },
     "metadata": {},
     "output_type": "display_data"
    },
    {
     "data": {
      "text/html": [
       "0.377335091562075"
      ],
      "text/latex": [
       "0.377335091562075"
      ],
      "text/markdown": [
       "0.377335091562075"
      ],
      "text/plain": [
       "[1] 0.3773351"
      ]
     },
     "metadata": {},
     "output_type": "display_data"
    },
    {
     "data": {
      "text/html": [
       "<table>\n",
       "<thead><tr><th></th><th scope=col>Df</th><th scope=col>Sum Sq</th><th scope=col>Mean Sq</th><th scope=col>F value</th><th scope=col>Pr(&gt;F)</th></tr></thead>\n",
       "<tbody>\n",
       "\t<tr><th scope=row>Précipitations</th><td>  1       </td><td> 0.9638721</td><td>0.9638721 </td><td>6.644268  </td><td>0.01132132</td></tr>\n",
       "\t<tr><th scope=row>Residuals</th><td>106       </td><td>15.3772313</td><td>0.1450682 </td><td>      NA  </td><td>        NA</td></tr>\n",
       "</tbody>\n",
       "</table>\n"
      ],
      "text/latex": [
       "\\begin{tabular}{r|lllll}\n",
       "  & Df & Sum Sq & Mean Sq & F value & Pr(>F)\\\\\n",
       "\\hline\n",
       "\tPrécipitations &   1        &  0.9638721 & 0.9638721  & 6.644268   & 0.01132132\\\\\n",
       "\tResiduals & 106        & 15.3772313 & 0.1450682  &       NA   &         NA\\\\\n",
       "\\end{tabular}\n"
      ],
      "text/markdown": [
       "\n",
       "| <!--/--> | Df | Sum Sq | Mean Sq | F value | Pr(>F) |\n",
       "|---|---|---|---|---|---|\n",
       "| Précipitations |   1        |  0.9638721 | 0.9638721  | 6.644268   | 0.01132132 |\n",
       "| Residuals | 106        | 15.3772313 | 0.1450682  |       NA   |         NA |\n",
       "\n"
      ],
      "text/plain": [
       "               Df  Sum Sq     Mean Sq   F value  Pr(>F)    \n",
       "Précipitations   1  0.9638721 0.9638721 6.644268 0.01132132\n",
       "Residuals      106 15.3772313 0.1450682       NA         NA"
      ]
     },
     "metadata": {},
     "output_type": "display_data"
    },
    {
     "data": {
      "text/html": [
       "<dl class=dl-horizontal>\n",
       "\t<dt>(Intercept)</dt>\n",
       "\t\t<dd>0.630190485603087</dd>\n",
       "\t<dt>Précipitations</dt>\n",
       "\t\t<dd>0.0114333723845559</dd>\n",
       "</dl>\n"
      ],
      "text/latex": [
       "\\begin{description*}\n",
       "\\item[(Intercept)] 0.630190485603087\n",
       "\\item[Précipitations] 0.0114333723845559\n",
       "\\end{description*}\n"
      ],
      "text/markdown": [
       "(Intercept)\n",
       ":   0.630190485603087Précipitations\n",
       ":   0.0114333723845559\n",
       "\n"
      ],
      "text/plain": [
       "   (Intercept) Précipitations \n",
       "    0.63019049     0.01143337 "
      ]
     },
     "metadata": {},
     "output_type": "display_data"
    }
   ],
   "source": [
    "data$l.Turbidité <- log10(data$Turbidité)\n",
    "data$log.Débit <- log10(data$Débit)\n",
    "model <- l.Turbidité ~ Précipitations\n",
    "fit <- lm(model, data)\n",
    "summ <- summary(fit)\n",
    "summ\n",
    "mean(summ$residuals^2)\n",
    "BIC(fit)\n",
    "sqrt(mean(summ$residuals^2))\n",
    "anova(fit)\n",
    "coefficients(fit)"
   ]
  },
  {
   "cell_type": "code",
   "execution_count": 61,
   "metadata": {},
   "outputs": [
    {
     "data": {
      "image/png": "[encoded data removed]",
      "text/plain": [
       "Plot with title \"Scénario 3 - Stations groupées\""
      ]
     },
     "metadata": {},
     "output_type": "display_data"
    }
   ],
   "source": [
    "ybis = 0.0114333723845559 *data$Précipitations + 0.630190485603087\n",
    "y1 = ybis\n",
    "x1 = data$l.Turbidité\n",
    "plot(x1, y1,\n",
    "  ylab=\"Log(turbidité estimée [NTU])\",\n",
    "  xlab=\"Log(turbidité observée [NTU])\",\n",
    "     main = \"Scénario 3 - Stations groupées\",\n",
    "    pch = 18)\n",
    "abline(lm(y1 ~ x1), col=\"blue\")"
   ]
  },
  {
   "cell_type": "markdown",
   "metadata": {},
   "source": [
    "# Niveau 4 : débit et précipitations"
   ]
  },
  {
   "cell_type": "markdown",
   "metadata": {},
   "source": [
    "# Hastière"
   ]
  },
  {
   "cell_type": "code",
   "execution_count": 62,
   "metadata": {},
   "outputs": [
    {
     "data": {
      "text/html": [
       "<table>\n",
       "<thead><tr><th scope=col>Turbidité</th><th scope=col>Débit</th><th scope=col>Précipitations</th></tr></thead>\n",
       "<tbody>\n",
       "\t<tr><td>7.188</td><td>92.46</td><td>4.6  </td></tr>\n",
       "\t<tr><td>2.969</td><td>31.33</td><td>0.0  </td></tr>\n",
       "</tbody>\n",
       "</table>\n"
      ],
      "text/latex": [
       "\\begin{tabular}{r|lll}\n",
       " Turbidité & Débit & Précipitations\\\\\n",
       "\\hline\n",
       "\t 7.188 & 92.46 & 4.6  \\\\\n",
       "\t 2.969 & 31.33 & 0.0  \\\\\n",
       "\\end{tabular}\n"
      ],
      "text/markdown": [
       "\n",
       "| Turbidité | Débit | Précipitations |\n",
       "|---|---|---|\n",
       "| 7.188 | 92.46 | 4.6   |\n",
       "| 2.969 | 31.33 | 0.0   |\n",
       "\n"
      ],
      "text/plain": [
       "  Turbidité Débit Précipitations\n",
       "1 7.188     92.46 4.6           \n",
       "2 2.969     31.33 0.0           "
      ]
     },
     "metadata": {},
     "output_type": "display_data"
    }
   ],
   "source": [
    "library(readxl)\n",
    "data <- read_excel(\n",
    "    path = \"Desktop\\\\Memoire\\\\bases_de_donnees\\\\jeux_donnees\\\\vi_SR_débit_précip.xlsx\",\n",
    "    sheet = 1, # 1 = hastière, 2 = andenne, 3 = lixhe, 5 = tout\n",
    "    col_names = TRUE)\n",
    "data = subset(data, select = -c(date,B1,B2,B3,B4,B5,B6,B7,B8,B8A,B9,B11,B12))\n",
    "head(data,2)"
   ]
  },
  {
   "cell_type": "code",
   "execution_count": 63,
   "metadata": {
    "scrolled": true
   },
   "outputs": [
    {
     "data": {
      "text/plain": [
       "\n",
       "Call:\n",
       "lm(formula = model, data = data)\n",
       "\n",
       "Residuals:\n",
       "     Min       1Q   Median       3Q      Max \n",
       "-0.30051 -0.05467  0.00731  0.07462  0.29378 \n",
       "\n",
       "Coefficients:\n",
       "                Estimate Std. Error t value Pr(>|t|)    \n",
       "(Intercept)    -0.120452   0.111894  -1.076    0.289    \n",
       "log.Débit       0.565588   0.062242   9.087 1.28e-10 ***\n",
       "Précipitations  0.003497   0.002222   1.574    0.125    \n",
       "---\n",
       "Signif. codes:  0 '***' 0.001 '**' 0.01 '*' 0.05 '.' 0.1 ' ' 1\n",
       "\n",
       "Residual standard error: 0.1318 on 34 degrees of freedom\n",
       "Multiple R-squared:  0.7093,\tAdjusted R-squared:  0.6922 \n",
       "F-statistic: 41.47 on 2 and 34 DF,  p-value: 7.58e-10\n"
      ]
     },
     "metadata": {},
     "output_type": "display_data"
    },
    {
     "data": {
      "text/html": [
       "0.015970821693111"
      ],
      "text/latex": [
       "0.015970821693111"
      ],
      "text/markdown": [
       "0.015970821693111"
      ],
      "text/plain": [
       "[1] 0.01597082"
      ]
     },
     "metadata": {},
     "output_type": "display_data"
    },
    {
     "data": {
      "text/html": [
       "-33.6235759263724"
      ],
      "text/latex": [
       "-33.6235759263724"
      ],
      "text/markdown": [
       "-33.6235759263724"
      ],
      "text/plain": [
       "[1] -33.62358"
      ]
     },
     "metadata": {},
     "output_type": "display_data"
    },
    {
     "data": {
      "text/html": [
       "0.1263757163901"
      ],
      "text/latex": [
       "0.1263757163901"
      ],
      "text/markdown": [
       "0.1263757163901"
      ],
      "text/plain": [
       "[1] 0.1263757"
      ]
     },
     "metadata": {},
     "output_type": "display_data"
    },
    {
     "data": {
      "text/html": [
       "<table>\n",
       "<thead><tr><th></th><th scope=col>Df</th><th scope=col>Sum Sq</th><th scope=col>Mean Sq</th><th scope=col>F value</th><th scope=col>Pr(&gt;F)</th></tr></thead>\n",
       "<tbody>\n",
       "\t<tr><th scope=row>log.Débit</th><td> 1          </td><td>1.39847439  </td><td>1.39847439  </td><td>80.464524   </td><td>1.747081e-10</td></tr>\n",
       "\t<tr><th scope=row>Précipitations</th><td> 1          </td><td>0.04305371  </td><td>0.04305371  </td><td> 2.477197   </td><td>1.247686e-01</td></tr>\n",
       "\t<tr><th scope=row>Residuals</th><td>34          </td><td>0.59092040  </td><td>0.01738001  </td><td>       NA   </td><td>          NA</td></tr>\n",
       "</tbody>\n",
       "</table>\n"
      ],
      "text/latex": [
       "\\begin{tabular}{r|lllll}\n",
       "  & Df & Sum Sq & Mean Sq & F value & Pr(>F)\\\\\n",
       "\\hline\n",
       "\tlog.Débit &  1           & 1.39847439   & 1.39847439   & 80.464524    & 1.747081e-10\\\\\n",
       "\tPrécipitations &  1           & 0.04305371   & 0.04305371   &  2.477197    & 1.247686e-01\\\\\n",
       "\tResiduals & 34           & 0.59092040   & 0.01738001   &        NA    &           NA\\\\\n",
       "\\end{tabular}\n"
      ],
      "text/markdown": [
       "\n",
       "| <!--/--> | Df | Sum Sq | Mean Sq | F value | Pr(>F) |\n",
       "|---|---|---|---|---|---|\n",
       "| log.Débit |  1           | 1.39847439   | 1.39847439   | 80.464524    | 1.747081e-10 |\n",
       "| Précipitations |  1           | 0.04305371   | 0.04305371   |  2.477197    | 1.247686e-01 |\n",
       "| Residuals | 34           | 0.59092040   | 0.01738001   |        NA    |           NA |\n",
       "\n"
      ],
      "text/plain": [
       "               Df Sum Sq     Mean Sq    F value   Pr(>F)      \n",
       "log.Débit       1 1.39847439 1.39847439 80.464524 1.747081e-10\n",
       "Précipitations  1 0.04305371 0.04305371  2.477197 1.247686e-01\n",
       "Residuals      34 0.59092040 0.01738001        NA           NA"
      ]
     },
     "metadata": {},
     "output_type": "display_data"
    },
    {
     "data": {
      "text/html": [
       "<dl class=dl-horizontal>\n",
       "\t<dt>(Intercept)</dt>\n",
       "\t\t<dd>-0.120451840600422</dd>\n",
       "\t<dt>log.Débit</dt>\n",
       "\t\t<dd>0.565588150313059</dd>\n",
       "\t<dt>Précipitations</dt>\n",
       "\t\t<dd>0.00349669694726127</dd>\n",
       "</dl>\n"
      ],
      "text/latex": [
       "\\begin{description*}\n",
       "\\item[(Intercept)] -0.120451840600422\n",
       "\\item[log.Débit] 0.565588150313059\n",
       "\\item[Précipitations] 0.00349669694726127\n",
       "\\end{description*}\n"
      ],
      "text/markdown": [
       "(Intercept)\n",
       ":   -0.120451840600422log.Débit\n",
       ":   0.565588150313059Précipitations\n",
       ":   0.00349669694726127\n",
       "\n"
      ],
      "text/plain": [
       "   (Intercept)      log.Débit Précipitations \n",
       "  -0.120451841    0.565588150    0.003496697 "
      ]
     },
     "metadata": {},
     "output_type": "display_data"
    }
   ],
   "source": [
    "data$l.Turbidité <- log10(data$Turbidité)\n",
    "data$log.Débit <- log10(data$Débit)\n",
    "model <- l.Turbidité ~ log.Débit + Précipitations\n",
    "fit <- lm(model, data)\n",
    "summ <- summary(fit)\n",
    "summ\n",
    "mean(summ$residuals^2)\n",
    "BIC(fit)\n",
    "sqrt(mean(summ$residuals^2))\n",
    "anova(fit)\n",
    "coefficients(fit)"
   ]
  },
  {
   "cell_type": "code",
   "execution_count": 64,
   "metadata": {},
   "outputs": [
    {
     "data": {
      "image/png": "[encoded data removed]",
      "text/plain": [
       "Plot with title \"Scénario 4 - Hastière\""
      ]
     },
     "metadata": {},
     "output_type": "display_data"
    }
   ],
   "source": [
    "ybis = 0.565588150313059*data$log.Débit + 0.00349669694726127 * data$Précipitations -0.120451840600422\n",
    "y = ybis\n",
    "x = data$l.Turbidité\n",
    "plot(x, y,\n",
    "  ylab=\"Log(turbidité estimée [NTU])\",\n",
    "  xlab=\"Log(turbidité observée [NTU])\",\n",
    "     main = \"Scénario 4 - Hastière\",\n",
    "    pch = 18)\n",
    "abline(lm(y ~ x), col=\"blue\")"
   ]
  },
  {
   "cell_type": "markdown",
   "metadata": {},
   "source": [
    "# Andenne"
   ]
  },
  {
   "cell_type": "code",
   "execution_count": 67,
   "metadata": {},
   "outputs": [
    {
     "data": {
      "text/html": [
       "<table>\n",
       "<thead><tr><th scope=col>Turbidité</th><th scope=col>Débit</th><th scope=col>Précipitations</th></tr></thead>\n",
       "<tbody>\n",
       "\t<tr><td>4.850 </td><td>129.71</td><td>3.9   </td></tr>\n",
       "\t<tr><td>5.088 </td><td> 73.83</td><td>9.8   </td></tr>\n",
       "</tbody>\n",
       "</table>\n"
      ],
      "text/latex": [
       "\\begin{tabular}{r|lll}\n",
       " Turbidité & Débit & Précipitations\\\\\n",
       "\\hline\n",
       "\t 4.850  & 129.71 & 3.9   \\\\\n",
       "\t 5.088  &  73.83 & 9.8   \\\\\n",
       "\\end{tabular}\n"
      ],
      "text/markdown": [
       "\n",
       "| Turbidité | Débit | Précipitations |\n",
       "|---|---|---|\n",
       "| 4.850  | 129.71 | 3.9    |\n",
       "| 5.088  |  73.83 | 9.8    |\n",
       "\n"
      ],
      "text/plain": [
       "  Turbidité Débit  Précipitations\n",
       "1 4.850     129.71 3.9           \n",
       "2 5.088      73.83 9.8           "
      ]
     },
     "metadata": {},
     "output_type": "display_data"
    }
   ],
   "source": [
    "library(readxl)\n",
    "data <- read_excel(\n",
    "    path = \"Desktop\\\\Memoire\\\\bases_de_donnees\\\\jeux_donnees\\\\vi_SR_débit_précip.xlsx\",\n",
    "    sheet = 2, # 1 = hastière, 2 = andenne, 3 = lixhe, 5 = tout\n",
    "    col_names = TRUE)\n",
    "data = subset(data, select = -c(MOY,B1,B2,B3,B4,B5,B6,B7,B8,B8A,B9,B11,B12))\n",
    "head(data,2)"
   ]
  },
  {
   "cell_type": "code",
   "execution_count": 68,
   "metadata": {},
   "outputs": [
    {
     "data": {
      "text/plain": [
       "\n",
       "Call:\n",
       "lm(formula = model, data = data)\n",
       "\n",
       "Residuals:\n",
       "     Min       1Q   Median       3Q      Max \n",
       "-0.67427 -0.16039  0.07011  0.20819  0.56283 \n",
       "\n",
       "Coefficients:\n",
       "                Estimate Std. Error t value Pr(>|t|)    \n",
       "(Intercept)    -1.219555   0.304348  -4.007 0.000412 ***\n",
       "log.Débit       0.959282   0.156840   6.116 1.34e-06 ***\n",
       "Précipitations  0.023391   0.007349   3.183 0.003554 ** \n",
       "---\n",
       "Signif. codes:  0 '***' 0.001 '**' 0.01 '*' 0.05 '.' 0.1 ' ' 1\n",
       "\n",
       "Residual standard error: 0.3022 on 28 degrees of freedom\n",
       "Multiple R-squared:  0.6386,\tAdjusted R-squared:  0.6128 \n",
       "F-statistic: 24.74 on 2 and 28 DF,  p-value: 6.49e-07\n"
      ]
     },
     "metadata": {},
     "output_type": "display_data"
    },
    {
     "data": {
      "text/html": [
       "0.0824737440143822"
      ],
      "text/latex": [
       "0.0824737440143822"
      ],
      "text/markdown": [
       "0.0824737440143822"
      ],
      "text/plain": [
       "[1] 0.08247374"
      ]
     },
     "metadata": {},
     "output_type": "display_data"
    },
    {
     "data": {
      "text/html": [
       "24.3566038659751"
      ],
      "text/latex": [
       "24.3566038659751"
      ],
      "text/markdown": [
       "24.3566038659751"
      ],
      "text/plain": [
       "[1] 24.3566"
      ]
     },
     "metadata": {},
     "output_type": "display_data"
    },
    {
     "data": {
      "text/html": [
       "0.287182422885493"
      ],
      "text/latex": [
       "0.287182422885493"
      ],
      "text/markdown": [
       "0.287182422885493"
      ],
      "text/plain": [
       "[1] 0.2871824"
      ]
     },
     "metadata": {},
     "output_type": "display_data"
    },
    {
     "data": {
      "text/html": [
       "<table>\n",
       "<thead><tr><th></th><th scope=col>Df</th><th scope=col>Sum Sq</th><th scope=col>Mean Sq</th><th scope=col>F value</th><th scope=col>Pr(&gt;F)</th></tr></thead>\n",
       "<tbody>\n",
       "\t<tr><th scope=row>log.Débit</th><td> 1          </td><td>3.5920723   </td><td>3.59207229  </td><td>39.33922    </td><td>8.828278e-07</td></tr>\n",
       "\t<tr><th scope=row>Précipitations</th><td> 1          </td><td>0.9251212   </td><td>0.92512121  </td><td>10.13163    </td><td>3.554477e-03</td></tr>\n",
       "\t<tr><th scope=row>Residuals</th><td>28          </td><td>2.5566861   </td><td>0.09131022  </td><td>      NA    </td><td>          NA</td></tr>\n",
       "</tbody>\n",
       "</table>\n"
      ],
      "text/latex": [
       "\\begin{tabular}{r|lllll}\n",
       "  & Df & Sum Sq & Mean Sq & F value & Pr(>F)\\\\\n",
       "\\hline\n",
       "\tlog.Débit &  1           & 3.5920723    & 3.59207229   & 39.33922     & 8.828278e-07\\\\\n",
       "\tPrécipitations &  1           & 0.9251212    & 0.92512121   & 10.13163     & 3.554477e-03\\\\\n",
       "\tResiduals & 28           & 2.5566861    & 0.09131022   &       NA     &           NA\\\\\n",
       "\\end{tabular}\n"
      ],
      "text/markdown": [
       "\n",
       "| <!--/--> | Df | Sum Sq | Mean Sq | F value | Pr(>F) |\n",
       "|---|---|---|---|---|---|\n",
       "| log.Débit |  1           | 3.5920723    | 3.59207229   | 39.33922     | 8.828278e-07 |\n",
       "| Précipitations |  1           | 0.9251212    | 0.92512121   | 10.13163     | 3.554477e-03 |\n",
       "| Residuals | 28           | 2.5566861    | 0.09131022   |       NA     |           NA |\n",
       "\n"
      ],
      "text/plain": [
       "               Df Sum Sq    Mean Sq    F value  Pr(>F)      \n",
       "log.Débit       1 3.5920723 3.59207229 39.33922 8.828278e-07\n",
       "Précipitations  1 0.9251212 0.92512121 10.13163 3.554477e-03\n",
       "Residuals      28 2.5566861 0.09131022       NA           NA"
      ]
     },
     "metadata": {},
     "output_type": "display_data"
    },
    {
     "data": {
      "text/html": [
       "<dl class=dl-horizontal>\n",
       "\t<dt>(Intercept)</dt>\n",
       "\t\t<dd>-1.21955478829401</dd>\n",
       "\t<dt>log.Débit</dt>\n",
       "\t\t<dd>0.959281702398143</dd>\n",
       "\t<dt>Précipitations</dt>\n",
       "\t\t<dd>0.0233908247699005</dd>\n",
       "</dl>\n"
      ],
      "text/latex": [
       "\\begin{description*}\n",
       "\\item[(Intercept)] -1.21955478829401\n",
       "\\item[log.Débit] 0.959281702398143\n",
       "\\item[Précipitations] 0.0233908247699005\n",
       "\\end{description*}\n"
      ],
      "text/markdown": [
       "(Intercept)\n",
       ":   -1.21955478829401log.Débit\n",
       ":   0.959281702398143Précipitations\n",
       ":   0.0233908247699005\n",
       "\n"
      ],
      "text/plain": [
       "   (Intercept)      log.Débit Précipitations \n",
       "   -1.21955479     0.95928170     0.02339082 "
      ]
     },
     "metadata": {},
     "output_type": "display_data"
    }
   ],
   "source": [
    "data$l.Turbidité <- log10(data$Turbidité)\n",
    "data$log.Débit <- log10(data$Débit)\n",
    "model <- l.Turbidité ~ log.Débit + Précipitations\n",
    "fit <- lm(model, data)\n",
    "summ <- summary(fit)\n",
    "summ\n",
    "mean(summ$residuals^2)\n",
    "BIC(fit)\n",
    "sqrt(mean(summ$residuals^2))\n",
    "anova(fit)\n",
    "coefficients(fit)"
   ]
  },
  {
   "cell_type": "code",
   "execution_count": 69,
   "metadata": {},
   "outputs": [
    {
     "data": {
      "image/png": "[encoded data removed]",
      "text/plain": [
       "Plot with title \"Scénario 4 - Andenne\""
      ]
     },
     "metadata": {},
     "output_type": "display_data"
    }
   ],
   "source": [
    "ybis = 0.959281702398143*data$log.Débit + 0.0233908247699005 * data$Précipitations -1.21955478829401\n",
    "y = ybis\n",
    "x = data$l.Turbidité\n",
    "plot(x, y,\n",
    "  ylab=\"Log(turbidité estimée [NTU])\",\n",
    "  xlab=\"Log(turbidité observée [NTU])\",\n",
    "     main = \"Scénario 4 - Andenne\",\n",
    "    pch = 18)\n",
    "abline(lm(y ~ x), col=\"blue\")"
   ]
  },
  {
   "cell_type": "markdown",
   "metadata": {},
   "source": [
    "# Lixhe"
   ]
  },
  {
   "cell_type": "code",
   "execution_count": 74,
   "metadata": {},
   "outputs": [
    {
     "data": {
      "text/html": [
       "<table>\n",
       "<thead><tr><th scope=col>Turbidité</th><th scope=col>Débit</th><th scope=col>Précipitations</th></tr></thead>\n",
       "<tbody>\n",
       "\t<tr><td>0.681   </td><td>53.89304</td><td> 4.0    </td></tr>\n",
       "\t<tr><td>0.856   </td><td>55.47750</td><td>18.6    </td></tr>\n",
       "</tbody>\n",
       "</table>\n"
      ],
      "text/latex": [
       "\\begin{tabular}{r|lll}\n",
       " Turbidité & Débit & Précipitations\\\\\n",
       "\\hline\n",
       "\t 0.681    & 53.89304 &  4.0    \\\\\n",
       "\t 0.856    & 55.47750 & 18.6    \\\\\n",
       "\\end{tabular}\n"
      ],
      "text/markdown": [
       "\n",
       "| Turbidité | Débit | Précipitations |\n",
       "|---|---|---|\n",
       "| 0.681    | 53.89304 |  4.0     |\n",
       "| 0.856    | 55.47750 | 18.6     |\n",
       "\n"
      ],
      "text/plain": [
       "  Turbidité Débit    Précipitations\n",
       "1 0.681     53.89304  4.0          \n",
       "2 0.856     55.47750 18.6          "
      ]
     },
     "metadata": {},
     "output_type": "display_data"
    }
   ],
   "source": [
    "library(readxl)\n",
    "data <- read_excel(\n",
    "    path = \"Desktop\\\\Memoire\\\\bases_de_donnees\\\\jeux_donnees\\\\vi_SR_débit_précip.xlsx\",\n",
    "    sheet = 3, # 1 = hastière, 2 = andenne, 3 = lixhe, 5 = tout\n",
    "    col_names = TRUE)\n",
    "data = subset(data, select = -c(date,B1,B2,B3,B4,B5,B6,B7,B8,B8A,B9,B11,B12))\n",
    "head(data,2)"
   ]
  },
  {
   "cell_type": "code",
   "execution_count": 75,
   "metadata": {},
   "outputs": [
    {
     "data": {
      "text/plain": [
       "\n",
       "Call:\n",
       "lm(formula = model, data = data)\n",
       "\n",
       "Residuals:\n",
       "     Min       1Q   Median       3Q      Max \n",
       "-0.71545 -0.12508 -0.04176  0.14811  0.53905 \n",
       "\n",
       "Coefficients:\n",
       "                Estimate Std. Error t value Pr(>|t|)    \n",
       "(Intercept)    -0.255018   0.173190  -1.472 0.149347    \n",
       "log.Débit       0.369601   0.090970   4.063 0.000242 ***\n",
       "Précipitations  0.013888   0.006365   2.182 0.035543 *  \n",
       "---\n",
       "Signif. codes:  0 '***' 0.001 '**' 0.01 '*' 0.05 '.' 0.1 ' ' 1\n",
       "\n",
       "Residual standard error: 0.2731 on 37 degrees of freedom\n",
       "Multiple R-squared:  0.4035,\tAdjusted R-squared:  0.3712 \n",
       "F-statistic: 12.51 on 2 and 37 DF,  p-value: 7.066e-05\n"
      ]
     },
     "metadata": {},
     "output_type": "display_data"
    },
    {
     "data": {
      "text/html": [
       "0.069007790458264"
      ],
      "text/latex": [
       "0.069007790458264"
      ],
      "text/markdown": [
       "0.069007790458264"
      ],
      "text/plain": [
       "[1] 0.06900779"
      ]
     },
     "metadata": {},
     "output_type": "display_data"
    },
    {
     "data": {
      "text/html": [
       "21.3291654501913"
      ],
      "text/latex": [
       "21.3291654501913"
      ],
      "text/markdown": [
       "21.3291654501913"
      ],
      "text/plain": [
       "[1] 21.32917"
      ]
     },
     "metadata": {},
     "output_type": "display_data"
    },
    {
     "data": {
      "text/html": [
       "0.262693339196608"
      ],
      "text/latex": [
       "0.262693339196608"
      ],
      "text/markdown": [
       "0.262693339196608"
      ],
      "text/plain": [
       "[1] 0.2626933"
      ]
     },
     "metadata": {},
     "output_type": "display_data"
    },
    {
     "data": {
      "text/html": [
       "<table>\n",
       "<thead><tr><th></th><th scope=col>Df</th><th scope=col>Sum Sq</th><th scope=col>Mean Sq</th><th scope=col>F value</th><th scope=col>Pr(&gt;F)</th></tr></thead>\n",
       "<tbody>\n",
       "\t<tr><th scope=row>log.Débit</th><td> 1          </td><td>1.5118223   </td><td>1.51182234  </td><td>20.264896   </td><td>6.498545e-05</td></tr>\n",
       "\t<tr><th scope=row>Précipitations</th><td> 1          </td><td>0.3551602   </td><td>0.35516018  </td><td> 4.760668   </td><td>3.554345e-02</td></tr>\n",
       "\t<tr><th scope=row>Residuals</th><td>37          </td><td>2.7603116   </td><td>0.07460302  </td><td>       NA   </td><td>          NA</td></tr>\n",
       "</tbody>\n",
       "</table>\n"
      ],
      "text/latex": [
       "\\begin{tabular}{r|lllll}\n",
       "  & Df & Sum Sq & Mean Sq & F value & Pr(>F)\\\\\n",
       "\\hline\n",
       "\tlog.Débit &  1           & 1.5118223    & 1.51182234   & 20.264896    & 6.498545e-05\\\\\n",
       "\tPrécipitations &  1           & 0.3551602    & 0.35516018   &  4.760668    & 3.554345e-02\\\\\n",
       "\tResiduals & 37           & 2.7603116    & 0.07460302   &        NA    &           NA\\\\\n",
       "\\end{tabular}\n"
      ],
      "text/markdown": [
       "\n",
       "| <!--/--> | Df | Sum Sq | Mean Sq | F value | Pr(>F) |\n",
       "|---|---|---|---|---|---|\n",
       "| log.Débit |  1           | 1.5118223    | 1.51182234   | 20.264896    | 6.498545e-05 |\n",
       "| Précipitations |  1           | 0.3551602    | 0.35516018   |  4.760668    | 3.554345e-02 |\n",
       "| Residuals | 37           | 2.7603116    | 0.07460302   |        NA    |           NA |\n",
       "\n"
      ],
      "text/plain": [
       "               Df Sum Sq    Mean Sq    F value   Pr(>F)      \n",
       "log.Débit       1 1.5118223 1.51182234 20.264896 6.498545e-05\n",
       "Précipitations  1 0.3551602 0.35516018  4.760668 3.554345e-02\n",
       "Residuals      37 2.7603116 0.07460302        NA           NA"
      ]
     },
     "metadata": {},
     "output_type": "display_data"
    },
    {
     "data": {
      "text/html": [
       "<dl class=dl-horizontal>\n",
       "\t<dt>(Intercept)</dt>\n",
       "\t\t<dd>-0.255018146964208</dd>\n",
       "\t<dt>log.Débit</dt>\n",
       "\t\t<dd>0.369600545783918</dd>\n",
       "\t<dt>Précipitations</dt>\n",
       "\t\t<dd>0.0138880853258189</dd>\n",
       "</dl>\n"
      ],
      "text/latex": [
       "\\begin{description*}\n",
       "\\item[(Intercept)] -0.255018146964208\n",
       "\\item[log.Débit] 0.369600545783918\n",
       "\\item[Précipitations] 0.0138880853258189\n",
       "\\end{description*}\n"
      ],
      "text/markdown": [
       "(Intercept)\n",
       ":   -0.255018146964208log.Débit\n",
       ":   0.369600545783918Précipitations\n",
       ":   0.0138880853258189\n",
       "\n"
      ],
      "text/plain": [
       "   (Intercept)      log.Débit Précipitations \n",
       "   -0.25501815     0.36960055     0.01388809 "
      ]
     },
     "metadata": {},
     "output_type": "display_data"
    }
   ],
   "source": [
    "data$l.Turbidité <- log10(data$Turbidité)\n",
    "data$log.Débit <- log10(data$Débit)\n",
    "model <- l.Turbidité ~ log.Débit + Précipitations\n",
    "fit <- lm(model, data)\n",
    "summ <- summary(fit)\n",
    "summ\n",
    "mean(summ$residuals^2)\n",
    "BIC(fit)\n",
    "sqrt(mean(summ$residuals^2))\n",
    "anova(fit)\n",
    "coefficients(fit)"
   ]
  },
  {
   "cell_type": "code",
   "execution_count": 76,
   "metadata": {},
   "outputs": [
    {
     "data": {
      "image/png": "[encoded data removed]",
      "text/plain": [
       "Plot with title \"Scénario 4 - Lixhe\""
      ]
     },
     "metadata": {},
     "output_type": "display_data"
    }
   ],
   "source": [
    "ybis = 0.369600545783918*data$log.Débit + 0.0138880853258189 * data$Précipitations -0.255018146964208\n",
    "y = ybis\n",
    "x = data$l.Turbidité\n",
    "plot(x, y,\n",
    "  ylab=\"Log(turbidité estimée [NTU])\",\n",
    "  xlab=\"Log(turbidité observée [NTU])\",\n",
    "     main = \"Scénario 4 - Lixhe\",\n",
    "    pch = 18)\n",
    "abline(lm(y ~ x), col=\"blue\")"
   ]
  },
  {
   "cell_type": "markdown",
   "metadata": {},
   "source": [
    "# Stations groupées"
   ]
  },
  {
   "cell_type": "code",
   "execution_count": 77,
   "metadata": {},
   "outputs": [
    {
     "data": {
      "text/html": [
       "<table>\n",
       "<thead><tr><th scope=col>Turbidité</th><th scope=col>Débit</th><th scope=col>Précipitations</th></tr></thead>\n",
       "<tbody>\n",
       "\t<tr><td>7.188</td><td>92.46</td><td>4.6  </td></tr>\n",
       "\t<tr><td>2.969</td><td>31.33</td><td>0.0  </td></tr>\n",
       "</tbody>\n",
       "</table>\n"
      ],
      "text/latex": [
       "\\begin{tabular}{r|lll}\n",
       " Turbidité & Débit & Précipitations\\\\\n",
       "\\hline\n",
       "\t 7.188 & 92.46 & 4.6  \\\\\n",
       "\t 2.969 & 31.33 & 0.0  \\\\\n",
       "\\end{tabular}\n"
      ],
      "text/markdown": [
       "\n",
       "| Turbidité | Débit | Précipitations |\n",
       "|---|---|---|\n",
       "| 7.188 | 92.46 | 4.6   |\n",
       "| 2.969 | 31.33 | 0.0   |\n",
       "\n"
      ],
      "text/plain": [
       "  Turbidité Débit Précipitations\n",
       "1 7.188     92.46 4.6           \n",
       "2 2.969     31.33 0.0           "
      ]
     },
     "metadata": {},
     "output_type": "display_data"
    }
   ],
   "source": [
    "library(readxl)\n",
    "data <- read_excel(\n",
    "    path = \"Desktop\\\\Memoire\\\\bases_de_donnees\\\\jeux_donnees\\\\vi_SR_débit_précip.xlsx\",\n",
    "    sheet = 4, # 1 = hastière, 2 = andenne, 3 = lixhe, 4 = tout\n",
    "    col_names = TRUE)\n",
    "data = subset(data, select = -c(date,B1,B2,B3,B4,B5,B6,B7,B8,B8A,B9,B11,B12))\n",
    "head(data,2)"
   ]
  },
  {
   "cell_type": "code",
   "execution_count": 78,
   "metadata": {},
   "outputs": [
    {
     "data": {
      "text/plain": [
       "\n",
       "Call:\n",
       "lm(formula = model, data = data)\n",
       "\n",
       "Residuals:\n",
       "     Min       1Q   Median       3Q      Max \n",
       "-0.88151 -0.21363  0.05925  0.22422  0.68869 \n",
       "\n",
       "Coefficients:\n",
       "                Estimate Std. Error t value Pr(>|t|)    \n",
       "(Intercept)    -0.259516   0.141952  -1.828  0.07036 .  \n",
       "log.Débit       0.486473   0.074925   6.493 2.86e-09 ***\n",
       "Précipitations  0.012099   0.003766   3.213  0.00175 ** \n",
       "---\n",
       "Signif. codes:  0 '***' 0.001 '**' 0.01 '*' 0.05 '.' 0.1 ' ' 1\n",
       "\n",
       "Residual standard error: 0.3233 on 105 degrees of freedom\n",
       "Multiple R-squared:  0.3286,\tAdjusted R-squared:  0.3158 \n",
       "F-statistic: 25.69 on 2 and 105 DF,  p-value: 8.276e-10\n"
      ]
     },
     "metadata": {},
     "output_type": "display_data"
    },
    {
     "data": {
      "text/html": [
       "0.101592920468086"
      ],
      "text/latex": [
       "0.101592920468086"
      ],
      "text/markdown": [
       "0.101592920468086"
      ],
      "text/plain": [
       "[1] 0.1015929"
      ]
     },
     "metadata": {},
     "output_type": "display_data"
    },
    {
     "data": {
      "text/html": [
       "78.2468539973463"
      ],
      "text/latex": [
       "78.2468539973463"
      ],
      "text/markdown": [
       "78.2468539973463"
      ],
      "text/plain": [
       "[1] 78.24685"
      ]
     },
     "metadata": {},
     "output_type": "display_data"
    },
    {
     "data": {
      "text/html": [
       "0.31873644358323"
      ],
      "text/latex": [
       "0.31873644358323"
      ],
      "text/markdown": [
       "0.31873644358323"
      ],
      "text/plain": [
       "[1] 0.3187364"
      ]
     },
     "metadata": {},
     "output_type": "display_data"
    },
    {
     "data": {
      "text/html": [
       "<table>\n",
       "<thead><tr><th></th><th scope=col>Df</th><th scope=col>Sum Sq</th><th scope=col>Mean Sq</th><th scope=col>F value</th><th scope=col>Pr(&gt;F)</th></tr></thead>\n",
       "<tbody>\n",
       "\t<tr><th scope=row>log.Débit</th><td>  1         </td><td> 4.290543   </td><td>4.2905427   </td><td>41.05956    </td><td>4.272186e-09</td></tr>\n",
       "\t<tr><th scope=row>Précipitations</th><td>  1         </td><td> 1.078525   </td><td>1.0785253   </td><td>10.32125    </td><td>1.746501e-03</td></tr>\n",
       "\t<tr><th scope=row>Residuals</th><td>105         </td><td>10.972035   </td><td>0.1044956   </td><td>      NA    </td><td>          NA</td></tr>\n",
       "</tbody>\n",
       "</table>\n"
      ],
      "text/latex": [
       "\\begin{tabular}{r|lllll}\n",
       "  & Df & Sum Sq & Mean Sq & F value & Pr(>F)\\\\\n",
       "\\hline\n",
       "\tlog.Débit &   1          &  4.290543    & 4.2905427    & 41.05956     & 4.272186e-09\\\\\n",
       "\tPrécipitations &   1          &  1.078525    & 1.0785253    & 10.32125     & 1.746501e-03\\\\\n",
       "\tResiduals & 105          & 10.972035    & 0.1044956    &       NA     &           NA\\\\\n",
       "\\end{tabular}\n"
      ],
      "text/markdown": [
       "\n",
       "| <!--/--> | Df | Sum Sq | Mean Sq | F value | Pr(>F) |\n",
       "|---|---|---|---|---|---|\n",
       "| log.Débit |   1          |  4.290543    | 4.2905427    | 41.05956     | 4.272186e-09 |\n",
       "| Précipitations |   1          |  1.078525    | 1.0785253    | 10.32125     | 1.746501e-03 |\n",
       "| Residuals | 105          | 10.972035    | 0.1044956    |       NA     |           NA |\n",
       "\n"
      ],
      "text/plain": [
       "               Df  Sum Sq    Mean Sq   F value  Pr(>F)      \n",
       "log.Débit        1  4.290543 4.2905427 41.05956 4.272186e-09\n",
       "Précipitations   1  1.078525 1.0785253 10.32125 1.746501e-03\n",
       "Residuals      105 10.972035 0.1044956       NA           NA"
      ]
     },
     "metadata": {},
     "output_type": "display_data"
    },
    {
     "data": {
      "text/html": [
       "<dl class=dl-horizontal>\n",
       "\t<dt>(Intercept)</dt>\n",
       "\t\t<dd>-0.25951574116587</dd>\n",
       "\t<dt>log.Débit</dt>\n",
       "\t\t<dd>0.486473053471684</dd>\n",
       "\t<dt>Précipitations</dt>\n",
       "\t\t<dd>0.0120987545562194</dd>\n",
       "</dl>\n"
      ],
      "text/latex": [
       "\\begin{description*}\n",
       "\\item[(Intercept)] -0.25951574116587\n",
       "\\item[log.Débit] 0.486473053471684\n",
       "\\item[Précipitations] 0.0120987545562194\n",
       "\\end{description*}\n"
      ],
      "text/markdown": [
       "(Intercept)\n",
       ":   -0.25951574116587log.Débit\n",
       ":   0.486473053471684Précipitations\n",
       ":   0.0120987545562194\n",
       "\n"
      ],
      "text/plain": [
       "   (Intercept)      log.Débit Précipitations \n",
       "   -0.25951574     0.48647305     0.01209875 "
      ]
     },
     "metadata": {},
     "output_type": "display_data"
    }
   ],
   "source": [
    "data$l.Turbidité <- log10(data$Turbidité)\n",
    "data$log.Débit <- log10(data$Débit)\n",
    "model <- l.Turbidité ~ log.Débit + Précipitations\n",
    "fit <- lm(model, data)\n",
    "summ <- summary(fit)\n",
    "summ\n",
    "mean(summ$residuals^2)\n",
    "BIC(fit)\n",
    "sqrt(mean(summ$residuals^2))\n",
    "anova(fit)\n",
    "coefficients(fit)"
   ]
  },
  {
   "cell_type": "code",
   "execution_count": 79,
   "metadata": {},
   "outputs": [
    {
     "data": {
      "image/png": "[encoded data removed]",
      "text/plain": [
       "Plot with title \"Scénario 4 - Stations groupées\""
      ]
     },
     "metadata": {},
     "output_type": "display_data"
    }
   ],
   "source": [
    "ybis = 0.486473053471684*data$log.Débit + 0.0120987545562194 * data$Précipitations -0.25951574116587\n",
    "y = ybis\n",
    "x = data$l.Turbidité\n",
    "plot(x, y,\n",
    "  ylab=\"Log(turbidité estimée [NTU])\",\n",
    "  xlab=\"Log(turbidité observée [NTU])\",\n",
    "     main = \"Scénario 4 - Stations groupées\",\n",
    "    pch = 18)\n",
    "abline(lm(y ~ x), col=\"blue\")"
   ]
  },
  {
   "cell_type": "markdown",
   "metadata": {},
   "source": [
    "# Niveau 5 : réflectance de surface et débit"
   ]
  },
  {
   "cell_type": "code",
   "execution_count": 100,
   "metadata": {},
   "outputs": [
    {
     "data": {
      "text/html": [
       "<table>\n",
       "<thead><tr><th scope=col>date</th><th scope=col>Turbidité</th><th scope=col>B1</th><th scope=col>B2</th><th scope=col>B3</th><th scope=col>B4</th><th scope=col>B5</th><th scope=col>B6</th><th scope=col>B7</th><th scope=col>B8</th><th scope=col>B8A</th><th scope=col>B9</th><th scope=col>B11</th><th scope=col>B12</th><th scope=col>Débit</th></tr></thead>\n",
       "<tbody>\n",
       "\t<tr><td>2017-04-03</td><td>7.188     </td><td> 53.5     </td><td>174.5     </td><td>354.5     </td><td>231.5     </td><td>204.0     </td><td>110.5     </td><td>125.5     </td><td>132.0     </td><td>129       </td><td>103       </td><td>144.5     </td><td>101.0     </td><td>92.46     </td></tr>\n",
       "\t<tr><td>2017-05-26</td><td>2.969     </td><td>294.0     </td><td>228.5     </td><td>305.0     </td><td>193.5     </td><td>150.5     </td><td> 37.0     </td><td> 51.5     </td><td> 54.5     </td><td> 71       </td><td>190       </td><td>224.0     </td><td>182.5     </td><td>31.33     </td></tr>\n",
       "</tbody>\n",
       "</table>\n"
      ],
      "text/latex": [
       "\\begin{tabular}{r|lllllllllllllll}\n",
       " date & Turbidité & B1 & B2 & B3 & B4 & B5 & B6 & B7 & B8 & B8A & B9 & B11 & B12 & Débit\\\\\n",
       "\\hline\n",
       "\t 2017-04-03 & 7.188      &  53.5      & 174.5      & 354.5      & 231.5      & 204.0      & 110.5      & 125.5      & 132.0      & 129        & 103        & 144.5      & 101.0      & 92.46     \\\\\n",
       "\t 2017-05-26 & 2.969      & 294.0      & 228.5      & 305.0      & 193.5      & 150.5      &  37.0      &  51.5      &  54.5      &  71        & 190        & 224.0      & 182.5      & 31.33     \\\\\n",
       "\\end{tabular}\n"
      ],
      "text/markdown": [
       "\n",
       "| date | Turbidité | B1 | B2 | B3 | B4 | B5 | B6 | B7 | B8 | B8A | B9 | B11 | B12 | Débit |\n",
       "|---|---|---|---|---|---|---|---|---|---|---|---|---|---|---|\n",
       "| 2017-04-03 | 7.188      |  53.5      | 174.5      | 354.5      | 231.5      | 204.0      | 110.5      | 125.5      | 132.0      | 129        | 103        | 144.5      | 101.0      | 92.46      |\n",
       "| 2017-05-26 | 2.969      | 294.0      | 228.5      | 305.0      | 193.5      | 150.5      |  37.0      |  51.5      |  54.5      |  71        | 190        | 224.0      | 182.5      | 31.33      |\n",
       "\n"
      ],
      "text/plain": [
       "  date       Turbidité B1    B2    B3    B4    B5    B6    B7    B8    B8A B9 \n",
       "1 2017-04-03 7.188      53.5 174.5 354.5 231.5 204.0 110.5 125.5 132.0 129 103\n",
       "2 2017-05-26 2.969     294.0 228.5 305.0 193.5 150.5  37.0  51.5  54.5  71 190\n",
       "  B11   B12   Débit\n",
       "1 144.5 101.0 92.46\n",
       "2 224.0 182.5 31.33"
      ]
     },
     "metadata": {},
     "output_type": "display_data"
    }
   ],
   "source": [
    "library(readxl)\n",
    "data <- read_excel(\n",
    "    path = \"Desktop\\\\Memoire\\\\bases_de_donnees\\\\jeux_donnees\\\\v_SR_débit.xlsx\",\n",
    "    sheet = 4, # 1 = hastière, 2 = andenne, 3 = lixhe, 4 = tout\n",
    "    col_names = TRUE)\n",
    "head(data,2)"
   ]
  },
  {
   "cell_type": "code",
   "execution_count": 101,
   "metadata": {},
   "outputs": [],
   "source": [
    "data$log.Débit <- log10(data$Débit)"
   ]
  },
  {
   "cell_type": "code",
   "execution_count": 86,
   "metadata": {},
   "outputs": [],
   "source": [
    "#hastière\n",
    "data <- mutate(data,\n",
    "               P1 = 0.38 * B1 + 0.44 * B2 + 0.44 * B3 + 0.44 * B4 + 0.43 * B5 + 0.30 * log.Débit,\n",
    "               P2 = 0.40 * B1 + 0.20 * B2 - 0.01 * B3 - 0.04 * B4 + 0.10 * B5 - 0.89 * log.Débit,\n",
    "               P3 = - 0.82 * B1 + 0.19 * B2 + 0.32 * B3 + 0.26 * B4 + 0.15 * B5 - 0.32 * log.Débit,\n",
    "               P4 = 0.05 * B1 + 0.47 * B2 + 0.42 * B3 - 0.28 * B4 - 0.74 * B5 + 0.05 * log.Débit)"
   ]
  },
  {
   "cell_type": "code",
   "execution_count": 91,
   "metadata": {},
   "outputs": [],
   "source": [
    "#andenne\n",
    "data <- mutate(data,\n",
    "               P1 = -0.35 * B1 - 0.43 * B2 - 0.44 * B3 - 0.44 * B4 - 0.43 * B5 - 0.35 * log.Débit,\n",
    "               P2 = 0.71 * B1 + 0.15 * B2 - 0.04 * B3 - 0.11 * B4 - 0.02 * B5 - 0.68 * log.Débit,\n",
    "               P3 = 0.44 * B1 + 0.12 * B2 + 0.00 * B3 - 0.34 * B4 - 0.60 * B5 + 0.56 * log.Débit,\n",
    "               P4 = 0.42 * B1 - 0.78 * B2 - 0.22 * B3 + 0.18 * B4 + 0.28 * B5 + 0.25 * log.Débit)"
   ]
  },
  {
   "cell_type": "code",
   "execution_count": 97,
   "metadata": {},
   "outputs": [],
   "source": [
    "#lixhe\n",
    "data <- mutate(data,\n",
    "               P1 = -0.37 * B1 - 0.44 * B2 - 0.44 * B3 - 0.44 * B4 - 0.42 * B5 - 0.34 * log.Débit,\n",
    "               P2 = 0.59 * B1 + 0.15 * B2 - 0.03 * B3 - 0.77 * B4 + 0.07 * B5 - 0.79 * log.Débit,\n",
    "               P3 = 0.50 * B1 + 0.23 * B2 + 0.01 * B3 - 0.38 * B4 - 0.62 * B5 + 0.40 * log.Débit,\n",
    "               P4 = 0.47 * B1 - 0.46 * B2 - 0.59 * B3 + 0.07 * B4 + 0.36 * B5 + 0.31 * log.Débit)"
   ]
  },
  {
   "cell_type": "code",
   "execution_count": 102,
   "metadata": {},
   "outputs": [],
   "source": [
    "#tout\n",
    "data <- mutate(data,\n",
    "               P1 = 0.38 * B1 + 0.44 * B2 + 0.44 * B3 + 0.45 * B4 + 0.43 * B5 + 0.28 * log.Débit,\n",
    "               P2 = 0.47 * B1 + 0.13 * B2 + 0.03 * B3 - 0.06 * B4 + 0.03 * B5 - 0.87 * log.Débit,\n",
    "               P3 = - 0.68 * B1 - 0.10 * B2 + 0.08 * B3 + 0.35 * B4 + 0.51 * B5 - 0.38 * log.Débit,\n",
    "               P4 = 0.38 * B1 - 0.46 * B2 - 0.57 * B3 + 0.09 * B4 + 0.54 * B5 + 0.13 * log.Débit)"
   ]
  },
  {
   "cell_type": "code",
   "execution_count": 103,
   "metadata": {},
   "outputs": [
    {
     "data": {
      "text/plain": [
       "\n",
       "Call:\n",
       "lm(formula = model, data = data)\n",
       "\n",
       "Residuals:\n",
       "     Min       1Q   Median       3Q      Max \n",
       "-1.01334 -0.16544  0.03237  0.19442  0.75515 \n",
       "\n",
       "Coefficients:\n",
       "              Estimate Std. Error t value Pr(>|t|)    \n",
       "(Intercept)  0.2971781  0.0671027   4.429 2.35e-05 ***\n",
       "P1           0.0022844  0.0009856   2.318   0.0224 *  \n",
       "P2          -0.0065511  0.0033285  -1.968   0.0517 .  \n",
       "P3          -0.0013274  0.0015671  -0.847   0.3989    \n",
       "---\n",
       "Signif. codes:  0 '***' 0.001 '**' 0.01 '*' 0.05 '.' 0.1 ' ' 1\n",
       "\n",
       "Residual standard error: 0.3155 on 104 degrees of freedom\n",
       "Multiple R-squared:  0.3663,\tAdjusted R-squared:  0.348 \n",
       "F-statistic: 20.04 on 3 and 104 DF,  p-value: 2.512e-10\n"
      ]
     },
     "metadata": {},
     "output_type": "display_data"
    },
    {
     "data": {
      "text/html": [
       "0.0958816449348348"
      ],
      "text/latex": [
       "0.0958816449348348"
      ],
      "text/markdown": [
       "0.0958816449348348"
      ],
      "text/plain": [
       "[1] 0.09588164"
      ]
     },
     "metadata": {},
     "output_type": "display_data"
    },
    {
     "data": {
      "text/html": [
       "76.6801822627874"
      ],
      "text/latex": [
       "76.6801822627874"
      ],
      "text/markdown": [
       "76.6801822627874"
      ],
      "text/plain": [
       "[1] 76.68018"
      ]
     },
     "metadata": {},
     "output_type": "display_data"
    },
    {
     "data": {
      "text/html": [
       "0.30964761412747"
      ],
      "text/latex": [
       "0.30964761412747"
      ],
      "text/markdown": [
       "0.30964761412747"
      ],
      "text/plain": [
       "[1] 0.3096476"
      ]
     },
     "metadata": {},
     "output_type": "display_data"
    },
    {
     "data": {
      "text/html": [
       "<table>\n",
       "<thead><tr><th></th><th scope=col>Df</th><th scope=col>Sum Sq</th><th scope=col>Mean Sq</th><th scope=col>F value</th><th scope=col>Pr(&gt;F)</th></tr></thead>\n",
       "<tbody>\n",
       "\t<tr><th scope=row>P1</th><td>  1         </td><td> 3.98711508 </td><td>3.98711508  </td><td>40.0435782  </td><td>6.372992e-09</td></tr>\n",
       "\t<tr><th scope=row>P2</th><td>  1         </td><td> 1.92733768 </td><td>1.92733768  </td><td>19.3567267  </td><td>2.630447e-05</td></tr>\n",
       "\t<tr><th scope=row>P3</th><td>  1         </td><td> 0.07143305 </td><td>0.07143305  </td><td> 0.7174197  </td><td>3.989365e-01</td></tr>\n",
       "\t<tr><th scope=row>Residuals</th><td>104         </td><td>10.35521765 </td><td>0.09956940  </td><td>        NA  </td><td>          NA</td></tr>\n",
       "</tbody>\n",
       "</table>\n"
      ],
      "text/latex": [
       "\\begin{tabular}{r|lllll}\n",
       "  & Df & Sum Sq & Mean Sq & F value & Pr(>F)\\\\\n",
       "\\hline\n",
       "\tP1 &   1          &  3.98711508  & 3.98711508   & 40.0435782   & 6.372992e-09\\\\\n",
       "\tP2 &   1          &  1.92733768  & 1.92733768   & 19.3567267   & 2.630447e-05\\\\\n",
       "\tP3 &   1          &  0.07143305  & 0.07143305   &  0.7174197   & 3.989365e-01\\\\\n",
       "\tResiduals & 104          & 10.35521765  & 0.09956940   &         NA   &           NA\\\\\n",
       "\\end{tabular}\n"
      ],
      "text/markdown": [
       "\n",
       "| <!--/--> | Df | Sum Sq | Mean Sq | F value | Pr(>F) |\n",
       "|---|---|---|---|---|---|\n",
       "| P1 |   1          |  3.98711508  | 3.98711508   | 40.0435782   | 6.372992e-09 |\n",
       "| P2 |   1          |  1.92733768  | 1.92733768   | 19.3567267   | 2.630447e-05 |\n",
       "| P3 |   1          |  0.07143305  | 0.07143305   |  0.7174197   | 3.989365e-01 |\n",
       "| Residuals | 104          | 10.35521765  | 0.09956940   |         NA   |           NA |\n",
       "\n"
      ],
      "text/plain": [
       "          Df  Sum Sq      Mean Sq    F value    Pr(>F)      \n",
       "P1          1  3.98711508 3.98711508 40.0435782 6.372992e-09\n",
       "P2          1  1.92733768 1.92733768 19.3567267 2.630447e-05\n",
       "P3          1  0.07143305 0.07143305  0.7174197 3.989365e-01\n",
       "Residuals 104 10.35521765 0.09956940         NA           NA"
      ]
     },
     "metadata": {},
     "output_type": "display_data"
    },
    {
     "data": {
      "text/html": [
       "<dl class=dl-horizontal>\n",
       "\t<dt>(Intercept)</dt>\n",
       "\t\t<dd>0.297178113588762</dd>\n",
       "\t<dt>P1</dt>\n",
       "\t\t<dd>0.00228438686934449</dd>\n",
       "\t<dt>P2</dt>\n",
       "\t\t<dd>-0.00655105450762958</dd>\n",
       "\t<dt>P3</dt>\n",
       "\t\t<dd>-0.00132735238359448</dd>\n",
       "</dl>\n"
      ],
      "text/latex": [
       "\\begin{description*}\n",
       "\\item[(Intercept)] 0.297178113588762\n",
       "\\item[P1] 0.00228438686934449\n",
       "\\item[P2] -0.00655105450762958\n",
       "\\item[P3] -0.00132735238359448\n",
       "\\end{description*}\n"
      ],
      "text/markdown": [
       "(Intercept)\n",
       ":   0.297178113588762P1\n",
       ":   0.00228438686934449P2\n",
       ":   -0.00655105450762958P3\n",
       ":   -0.00132735238359448\n",
       "\n"
      ],
      "text/plain": [
       " (Intercept)           P1           P2           P3 \n",
       " 0.297178114  0.002284387 -0.006551055 -0.001327352 "
      ]
     },
     "metadata": {},
     "output_type": "display_data"
    }
   ],
   "source": [
    "data$l.Turbidité <- log10(data$Turbidité)\n",
    "model <- l.Turbidité ~ P1 + P2 + P3\n",
    "fit <- lm(model, data)\n",
    "summ <- summary(fit)\n",
    "summ\n",
    "mean(summ$residuals^2)\n",
    "BIC(fit)\n",
    "sqrt(mean(summ$residuals^2))\n",
    "anova(fit)\n",
    "coefficients(fit)"
   ]
  },
  {
   "cell_type": "code",
   "execution_count": 104,
   "metadata": {},
   "outputs": [
    {
     "data": {
      "image/png": "[encoded data removed]",
      "text/plain": [
       "Plot with title \"Scénario 5 - Stations groupées\""
      ]
     },
     "metadata": {},
     "output_type": "display_data"
    }
   ],
   "source": [
    "ybis = 0.00228438686934449*data$P1 -0.00655105450762958 * data$P2 -0.00132735238359448* data$P3 + 0.297178113588762\n",
    "y = ybis\n",
    "x = data$l.Turbidité\n",
    "plot(x, y,\n",
    "  ylab=\"Log(turbidité estimée [NTU])\",\n",
    "  xlab=\"Log(turbidité observée [NTU])\",\n",
    "     main = \"Scénario 5 - Stations groupées\",\n",
    "    pch = 18)\n",
    "abline(lm(y ~ x), col=\"blue\")"
   ]
  },
  {
   "cell_type": "markdown",
   "metadata": {},
   "source": [
    "# Niveau 6 : réflectance, débit et précipitations"
   ]
  },
  {
   "cell_type": "code",
   "execution_count": 121,
   "metadata": {},
   "outputs": [
    {
     "data": {
      "text/html": [
       "<table>\n",
       "<thead><tr><th scope=col>date</th><th scope=col>Turbidité</th><th scope=col>B1</th><th scope=col>B2</th><th scope=col>B3</th><th scope=col>B4</th><th scope=col>B5</th><th scope=col>B6</th><th scope=col>B7</th><th scope=col>B8</th><th scope=col>B8A</th><th scope=col>B9</th><th scope=col>B11</th><th scope=col>B12</th><th scope=col>Débit</th><th scope=col>Précipitations</th></tr></thead>\n",
       "<tbody>\n",
       "\t<tr><td>2017-04-03</td><td>7.188     </td><td> 53.5     </td><td>174.5     </td><td>354.5     </td><td>231.5     </td><td>204.0     </td><td>110.5     </td><td>125.5     </td><td>132.0     </td><td>129       </td><td>103       </td><td>144.5     </td><td>101.0     </td><td>92.46     </td><td>4.6       </td></tr>\n",
       "\t<tr><td>2017-05-26</td><td>2.969     </td><td>294.0     </td><td>228.5     </td><td>305.0     </td><td>193.5     </td><td>150.5     </td><td> 37.0     </td><td> 51.5     </td><td> 54.5     </td><td> 71       </td><td>190       </td><td>224.0     </td><td>182.5     </td><td>31.33     </td><td>0.0       </td></tr>\n",
       "</tbody>\n",
       "</table>\n"
      ],
      "text/latex": [
       "\\begin{tabular}{r|llllllllllllllll}\n",
       " date & Turbidité & B1 & B2 & B3 & B4 & B5 & B6 & B7 & B8 & B8A & B9 & B11 & B12 & Débit & Précipitations\\\\\n",
       "\\hline\n",
       "\t 2017-04-03 & 7.188      &  53.5      & 174.5      & 354.5      & 231.5      & 204.0      & 110.5      & 125.5      & 132.0      & 129        & 103        & 144.5      & 101.0      & 92.46      & 4.6       \\\\\n",
       "\t 2017-05-26 & 2.969      & 294.0      & 228.5      & 305.0      & 193.5      & 150.5      &  37.0      &  51.5      &  54.5      &  71        & 190        & 224.0      & 182.5      & 31.33      & 0.0       \\\\\n",
       "\\end{tabular}\n"
      ],
      "text/markdown": [
       "\n",
       "| date | Turbidité | B1 | B2 | B3 | B4 | B5 | B6 | B7 | B8 | B8A | B9 | B11 | B12 | Débit | Précipitations |\n",
       "|---|---|---|---|---|---|---|---|---|---|---|---|---|---|---|---|\n",
       "| 2017-04-03 | 7.188      |  53.5      | 174.5      | 354.5      | 231.5      | 204.0      | 110.5      | 125.5      | 132.0      | 129        | 103        | 144.5      | 101.0      | 92.46      | 4.6        |\n",
       "| 2017-05-26 | 2.969      | 294.0      | 228.5      | 305.0      | 193.5      | 150.5      |  37.0      |  51.5      |  54.5      |  71        | 190        | 224.0      | 182.5      | 31.33      | 0.0        |\n",
       "\n"
      ],
      "text/plain": [
       "  date       Turbidité B1    B2    B3    B4    B5    B6    B7    B8    B8A B9 \n",
       "1 2017-04-03 7.188      53.5 174.5 354.5 231.5 204.0 110.5 125.5 132.0 129 103\n",
       "2 2017-05-26 2.969     294.0 228.5 305.0 193.5 150.5  37.0  51.5  54.5  71 190\n",
       "  B11   B12   Débit Précipitations\n",
       "1 144.5 101.0 92.46 4.6           \n",
       "2 224.0 182.5 31.33 0.0           "
      ]
     },
     "metadata": {},
     "output_type": "display_data"
    }
   ],
   "source": [
    "library(readxl)\n",
    "data <- read_excel(\n",
    "    path = \"Desktop\\\\Memoire\\\\bases_de_donnees\\\\jeux_donnees\\\\vi_SR_débit_précip.xlsx\",\n",
    "    sheet = 4, # 1 = hastière, 2 = andenne, 3 = lixhe, 4 = tout\n",
    "    col_names = TRUE)\n",
    "head(data,2)"
   ]
  },
  {
   "cell_type": "code",
   "execution_count": 122,
   "metadata": {},
   "outputs": [],
   "source": [
    "data$log.Débit <- log10(data$Débit)"
   ]
  },
  {
   "cell_type": "code",
   "execution_count": 107,
   "metadata": {},
   "outputs": [],
   "source": [
    "#hastière\n",
    "data <- mutate(data,\n",
    "               P1 = 0.38*B1 + 0.44*B2 + 0.44*B3 + 0.44*B4 + 0.44*B5 + 0.30 * log.Débit - 0.02*Précipitations,\n",
    "               P2 = 0.23*B1 + 0.10*B2 + 0.01*B3 - 0.03*B4 + 0.04*B5 - 0.41 * log.Débit + 0.87*Précipitations,\n",
    "               P3 = -0.29*B1 - 0.18*B2 + 0.01*B3 + 0.00*B4 - 0.11*B5 + 0.80 * log.Débit + 0.48*Précipitations,\n",
    "               P4 = -0.83*B1 + 0.19*B2 + 0.33*B3 + 0.25*B4 + 0.14*B5 - 0.28 * log.Débit + 0.06*Précipitations,\n",
    "               P5 = 0.06*B1 + 0.47*B2 + 0.42*B3 - 0.23*B4 - 0.74*B5 + 0.04 * log.Débit - 0.03*Précipitations)"
   ]
  },
  {
   "cell_type": "code",
   "execution_count": 112,
   "metadata": {},
   "outputs": [],
   "source": [
    "#andenne\n",
    "data <- mutate(data,\n",
    "               P1 = - 0.35*B1 - 0.43*B2 - 0.44*B3 - 0.44*B4 - 0.42*B5 - 0.35 * log.Débit + 0.04*Précipitations,\n",
    "               P2 = 0.38*B1 + 0.10*B2 - 0.02*B3 - 0.14*B4 - 0.13*B5 - 0.24 * log.Débit - 0.87*Précipitations,\n",
    "               P3 = 0.52*B1 + 0.07*B2 - 0.05*B3 + 0.03*B4 + 0.16*B5 - 0.72 * log.Débit + 0.41*Précipitations,\n",
    "               P4 = -0.59*B1 - 0.04*B2 + 0.05*B3 + 0.30*B4 + 0.53*B5 - 0.45 * log.Débit - 0.26*Précipitations,\n",
    "               P5 = -0.33*B1 + 0.80*B2 + 0.21*B3 - 0.21*B4 - 0.35*B5 - 0.21 * log.Débit + 0.08*Précipitations)"
   ]
  },
  {
   "cell_type": "code",
   "execution_count": 117,
   "metadata": {},
   "outputs": [],
   "source": [
    "#lixhe\n",
    "data <- mutate(data,\n",
    "               P1 = - 0.37*B1 - 0.43*B2 - 0.43*B3 - 0.43*B4 - 0.42*B5 - 0.33 * log.Débit - 0.13*Précipitations,\n",
    "               P2 = 0.05*B1 + 0.07*B2 + 0.14*B3 - 0.01*B4 - 0.00*B5 + 0.07 * log.Débit - 0.98*Précipitations,\n",
    "               P3 = 0.59*B1 + 0.15*B2 - 0.03*B3 - 0.08*B4 + 0.07*B5 - 0.79 * log.Débit - 0.02*Précipitations,\n",
    "               P4 = -0.51*B1 - 0.22*B2 + 0.01*B3 + 0.38*B4 + 0.62*B5 - 0.41 * log.Débit - 0.07*Précipitations,\n",
    "               P5 = 0.47*B1 - 0.48*B2 - 0.56*B3 + 0.06*B4 + 0.38*B5 + 0.30 * log.Débit - 0.07*Précipitations)"
   ]
  },
  {
   "cell_type": "code",
   "execution_count": 123,
   "metadata": {},
   "outputs": [],
   "source": [
    "#tout\n",
    "data <- mutate(data,\n",
    "               P1 = 0.38*B1 + 0.44*B2 + 0.44*B3 + 0.46*B4 + 0.43*B5 + 0.28 * log.Débit + 0.04*Précipitations,\n",
    "               P2 = 0.08*B1 + 0.00*B2 - 0.03*B3 + 0.01*B4 + 0.03*B5 - 0.25 * log.Débit + 0.97*Précipitations,\n",
    "               P3 = -0.47*B1 - 0.14*B2 - 0.04*B3 + 0.07*B4 - 0.02*B5 + 0.83 * log.Débit + 0.25*Précipitations,\n",
    "               P4 = 0.68*B1 + 0.10*B2 - 0.09*B3 - 0.34*B4 - 0.50*B5 + 0.39 * log.Débit + 0.06*Précipitations,\n",
    "               P5 = -0.37*B1 + 0.46*B2 + 0.56*B3 - 0.09*B4 - 0.55*B5 - 0.12 * log.Débit + 0.04*Précipitations)"
   ]
  },
  {
   "cell_type": "code",
   "execution_count": 124,
   "metadata": {},
   "outputs": [
    {
     "data": {
      "text/plain": [
       "\n",
       "Call:\n",
       "lm(formula = model, data = data)\n",
       "\n",
       "Residuals:\n",
       "     Min       1Q   Median       3Q      Max \n",
       "-0.96002 -0.16185  0.00555  0.17674  0.71708 \n",
       "\n",
       "Coefficients:\n",
       "            Estimate Std. Error t value Pr(>|t|)    \n",
       "(Intercept) 0.256159   0.065657   3.901 0.000171 ***\n",
       "P1          0.003835   0.001091   3.514 0.000657 ***\n",
       "P2          0.007300   0.003179   2.296 0.023685 *  \n",
       "P3          0.012729   0.003762   3.384 0.001013 ** \n",
       "P4          0.003933   0.001784   2.205 0.029670 *  \n",
       "---\n",
       "Signif. codes:  0 '***' 0.001 '**' 0.01 '*' 0.05 '.' 0.1 ' ' 1\n",
       "\n",
       "Residual standard error: 0.3032 on 103 degrees of freedom\n",
       "Multiple R-squared:  0.4207,\tAdjusted R-squared:  0.3982 \n",
       "F-statistic:  18.7 on 4 and 103 DF,  p-value: 1.396e-11\n"
      ]
     },
     "metadata": {},
     "output_type": "display_data"
    },
    {
     "data": {
      "text/html": [
       "0.0876511672668756"
      ],
      "text/latex": [
       "0.0876511672668756"
      ],
      "text/markdown": [
       "0.0876511672668756"
      ],
      "text/plain": [
       "[1] 0.08765117"
      ]
     },
     "metadata": {},
     "output_type": "display_data"
    },
    {
     "data": {
      "text/html": [
       "71.6693526981838"
      ],
      "text/latex": [
       "71.6693526981838"
      ],
      "text/markdown": [
       "71.6693526981838"
      ],
      "text/plain": [
       "[1] 71.66935"
      ]
     },
     "metadata": {},
     "output_type": "display_data"
    },
    {
     "data": {
      "text/html": [
       "0.296059398207312"
      ],
      "text/latex": [
       "0.296059398207312"
      ],
      "text/markdown": [
       "0.296059398207312"
      ],
      "text/plain": [
       "[1] 0.2960594"
      ]
     },
     "metadata": {},
     "output_type": "display_data"
    },
    {
     "data": {
      "text/html": [
       "<table>\n",
       "<thead><tr><th></th><th scope=col>Df</th><th scope=col>Sum Sq</th><th scope=col>Mean Sq</th><th scope=col>F value</th><th scope=col>Pr(&gt;F)</th></tr></thead>\n",
       "<tbody>\n",
       "\t<tr><th scope=row>P1</th><td>  1         </td><td>3.997367062 </td><td>3.997367062 </td><td>43.49404453 </td><td>1.863141e-09</td></tr>\n",
       "\t<tr><th scope=row>P2</th><td>  1         </td><td>0.004868178 </td><td>0.004868178 </td><td> 0.05296906 </td><td>8.184316e-01</td></tr>\n",
       "\t<tr><th scope=row>P3</th><td>  1         </td><td>2.425646746 </td><td>2.425646746 </td><td>26.39266946 </td><td>1.326068e-06</td></tr>\n",
       "\t<tr><th scope=row>P4</th><td>  1         </td><td>0.446895401 </td><td>0.446895401 </td><td> 4.86252280 </td><td>2.966993e-02</td></tr>\n",
       "\t<tr><th scope=row>Residuals</th><td>103         </td><td>9.466326065 </td><td>0.091906078 </td><td>         NA </td><td>          NA</td></tr>\n",
       "</tbody>\n",
       "</table>\n"
      ],
      "text/latex": [
       "\\begin{tabular}{r|lllll}\n",
       "  & Df & Sum Sq & Mean Sq & F value & Pr(>F)\\\\\n",
       "\\hline\n",
       "\tP1 &   1          & 3.997367062  & 3.997367062  & 43.49404453  & 1.863141e-09\\\\\n",
       "\tP2 &   1          & 0.004868178  & 0.004868178  &  0.05296906  & 8.184316e-01\\\\\n",
       "\tP3 &   1          & 2.425646746  & 2.425646746  & 26.39266946  & 1.326068e-06\\\\\n",
       "\tP4 &   1          & 0.446895401  & 0.446895401  &  4.86252280  & 2.966993e-02\\\\\n",
       "\tResiduals & 103          & 9.466326065  & 0.091906078  &          NA  &           NA\\\\\n",
       "\\end{tabular}\n"
      ],
      "text/markdown": [
       "\n",
       "| <!--/--> | Df | Sum Sq | Mean Sq | F value | Pr(>F) |\n",
       "|---|---|---|---|---|---|\n",
       "| P1 |   1          | 3.997367062  | 3.997367062  | 43.49404453  | 1.863141e-09 |\n",
       "| P2 |   1          | 0.004868178  | 0.004868178  |  0.05296906  | 8.184316e-01 |\n",
       "| P3 |   1          | 2.425646746  | 2.425646746  | 26.39266946  | 1.326068e-06 |\n",
       "| P4 |   1          | 0.446895401  | 0.446895401  |  4.86252280  | 2.966993e-02 |\n",
       "| Residuals | 103          | 9.466326065  | 0.091906078  |          NA  |           NA |\n",
       "\n"
      ],
      "text/plain": [
       "          Df  Sum Sq      Mean Sq     F value     Pr(>F)      \n",
       "P1          1 3.997367062 3.997367062 43.49404453 1.863141e-09\n",
       "P2          1 0.004868178 0.004868178  0.05296906 8.184316e-01\n",
       "P3          1 2.425646746 2.425646746 26.39266946 1.326068e-06\n",
       "P4          1 0.446895401 0.446895401  4.86252280 2.966993e-02\n",
       "Residuals 103 9.466326065 0.091906078          NA           NA"
      ]
     },
     "metadata": {},
     "output_type": "display_data"
    },
    {
     "data": {
      "text/html": [
       "<dl class=dl-horizontal>\n",
       "\t<dt>(Intercept)</dt>\n",
       "\t\t<dd>0.256158718423494</dd>\n",
       "\t<dt>P1</dt>\n",
       "\t\t<dd>0.0038353463512362</dd>\n",
       "\t<dt>P2</dt>\n",
       "\t\t<dd>0.00730020690423467</dd>\n",
       "\t<dt>P3</dt>\n",
       "\t\t<dd>0.0127287954790126</dd>\n",
       "\t<dt>P4</dt>\n",
       "\t\t<dd>0.00393301040354699</dd>\n",
       "</dl>\n"
      ],
      "text/latex": [
       "\\begin{description*}\n",
       "\\item[(Intercept)] 0.256158718423494\n",
       "\\item[P1] 0.0038353463512362\n",
       "\\item[P2] 0.00730020690423467\n",
       "\\item[P3] 0.0127287954790126\n",
       "\\item[P4] 0.00393301040354699\n",
       "\\end{description*}\n"
      ],
      "text/markdown": [
       "(Intercept)\n",
       ":   0.256158718423494P1\n",
       ":   0.0038353463512362P2\n",
       ":   0.00730020690423467P3\n",
       ":   0.0127287954790126P4\n",
       ":   0.00393301040354699\n",
       "\n"
      ],
      "text/plain": [
       "(Intercept)          P1          P2          P3          P4 \n",
       "0.256158718 0.003835346 0.007300207 0.012728795 0.003933010 "
      ]
     },
     "metadata": {},
     "output_type": "display_data"
    }
   ],
   "source": [
    "data$l.Turbidité <- log10(data$Turbidité)\n",
    "model <- l.Turbidité ~ P1 + P2 + P3 + P4\n",
    "fit <- lm(model, data)\n",
    "summ <- summary(fit)\n",
    "summ\n",
    "mean(summ$residuals^2)\n",
    "BIC(fit)\n",
    "sqrt(mean(summ$residuals^2))\n",
    "anova(fit)\n",
    "coefficients(fit)"
   ]
  },
  {
   "cell_type": "code",
   "execution_count": 125,
   "metadata": {},
   "outputs": [
    {
     "data": {
      "text/html": [
       "<ol class=list-inline>\n",
       "\t<li>-0.98602279101468</li>\n",
       "\t<li>-1.69951076082127</li>\n",
       "\t<li>-0.992145624270987</li>\n",
       "\t<li>-1.8056303617516</li>\n",
       "\t<li>-2.88724532540136</li>\n",
       "\t<li>-1.8280829499553</li>\n",
       "\t<li>-2.1011961265275</li>\n",
       "\t<li>-4.43185097246152</li>\n",
       "\t<li>-3.64016831418432</li>\n",
       "\t<li>-4.18292966058275</li>\n",
       "\t<li>-5.95321700372287</li>\n",
       "\t<li>-2.43319722849339</li>\n",
       "\t<li>-3.15688347623102</li>\n",
       "\t<li>-1.75936142318735</li>\n",
       "\t<li>-2.3725575335037</li>\n",
       "\t<li>-3.11895856952143</li>\n",
       "\t<li>-2.90014065230918</li>\n",
       "\t<li>-4.29443299552387</li>\n",
       "\t<li>-1.87457568908074</li>\n",
       "\t<li>-3.5437771047789</li>\n",
       "\t<li>-1.97899606497595</li>\n",
       "\t<li>-1.83336108636573</li>\n",
       "\t<li>-1.83273363696023</li>\n",
       "\t<li>-2.19298039771763</li>\n",
       "\t<li>-2.6134459499358</li>\n",
       "\t<li>-4.09797067214258</li>\n",
       "\t<li>-2.13830632630384</li>\n",
       "\t<li>-2.44912446532459</li>\n",
       "\t<li>-1.60659539148786</li>\n",
       "\t<li>-1.83353141896158</li>\n",
       "\t<li>-1.9414790968064</li>\n",
       "\t<li>-1.77601810191829</li>\n",
       "\t<li>-1.78097069703976</li>\n",
       "\t<li>-1.95559100886971</li>\n",
       "\t<li>-1.59224039748163</li>\n",
       "\t<li>-0.472170728414181</li>\n",
       "\t<li>-1.91775317611715</li>\n",
       "\t<li>-1.95645552498717</li>\n",
       "\t<li>-0.220400997489575</li>\n",
       "\t<li>-0.0959231330925916</li>\n",
       "\t<li>-0.650823699992796</li>\n",
       "\t<li>-0.267809379929713</li>\n",
       "\t<li>-1.04079256585123</li>\n",
       "\t<li>-0.331655146340285</li>\n",
       "\t<li>-1.21779676536212</li>\n",
       "\t<li>-3.35100412705071</li>\n",
       "\t<li>-1.30124011355715</li>\n",
       "\t<li>-3.13260382498679</li>\n",
       "\t<li>-3.96301980687051</li>\n",
       "\t<li>-2.59452777470594</li>\n",
       "\t<li>-1.5653839014707</li>\n",
       "\t<li>-2.24057299739693</li>\n",
       "\t<li>-2.23411598129612</li>\n",
       "\t<li>-0.77217946139334</li>\n",
       "\t<li>-1.5358773920363</li>\n",
       "\t<li>-1.71291931968002</li>\n",
       "\t<li>-0.976031023696553</li>\n",
       "\t<li>-2.30332250787408</li>\n",
       "\t<li>-1.52859007473543</li>\n",
       "\t<li>-1.76218015708599</li>\n",
       "\t<li>-1.4271090137789</li>\n",
       "\t<li>-0.863758689033969</li>\n",
       "\t<li>-1.23902955559414</li>\n",
       "\t<li>-1.39462435463415</li>\n",
       "\t<li>-0.339495920218583</li>\n",
       "\t<li>-1.12762375893546</li>\n",
       "\t<li>-0.128983183857011</li>\n",
       "\t<li>-0.395547405841457</li>\n",
       "\t<li>-1.37867509897311</li>\n",
       "\t<li>-2.57424998416129</li>\n",
       "\t<li>-0.726808283558351</li>\n",
       "\t<li>-0.612880052764646</li>\n",
       "\t<li>-0.410758336973465</li>\n",
       "\t<li>-0.585530238498615</li>\n",
       "\t<li>-0.75298945431109</li>\n",
       "\t<li>-0.382267993867642</li>\n",
       "\t<li>-3.27788330694557</li>\n",
       "\t<li>-3.45839838804823</li>\n",
       "\t<li>-3.46162864731114</li>\n",
       "\t<li>-4.06757741577192</li>\n",
       "\t<li>-0.875646051043949</li>\n",
       "\t<li>-1.64985534481115</li>\n",
       "\t<li>-3.31225826309908</li>\n",
       "\t<li>-0.734697004758006</li>\n",
       "\t<li>-1.98555863434347</li>\n",
       "\t<li>-1.97465231964374</li>\n",
       "\t<li>-3.80784280263026</li>\n",
       "\t<li>-2.09008202782028</li>\n",
       "\t<li>-1.86303859511753</li>\n",
       "\t<li>-1.59852030310243</li>\n",
       "\t<li>-3.6818832578784</li>\n",
       "\t<li>-0.583754197891818</li>\n",
       "\t<li>-3.23595006895119</li>\n",
       "\t<li>-0.619450739606995</li>\n",
       "\t<li>-1.29827184836763</li>\n",
       "\t<li>-1.21419493379766</li>\n",
       "\t<li>-1.68605858744571</li>\n",
       "\t<li>-0.868611034447923</li>\n",
       "\t<li>-0.995332503257241</li>\n",
       "\t<li>-1.51390744767398</li>\n",
       "\t<li>-1.19755428707312</li>\n",
       "\t<li>-0.61748981016192</li>\n",
       "\t<li>-0.820055690097518</li>\n",
       "\t<li>-0.578391676502887</li>\n",
       "\t<li>-1.09527164627938</li>\n",
       "\t<li>-1.69490101720994</li>\n",
       "\t<li>-0.996207304033842</li>\n",
       "\t<li>0.0618870357565605</li>\n",
       "</ol>\n"
      ],
      "text/latex": [
       "\\begin{enumerate*}\n",
       "\\item -0.98602279101468\n",
       "\\item -1.69951076082127\n",
       "\\item -0.992145624270987\n",
       "\\item -1.8056303617516\n",
       "\\item -2.88724532540136\n",
       "\\item -1.8280829499553\n",
       "\\item -2.1011961265275\n",
       "\\item -4.43185097246152\n",
       "\\item -3.64016831418432\n",
       "\\item -4.18292966058275\n",
       "\\item -5.95321700372287\n",
       "\\item -2.43319722849339\n",
       "\\item -3.15688347623102\n",
       "\\item -1.75936142318735\n",
       "\\item -2.3725575335037\n",
       "\\item -3.11895856952143\n",
       "\\item -2.90014065230918\n",
       "\\item -4.29443299552387\n",
       "\\item -1.87457568908074\n",
       "\\item -3.5437771047789\n",
       "\\item -1.97899606497595\n",
       "\\item -1.83336108636573\n",
       "\\item -1.83273363696023\n",
       "\\item -2.19298039771763\n",
       "\\item -2.6134459499358\n",
       "\\item -4.09797067214258\n",
       "\\item -2.13830632630384\n",
       "\\item -2.44912446532459\n",
       "\\item -1.60659539148786\n",
       "\\item -1.83353141896158\n",
       "\\item -1.9414790968064\n",
       "\\item -1.77601810191829\n",
       "\\item -1.78097069703976\n",
       "\\item -1.95559100886971\n",
       "\\item -1.59224039748163\n",
       "\\item -0.472170728414181\n",
       "\\item -1.91775317611715\n",
       "\\item -1.95645552498717\n",
       "\\item -0.220400997489575\n",
       "\\item -0.0959231330925916\n",
       "\\item -0.650823699992796\n",
       "\\item -0.267809379929713\n",
       "\\item -1.04079256585123\n",
       "\\item -0.331655146340285\n",
       "\\item -1.21779676536212\n",
       "\\item -3.35100412705071\n",
       "\\item -1.30124011355715\n",
       "\\item -3.13260382498679\n",
       "\\item -3.96301980687051\n",
       "\\item -2.59452777470594\n",
       "\\item -1.5653839014707\n",
       "\\item -2.24057299739693\n",
       "\\item -2.23411598129612\n",
       "\\item -0.77217946139334\n",
       "\\item -1.5358773920363\n",
       "\\item -1.71291931968002\n",
       "\\item -0.976031023696553\n",
       "\\item -2.30332250787408\n",
       "\\item -1.52859007473543\n",
       "\\item -1.76218015708599\n",
       "\\item -1.4271090137789\n",
       "\\item -0.863758689033969\n",
       "\\item -1.23902955559414\n",
       "\\item -1.39462435463415\n",
       "\\item -0.339495920218583\n",
       "\\item -1.12762375893546\n",
       "\\item -0.128983183857011\n",
       "\\item -0.395547405841457\n",
       "\\item -1.37867509897311\n",
       "\\item -2.57424998416129\n",
       "\\item -0.726808283558351\n",
       "\\item -0.612880052764646\n",
       "\\item -0.410758336973465\n",
       "\\item -0.585530238498615\n",
       "\\item -0.75298945431109\n",
       "\\item -0.382267993867642\n",
       "\\item -3.27788330694557\n",
       "\\item -3.45839838804823\n",
       "\\item -3.46162864731114\n",
       "\\item -4.06757741577192\n",
       "\\item -0.875646051043949\n",
       "\\item -1.64985534481115\n",
       "\\item -3.31225826309908\n",
       "\\item -0.734697004758006\n",
       "\\item -1.98555863434347\n",
       "\\item -1.97465231964374\n",
       "\\item -3.80784280263026\n",
       "\\item -2.09008202782028\n",
       "\\item -1.86303859511753\n",
       "\\item -1.59852030310243\n",
       "\\item -3.6818832578784\n",
       "\\item -0.583754197891818\n",
       "\\item -3.23595006895119\n",
       "\\item -0.619450739606995\n",
       "\\item -1.29827184836763\n",
       "\\item -1.21419493379766\n",
       "\\item -1.68605858744571\n",
       "\\item -0.868611034447923\n",
       "\\item -0.995332503257241\n",
       "\\item -1.51390744767398\n",
       "\\item -1.19755428707312\n",
       "\\item -0.61748981016192\n",
       "\\item -0.820055690097518\n",
       "\\item -0.578391676502887\n",
       "\\item -1.09527164627938\n",
       "\\item -1.69490101720994\n",
       "\\item -0.996207304033842\n",
       "\\item 0.0618870357565605\n",
       "\\end{enumerate*}\n"
      ],
      "text/markdown": [
       "1. -0.98602279101468\n",
       "2. -1.69951076082127\n",
       "3. -0.992145624270987\n",
       "4. -1.8056303617516\n",
       "5. -2.88724532540136\n",
       "6. -1.8280829499553\n",
       "7. -2.1011961265275\n",
       "8. -4.43185097246152\n",
       "9. -3.64016831418432\n",
       "10. -4.18292966058275\n",
       "11. -5.95321700372287\n",
       "12. -2.43319722849339\n",
       "13. -3.15688347623102\n",
       "14. -1.75936142318735\n",
       "15. -2.3725575335037\n",
       "16. -3.11895856952143\n",
       "17. -2.90014065230918\n",
       "18. -4.29443299552387\n",
       "19. -1.87457568908074\n",
       "20. -3.5437771047789\n",
       "21. -1.97899606497595\n",
       "22. -1.83336108636573\n",
       "23. -1.83273363696023\n",
       "24. -2.19298039771763\n",
       "25. -2.6134459499358\n",
       "26. -4.09797067214258\n",
       "27. -2.13830632630384\n",
       "28. -2.44912446532459\n",
       "29. -1.60659539148786\n",
       "30. -1.83353141896158\n",
       "31. -1.9414790968064\n",
       "32. -1.77601810191829\n",
       "33. -1.78097069703976\n",
       "34. -1.95559100886971\n",
       "35. -1.59224039748163\n",
       "36. -0.472170728414181\n",
       "37. -1.91775317611715\n",
       "38. -1.95645552498717\n",
       "39. -0.220400997489575\n",
       "40. -0.0959231330925916\n",
       "41. -0.650823699992796\n",
       "42. -0.267809379929713\n",
       "43. -1.04079256585123\n",
       "44. -0.331655146340285\n",
       "45. -1.21779676536212\n",
       "46. -3.35100412705071\n",
       "47. -1.30124011355715\n",
       "48. -3.13260382498679\n",
       "49. -3.96301980687051\n",
       "50. -2.59452777470594\n",
       "51. -1.5653839014707\n",
       "52. -2.24057299739693\n",
       "53. -2.23411598129612\n",
       "54. -0.77217946139334\n",
       "55. -1.5358773920363\n",
       "56. -1.71291931968002\n",
       "57. -0.976031023696553\n",
       "58. -2.30332250787408\n",
       "59. -1.52859007473543\n",
       "60. -1.76218015708599\n",
       "61. -1.4271090137789\n",
       "62. -0.863758689033969\n",
       "63. -1.23902955559414\n",
       "64. -1.39462435463415\n",
       "65. -0.339495920218583\n",
       "66. -1.12762375893546\n",
       "67. -0.128983183857011\n",
       "68. -0.395547405841457\n",
       "69. -1.37867509897311\n",
       "70. -2.57424998416129\n",
       "71. -0.726808283558351\n",
       "72. -0.612880052764646\n",
       "73. -0.410758336973465\n",
       "74. -0.585530238498615\n",
       "75. -0.75298945431109\n",
       "76. -0.382267993867642\n",
       "77. -3.27788330694557\n",
       "78. -3.45839838804823\n",
       "79. -3.46162864731114\n",
       "80. -4.06757741577192\n",
       "81. -0.875646051043949\n",
       "82. -1.64985534481115\n",
       "83. -3.31225826309908\n",
       "84. -0.734697004758006\n",
       "85. -1.98555863434347\n",
       "86. -1.97465231964374\n",
       "87. -3.80784280263026\n",
       "88. -2.09008202782028\n",
       "89. -1.86303859511753\n",
       "90. -1.59852030310243\n",
       "91. -3.6818832578784\n",
       "92. -0.583754197891818\n",
       "93. -3.23595006895119\n",
       "94. -0.619450739606995\n",
       "95. -1.29827184836763\n",
       "96. -1.21419493379766\n",
       "97. -1.68605858744571\n",
       "98. -0.868611034447923\n",
       "99. -0.995332503257241\n",
       "100. -1.51390744767398\n",
       "101. -1.19755428707312\n",
       "102. -0.61748981016192\n",
       "103. -0.820055690097518\n",
       "104. -0.578391676502887\n",
       "105. -1.09527164627938\n",
       "106. -1.69490101720994\n",
       "107. -0.996207304033842\n",
       "108. 0.0618870357565605\n",
       "\n",
       "\n"
      ],
      "text/plain": [
       "  [1] -0.98602279 -1.69951076 -0.99214562 -1.80563036 -2.88724533 -1.82808295\n",
       "  [7] -2.10119613 -4.43185097 -3.64016831 -4.18292966 -5.95321700 -2.43319723\n",
       " [13] -3.15688348 -1.75936142 -2.37255753 -3.11895857 -2.90014065 -4.29443300\n",
       " [19] -1.87457569 -3.54377710 -1.97899606 -1.83336109 -1.83273364 -2.19298040\n",
       " [25] -2.61344595 -4.09797067 -2.13830633 -2.44912447 -1.60659539 -1.83353142\n",
       " [31] -1.94147910 -1.77601810 -1.78097070 -1.95559101 -1.59224040 -0.47217073\n",
       " [37] -1.91775318 -1.95645552 -0.22040100 -0.09592313 -0.65082370 -0.26780938\n",
       " [43] -1.04079257 -0.33165515 -1.21779677 -3.35100413 -1.30124011 -3.13260382\n",
       " [49] -3.96301981 -2.59452777 -1.56538390 -2.24057300 -2.23411598 -0.77217946\n",
       " [55] -1.53587739 -1.71291932 -0.97603102 -2.30332251 -1.52859007 -1.76218016\n",
       " [61] -1.42710901 -0.86375869 -1.23902956 -1.39462435 -0.33949592 -1.12762376\n",
       " [67] -0.12898318 -0.39554741 -1.37867510 -2.57424998 -0.72680828 -0.61288005\n",
       " [73] -0.41075834 -0.58553024 -0.75298945 -0.38226799 -3.27788331 -3.45839839\n",
       " [79] -3.46162865 -4.06757742 -0.87564605 -1.64985534 -3.31225826 -0.73469700\n",
       " [85] -1.98555863 -1.97465232 -3.80784280 -2.09008203 -1.86303860 -1.59852030\n",
       " [91] -3.68188326 -0.58375420 -3.23595007 -0.61945074 -1.29827185 -1.21419493\n",
       " [97] -1.68605859 -0.86861103 -0.99533250 -1.51390745 -1.19755429 -0.61748981\n",
       "[103] -0.82005569 -0.57839168 -1.09527165 -1.69490102 -0.99620730  0.06188704"
      ]
     },
     "metadata": {},
     "output_type": "display_data"
    },
    {
     "data": {
      "image/png": "[encoded data removed]",
      "text/plain": [
       "Plot with title \"Scénario 6 - Stations groupées\""
      ]
     },
     "metadata": {},
     "output_type": "display_data"
    }
   ],
   "source": [
    "ybis = 0.0038353463512362 *data$P1 + 0.00730020690423467 * data$P2 \n",
    "    + 0.0127287954790126 * data$P3 + 0.00393301040354699 * data$P4 + 0.256158718423494\n",
    "y = ybis\n",
    "x = data$l.Turbidité\n",
    "plot(x, y,\n",
    "  ylab=\"Log(turbidité estimée [NTU])\",\n",
    "  xlab=\"Log(turbidité observée [NTU])\",\n",
    "     main = \"Scénario 6 - Stations groupées\",\n",
    "    pch = 18)\n",
    "abline(lm(y ~ x), col=\"blue\")"
   ]
  },
  {
   "cell_type": "code",
   "execution_count": null,
   "metadata": {},
   "outputs": [],
   "source": []
  }
 ],
 "metadata": {
  "kernelspec": {
   "display_name": "R",
   "language": "R",
   "name": "ir"
  },
  "language_info": {
   "codemirror_mode": "r",
   "file_extension": ".r",
   "mimetype": "text/x-r-source",
   "name": "R",
   "pygments_lexer": "r",
   "version": "3.6.1"
  }
 },
 "nbformat": 4,
 "nbformat_minor": 4
}
