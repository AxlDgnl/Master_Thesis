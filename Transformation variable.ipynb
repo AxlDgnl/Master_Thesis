{
 "cells": [
  {
   "cell_type": "code",
   "execution_count": 1,
   "metadata": {},
   "outputs": [
    {
     "name": "stdout",
     "output_type": "stream",
     "text": [
      "package 'corrplot' successfully unpacked and MD5 sums checked\n",
      "\n",
      "The downloaded binary packages are in\n",
      "\tC:\\Users\\daxel\\AppData\\Local\\Temp\\Rtmpeowb9G\\downloaded_packages\n",
      "package 'PerformanceAnalytics' successfully unpacked and MD5 sums checked\n",
      "\n",
      "The downloaded binary packages are in\n",
      "\tC:\\Users\\daxel\\AppData\\Local\\Temp\\Rtmpeowb9G\\downloaded_packages\n"
     ]
    },
    {
     "name": "stderr",
     "output_type": "stream",
     "text": [
      "Warning message:\n",
      "\"package 'corrplot' was built under R version 3.6.3\"corrplot 0.84 loaded\n",
      "Warning message:\n",
      "\"package 'PerformanceAnalytics' was built under R version 3.6.3\"Loading required package: xts\n",
      "Loading required package: zoo\n",
      "\n",
      "Attaching package: 'zoo'\n",
      "\n",
      "The following objects are masked from 'package:base':\n",
      "\n",
      "    as.Date, as.Date.numeric\n",
      "\n",
      "Registered S3 method overwritten by 'xts':\n",
      "  method     from\n",
      "  as.zoo.xts zoo \n",
      "\n",
      "Attaching package: 'PerformanceAnalytics'\n",
      "\n",
      "The following object is masked from 'package:graphics':\n",
      "\n",
      "    legend\n",
      "\n",
      "Warning message:\n",
      "\"package 'ggplot2' was built under R version 3.6.3\""
     ]
    }
   ],
   "source": [
    "install.packages(\"corrplot\")\n",
    "install.packages(\"PerformanceAnalytics\")\n",
    "library(corrplot)\n",
    "library(\"PerformanceAnalytics\")\n",
    "library(ggplot2)"
   ]
  },
  {
   "cell_type": "markdown",
   "metadata": {},
   "source": [
    "# REFLECTANCE DE SURFACE"
   ]
  },
  {
   "cell_type": "code",
   "execution_count": 2,
   "metadata": {},
   "outputs": [
    {
     "data": {
      "text/html": [
       "<table>\n",
       "<thead><tr><th scope=col>date</th><th scope=col>Turbidité</th><th scope=col>B1</th><th scope=col>B2</th><th scope=col>B3</th><th scope=col>B4</th><th scope=col>B5</th><th scope=col>B6</th><th scope=col>B7</th><th scope=col>B8</th><th scope=col>B8A</th><th scope=col>B9</th><th scope=col>B11</th><th scope=col>B12</th></tr></thead>\n",
       "<tbody>\n",
       "\t<tr><td>2017-04-03</td><td>7.188     </td><td> 53.5     </td><td>174.5     </td><td>354.5     </td><td>231.5     </td><td>204.0     </td><td>110.5     </td><td>125.5     </td><td>132.0     </td><td>129       </td><td>103       </td><td>144.5     </td><td>101.0     </td></tr>\n",
       "\t<tr><td>2017-05-26</td><td>2.969     </td><td>294.0     </td><td>228.5     </td><td>305.0     </td><td>193.5     </td><td>150.5     </td><td> 37.0     </td><td> 51.5     </td><td> 54.5     </td><td> 71       </td><td>190       </td><td>224.0     </td><td>182.5     </td></tr>\n",
       "</tbody>\n",
       "</table>\n"
      ],
      "text/latex": [
       "\\begin{tabular}{r|llllllllllllll}\n",
       " date & Turbidité & B1 & B2 & B3 & B4 & B5 & B6 & B7 & B8 & B8A & B9 & B11 & B12\\\\\n",
       "\\hline\n",
       "\t 2017-04-03 & 7.188      &  53.5      & 174.5      & 354.5      & 231.5      & 204.0      & 110.5      & 125.5      & 132.0      & 129        & 103        & 144.5      & 101.0     \\\\\n",
       "\t 2017-05-26 & 2.969      & 294.0      & 228.5      & 305.0      & 193.5      & 150.5      &  37.0      &  51.5      &  54.5      &  71        & 190        & 224.0      & 182.5     \\\\\n",
       "\\end{tabular}\n"
      ],
      "text/markdown": [
       "\n",
       "| date | Turbidité | B1 | B2 | B3 | B4 | B5 | B6 | B7 | B8 | B8A | B9 | B11 | B12 |\n",
       "|---|---|---|---|---|---|---|---|---|---|---|---|---|---|\n",
       "| 2017-04-03 | 7.188      |  53.5      | 174.5      | 354.5      | 231.5      | 204.0      | 110.5      | 125.5      | 132.0      | 129        | 103        | 144.5      | 101.0      |\n",
       "| 2017-05-26 | 2.969      | 294.0      | 228.5      | 305.0      | 193.5      | 150.5      |  37.0      |  51.5      |  54.5      |  71        | 190        | 224.0      | 182.5      |\n",
       "\n"
      ],
      "text/plain": [
       "  date       Turbidité B1    B2    B3    B4    B5    B6    B7    B8    B8A B9 \n",
       "1 2017-04-03 7.188      53.5 174.5 354.5 231.5 204.0 110.5 125.5 132.0 129 103\n",
       "2 2017-05-26 2.969     294.0 228.5 305.0 193.5 150.5  37.0  51.5  54.5  71 190\n",
       "  B11   B12  \n",
       "1 144.5 101.0\n",
       "2 224.0 182.5"
      ]
     },
     "metadata": {},
     "output_type": "display_data"
    }
   ],
   "source": [
    "library(readxl)\n",
    "data <- read_excel(\n",
    "    path = \"Desktop\\\\Memoire\\\\bases_de_donnees\\\\jeux_donnees\\\\i_SR.xlsx\",\n",
    "    sheet = 4, \n",
    "    col_names = TRUE)\n",
    "head(data,2)"
   ]
  },
  {
   "cell_type": "markdown",
   "metadata": {},
   "source": [
    "# Vérification log"
   ]
  },
  {
   "cell_type": "code",
   "execution_count": 13,
   "metadata": {},
   "outputs": [
    {
     "data": {
      "text/plain": [
       "\n",
       "Call:\n",
       "lm(formula = model, data = dt)\n",
       "\n",
       "Residuals:\n",
       "    Min      1Q  Median      3Q     Max \n",
       "-54.224  -3.937  -1.046   1.637  78.974 \n",
       "\n",
       "Coefficients:\n",
       "            Estimate Std. Error t value Pr(>|t|)    \n",
       "(Intercept) 2.315560   0.271654   8.524   <2e-16 ***\n",
       "Débit       0.056040   0.001122  49.949   <2e-16 ***\n",
       "---\n",
       "Signif. codes:  0 '***' 0.001 '**' 0.01 '*' 0.05 '.' 0.1 ' ' 1\n",
       "\n",
       "Residual standard error: 12.46 on 3778 degrees of freedom\n",
       "Multiple R-squared:  0.3977,\tAdjusted R-squared:  0.3976 \n",
       "F-statistic:  2495 on 1 and 3778 DF,  p-value: < 2.2e-16\n"
      ]
     },
     "metadata": {},
     "output_type": "display_data"
    },
    {
     "data": {
      "text/html": [
       "155.231579267075"
      ],
      "text/latex": [
       "155.231579267075"
      ],
      "text/markdown": [
       "155.231579267075"
      ],
      "text/plain": [
       "[1] 155.2316"
      ]
     },
     "metadata": {},
     "output_type": "display_data"
    },
    {
     "data": {
      "text/html": [
       "29821.6780221567"
      ],
      "text/latex": [
       "29821.6780221567"
      ],
      "text/markdown": [
       "29821.6780221567"
      ],
      "text/plain": [
       "[1] 29821.68"
      ]
     },
     "metadata": {},
     "output_type": "display_data"
    },
    {
     "data": {
      "text/html": [
       "12.4591965738997"
      ],
      "text/latex": [
       "12.4591965738997"
      ],
      "text/markdown": [
       "12.4591965738997"
      ],
      "text/plain": [
       "[1] 12.4592"
      ]
     },
     "metadata": {},
     "output_type": "display_data"
    },
    {
     "data": {
      "text/plain": [
       "\n",
       "Call:\n",
       "lm(formula = modeln, data = dt)\n",
       "\n",
       "Residuals:\n",
       "     Min       1Q   Median       3Q      Max \n",
       "-2.48628 -0.47028  0.06216  0.50477  2.04174 \n",
       "\n",
       "Coefficients:\n",
       "            Estimate Std. Error t value Pr(>|t|)    \n",
       "(Intercept) -1.22247    0.05550  -22.02   <2e-16 ***\n",
       "l.débit      0.67415    0.01186   56.83   <2e-16 ***\n",
       "---\n",
       "Signif. codes:  0 '***' 0.001 '**' 0.01 '*' 0.05 '.' 0.1 ' ' 1\n",
       "\n",
       "Residual standard error: 0.7278 on 3778 degrees of freedom\n",
       "Multiple R-squared:  0.4608,\tAdjusted R-squared:  0.4607 \n",
       "F-statistic:  3229 on 1 and 3778 DF,  p-value: < 2.2e-16\n"
      ]
     },
     "metadata": {},
     "output_type": "display_data"
    },
    {
     "data": {
      "text/html": [
       "0.529442705647977"
      ],
      "text/latex": [
       "0.529442705647977"
      ],
      "text/markdown": [
       "0.529442705647977"
      ],
      "text/plain": [
       "[1] 0.5294427"
      ]
     },
     "metadata": {},
     "output_type": "display_data"
    },
    {
     "data": {
      "text/html": [
       "8348.07112256271"
      ],
      "text/latex": [
       "8348.07112256271"
      ],
      "text/markdown": [
       "8348.07112256271"
      ],
      "text/plain": [
       "[1] 8348.071"
      ]
     },
     "metadata": {},
     "output_type": "display_data"
    },
    {
     "data": {
      "text/html": [
       "0.727628136927083"
      ],
      "text/latex": [
       "0.727628136927083"
      ],
      "text/markdown": [
       "0.727628136927083"
      ],
      "text/plain": [
       "[1] 0.7276281"
      ]
     },
     "metadata": {},
     "output_type": "display_data"
    },
    {
     "data": {
      "text/plain": [
       "\n",
       "Call:\n",
       "lm(formula = modelog, data = dt)\n",
       "\n",
       "Residuals:\n",
       "    Min      1Q  Median      3Q     Max \n",
       "-1.0798 -0.2042  0.0270  0.2192  0.8867 \n",
       "\n",
       "Coefficients:\n",
       "            Estimate Std. Error t value Pr(>|t|)    \n",
       "(Intercept) -0.53091    0.02411  -22.02   <2e-16 ***\n",
       "log.débit    0.67415    0.01186   56.83   <2e-16 ***\n",
       "---\n",
       "Signif. codes:  0 '***' 0.001 '**' 0.01 '*' 0.05 '.' 0.1 ' ' 1\n",
       "\n",
       "Residual standard error: 0.3161 on 3778 degrees of freedom\n",
       "Multiple R-squared:  0.4608,\tAdjusted R-squared:  0.4607 \n",
       "F-statistic:  3229 on 1 and 3778 DF,  p-value: < 2.2e-16\n"
      ]
     },
     "metadata": {},
     "output_type": "display_data"
    },
    {
     "data": {
      "text/html": [
       "0.0998590871826854"
      ],
      "text/latex": [
       "0.0998590871826854"
      ],
      "text/markdown": [
       "0.0998590871826854"
      ],
      "text/plain": [
       "[1] 0.09985909"
      ]
     },
     "metadata": {},
     "output_type": "display_data"
    },
    {
     "data": {
      "text/html": [
       "2042.78583648817"
      ],
      "text/latex": [
       "2042.78583648817"
      ],
      "text/markdown": [
       "2042.78583648817"
      ],
      "text/plain": [
       "[1] 2042.786"
      ]
     },
     "metadata": {},
     "output_type": "display_data"
    },
    {
     "data": {
      "text/html": [
       "0.316004884744976"
      ],
      "text/latex": [
       "0.316004884744976"
      ],
      "text/markdown": [
       "0.316004884744976"
      ],
      "text/plain": [
       "[1] 0.3160049"
      ]
     },
     "metadata": {},
     "output_type": "display_data"
    }
   ],
   "source": [
    "model <- Turbidité ~ Débit\n",
    "fit <- lm(model, dt)\n",
    "summ3 <- summary(fit)\n",
    "summ3\n",
    "mean(summ3$residuals^2)\n",
    "BIC(fit)\n",
    "sqrt(mean(summ3$residuals^2))\n",
    "\n",
    "dt$l.turbi <- log(dt$Turbidité)\n",
    "dt$l.débit <- log(dt$Débit)\n",
    "modeln <- l.turbi ~ l.débit\n",
    "fitln <- lm(modeln, dt)\n",
    "summ4 <- summary(fitln)\n",
    "summ4\n",
    "mean(summ4$residuals^2)\n",
    "BIC(fitln)\n",
    "sqrt(mean(summ4$residuals^2))\n",
    "\n",
    "dt$log.turbi <- log10(dt$Turbidité)\n",
    "dt$log.débit <- log10(dt$Débit)\n",
    "modelog <- log.turbi ~ log.débit\n",
    "fitlog <- lm(modelog, dt)\n",
    "summ5 <- summary(fitlog)\n",
    "summ5\n",
    "mean(summ5$residuals^2)\n",
    "BIC(fitlog)\n",
    "sqrt(mean(summ5$residuals^2))"
   ]
  },
  {
   "cell_type": "code",
   "execution_count": 7,
   "metadata": {},
   "outputs": [
    {
     "data": {
      "image/png": "[encoded data removed]",
      "text/plain": [
       "Plot with title \"Graphique de normalité\""
      ]
     },
     "metadata": {},
     "output_type": "display_data"
    },
    {
     "data": {
      "image/png": "[encoded data removed]",
      "text/plain": [
       "Plot with title \"Graphique de normalité\""
      ]
     },
     "metadata": {},
     "output_type": "display_data"
    },
    {
     "data": {
      "image/png": "[encoded data removed]",
      "text/plain": [
       "Plot with title \"Graphique de normalité\""
      ]
     },
     "metadata": {},
     "output_type": "display_data"
    }
   ],
   "source": [
    "layout(matrix(c(1,1,2,3), 2, 2, byrow = TRUE))\n",
    "\n",
    "x = dt$Débit\n",
    "y = dt$Turbidité\n",
    "plot(x, y,\n",
    "  xlab=\"Débit\",\n",
    "  ylab=\"Turbidité\",\n",
    "    main=\"Régression linéaire\",\n",
    "    col=\"blue\", pch = 16)\n",
    "abline(lm(y ~ x))\n",
    "\n",
    "res <- resid(fit)\n",
    "plot(dt$Débit, res, \n",
    "    ylab=\"Résidus\", xlab=\"Débit\", \n",
    "    main=\"Graphique des résidus\",\n",
    "         col=\"blue\", pch = 16) \n",
    "abline(0, 0)\n",
    "\n",
    "stdres = rstandard(fit)\n",
    "qqnorm(stdres, \n",
    "    ylab=\"Résiduls normalisés\", \n",
    "    main=\"Graphique de normalité\",\n",
    "      col=\"blue\", pch = 16) \n",
    "qqline(stdres)\n",
    "\n",
    "############################## LOG TURBI ##############################\n",
    "\n",
    "layout(matrix(c(1,1,2,3), 2, 2, byrow = TRUE))\n",
    "\n",
    "x1 = dt$Débit\n",
    "y1 = dt$log.turbi\n",
    "plot(x1, y1,\n",
    "  xlab=\"Débit\",\n",
    "  ylab=\"Log de la turbidité\",\n",
    "    main=\"Régression linéaire\",\n",
    "    col=\"blue\", pch = 16)\n",
    "abline(lm(y1 ~ x1))\n",
    "\n",
    "res <- resid(fitlog)\n",
    "plot(dt$Débit, res, \n",
    "    ylab=\"Residus\", xlab=\"Débit\", \n",
    "    main=\"Graphique des résidus\",\n",
    "         col=\"blue\", pch = 16) \n",
    "abline(0, 0)\n",
    "\n",
    "stdres = rstandard(fitlog)\n",
    "qqnorm(stdres, \n",
    "    ylab=\"Résiduls normalisés\", \n",
    "    main=\"Graphique de normalité\",\n",
    "      col=\"blue\", pch = 16) \n",
    "qqline(stdres)\n",
    "\n",
    "############################## LOG TURBI ET LOG DEBIT ##############################\n",
    "\n",
    "layout(matrix(c(1,1,2,3), 2, 2, byrow = TRUE))\n",
    "\n",
    "x2 = dt$log.débit\n",
    "y2 = dt$log.turbi\n",
    "plot(x2, y2,\n",
    "  xlab=\"Log du débit\",\n",
    "  ylab=\"Log de la turbidité\",\n",
    "    main=\"Régression linéaire\",\n",
    "    col=\"blue\", pch = 16)\n",
    "abline(lm(y2 ~ x2))\n",
    "\n",
    "res <- resid(fitlog2)\n",
    "plot(dt$log.débit, res, \n",
    "    ylab=\"Residus\", xlab=\"Log du débit\", \n",
    "    main=\"Graphique des résidus\",\n",
    "         col=\"blue\", pch = 16) \n",
    "abline(0, 0)\n",
    "\n",
    "stdres = rstandard(fitlog2)\n",
    "qqnorm(stdres, \n",
    "    ylab=\"Résiduls normalisés\", \n",
    "    main=\"Graphique de normalité\",\n",
    "      col=\"blue\", pch = 16) \n",
    "qqline(stdres)"
   ]
  },
  {
   "cell_type": "markdown",
   "metadata": {},
   "source": [
    "# Normal"
   ]
  },
  {
   "cell_type": "code",
   "execution_count": 3,
   "metadata": {},
   "outputs": [
    {
     "data": {
      "text/plain": [
       "\n",
       "Call:\n",
       "lm(formula = model, data = data)\n",
       "\n",
       "Residuals:\n",
       "    Min      1Q  Median      3Q     Max \n",
       "-14.133  -3.769  -0.630   1.853  77.556 \n",
       "\n",
       "Coefficients:\n",
       "             Estimate Std. Error t value Pr(>|t|)    \n",
       "(Intercept) -2.584500   1.858593  -1.391    0.167    \n",
       "B4           0.037622   0.005828   6.456 3.32e-09 ***\n",
       "---\n",
       "Signif. codes:  0 '***' 0.001 '**' 0.01 '*' 0.05 '.' 0.1 ' ' 1\n",
       "\n",
       "Residual standard error: 9.812 on 106 degrees of freedom\n",
       "Multiple R-squared:  0.2822,\tAdjusted R-squared:  0.2754 \n",
       "F-statistic: 41.68 on 1 and 106 DF,  p-value: 3.32e-09\n"
      ]
     },
     "metadata": {},
     "output_type": "display_data"
    },
    {
     "data": {
      "text/html": [
       "94.4914917338509"
      ],
      "text/latex": [
       "94.4914917338509"
      ],
      "text/markdown": [
       "94.4914917338509"
      ],
      "text/plain": [
       "[1] 94.49149"
      ]
     },
     "metadata": {},
     "output_type": "display_data"
    },
    {
     "data": {
      "text/plain": [
       "\n",
       "Call:\n",
       "lm(formula = modelog, data = data)\n",
       "\n",
       "Residuals:\n",
       "     Min       1Q   Median       3Q      Max \n",
       "-1.02599 -0.15935  0.03635  0.17746  0.78242 \n",
       "\n",
       "Coefficients:\n",
       "             Estimate Std. Error t value Pr(>|t|)    \n",
       "(Intercept) 0.3174484  0.0612664   5.181 1.06e-06 ***\n",
       "B4          0.0013612  0.0001921   7.086 1.59e-10 ***\n",
       "---\n",
       "Signif. codes:  0 '***' 0.001 '**' 0.01 '*' 0.05 '.' 0.1 ' ' 1\n",
       "\n",
       "Residual standard error: 0.3234 on 106 degrees of freedom\n",
       "Multiple R-squared:  0.3214,\tAdjusted R-squared:  0.315 \n",
       "F-statistic:  50.2 on 1 and 106 DF,  p-value: 1.592e-10\n"
      ]
     },
     "metadata": {},
     "output_type": "display_data"
    },
    {
     "data": {
      "text/html": [
       "0.102675997621679"
      ],
      "text/latex": [
       "0.102675997621679"
      ],
      "text/markdown": [
       "0.102675997621679"
      ],
      "text/plain": [
       "[1] 0.102676"
      ]
     },
     "metadata": {},
     "output_type": "display_data"
    }
   ],
   "source": [
    "model <- Turbidité ~ B4\n",
    "fit <- lm(model, data)\n",
    "summ1 <- summary(fit)\n",
    "summ1\n",
    "mean(summ1$residuals^2)\n",
    "\n",
    "data$log.turbi <- log10(data$Turbidité)\n",
    "modelog <- log.turbi ~ B4\n",
    "fitlog <- lm(modelog, data)\n",
    "summ2 <- summary(fitlog)\n",
    "summ2\n",
    "mean(summ2$residuals^2)"
   ]
  },
  {
   "cell_type": "code",
   "execution_count": 4,
   "metadata": {},
   "outputs": [],
   "source": [
    "x = data$B4\n",
    "y = data$Turbidité\n",
    "#plot(x, y,\n",
    "#  xlab=\"B4\",\n",
    "#  ylab=\"Turbidité\",\n",
    "#    main=\"Régression linéaire\",\n",
    "#    col=\"blue\", pch = 16)\n",
    "#abline(lm(y ~ x))"
   ]
  },
  {
   "cell_type": "code",
   "execution_count": 4,
   "metadata": {},
   "outputs": [
    {
     "data": {
      "image/png": "[encoded data removed]",
      "text/plain": [
       "Plot with title \"Graphique de normalité\""
      ]
     },
     "metadata": {},
     "output_type": "display_data"
    },
    {
     "data": {
      "image/png": "[encoded data removed]",
      "text/plain": [
       "Plot with title \"Graphique de normalité\""
      ]
     },
     "metadata": {},
     "output_type": "display_data"
    }
   ],
   "source": [
    "layout(matrix(c(1,1,2,3), 2, 2, byrow = TRUE))\n",
    "\n",
    "x = data$B4\n",
    "y = data$Turbidité\n",
    "plot(x, y,\n",
    "  xlab=\"B4\",\n",
    "  ylab=\"Turbidité\",\n",
    "    main=\"Régression linéaire\",\n",
    "    col=\"blue\", pch = 16)\n",
    "abline(lm(y ~ x))\n",
    "\n",
    "res <- resid(fit)\n",
    "plot(data$B4, res, \n",
    "    ylab=\"Residus\", xlab=\"B4\", \n",
    "    main=\"Graphique des résidus\",\n",
    "         col=\"blue\", pch = 16) \n",
    "abline(0, 0)\n",
    "\n",
    "stdres = rstandard(fit)\n",
    "qqnorm(stdres, \n",
    "    ylab=\"Résiduls normalisés\", \n",
    "    main=\"Graphique de normalité\",\n",
    "      col=\"blue\", pch = 16) \n",
    "qqline(stdres)\n",
    "\n",
    "##############################\n",
    "\n",
    "layout(matrix(c(1,1,2,3), 2, 2, byrow = TRUE))\n",
    "\n",
    "x1 = data$B4\n",
    "y1 = data$log.turbi\n",
    "plot(x1, y1,\n",
    "  xlab=\"B4\",\n",
    "  ylab=\"Log de la turbidité\",\n",
    "    main=\"Régression linéaire\",\n",
    "    col=\"blue\", pch = 16)\n",
    "abline(lm(y1 ~ x1))\n",
    "\n",
    "res <- resid(fitlog)\n",
    "p <- plot(data$B4, res, \n",
    "    ylab=\"Residus\", xlab=\"B4\", \n",
    "    main=\"Graphique des résidus\",\n",
    "         col=\"blue\", pch = 16) \n",
    "abline(0, 0)\n",
    "\n",
    "stdres = rstandard(fitlog)\n",
    "qqnorm(stdres, \n",
    "    ylab=\"Résiduls normalisés\", \n",
    "    main=\"Graphique de normalité\",\n",
    "      col=\"blue\", pch = 16) \n",
    "qqline(stdres)"
   ]
  },
  {
   "cell_type": "markdown",
   "metadata": {},
   "source": [
    "# DEBIT"
   ]
  },
  {
   "cell_type": "code",
   "execution_count": 5,
   "metadata": {},
   "outputs": [
    {
     "data": {
      "text/html": [
       "<table>\n",
       "<thead><tr><th scope=col>Date</th><th scope=col>Turbidité</th><th scope=col>Débit</th></tr></thead>\n",
       "<tbody>\n",
       "\t<tr><td>2015-01-01</td><td>19.08642  </td><td>255.50    </td></tr>\n",
       "\t<tr><td>2015-01-02</td><td>18.84742  </td><td>249.09    </td></tr>\n",
       "</tbody>\n",
       "</table>\n"
      ],
      "text/latex": [
       "\\begin{tabular}{r|lll}\n",
       " Date & Turbidité & Débit\\\\\n",
       "\\hline\n",
       "\t 2015-01-01 & 19.08642   & 255.50    \\\\\n",
       "\t 2015-01-02 & 18.84742   & 249.09    \\\\\n",
       "\\end{tabular}\n"
      ],
      "text/markdown": [
       "\n",
       "| Date | Turbidité | Débit |\n",
       "|---|---|---|\n",
       "| 2015-01-01 | 19.08642   | 255.50     |\n",
       "| 2015-01-02 | 18.84742   | 249.09     |\n",
       "\n"
      ],
      "text/plain": [
       "  Date       Turbidité Débit \n",
       "1 2015-01-01 19.08642  255.50\n",
       "2 2015-01-02 18.84742  249.09"
      ]
     },
     "metadata": {},
     "output_type": "display_data"
    }
   ],
   "source": [
    "library(readxl)\n",
    "dt <- read_excel(\n",
    "    path = \"Desktop\\\\Memoire\\\\bases_de_donnees\\\\jeux_donnees\\\\ii_débit.xlsx\",\n",
    "    sheet = 5, \n",
    "    col_names = TRUE)\n",
    "head(dt,2)"
   ]
  },
  {
   "cell_type": "code",
   "execution_count": 14,
   "metadata": {},
   "outputs": [
    {
     "data": {
      "text/plain": [
       "\n",
       "Call:\n",
       "lm(formula = model, data = dt)\n",
       "\n",
       "Residuals:\n",
       "    Min      1Q  Median      3Q     Max \n",
       "-54.224  -3.937  -1.046   1.637  78.974 \n",
       "\n",
       "Coefficients:\n",
       "            Estimate Std. Error t value Pr(>|t|)    \n",
       "(Intercept) 2.315560   0.271654   8.524   <2e-16 ***\n",
       "Débit       0.056040   0.001122  49.949   <2e-16 ***\n",
       "---\n",
       "Signif. codes:  0 '***' 0.001 '**' 0.01 '*' 0.05 '.' 0.1 ' ' 1\n",
       "\n",
       "Residual standard error: 12.46 on 3778 degrees of freedom\n",
       "Multiple R-squared:  0.3977,\tAdjusted R-squared:  0.3976 \n",
       "F-statistic:  2495 on 1 and 3778 DF,  p-value: < 2.2e-16\n"
      ]
     },
     "metadata": {},
     "output_type": "display_data"
    },
    {
     "data": {
      "text/html": [
       "155.231579267075"
      ],
      "text/latex": [
       "155.231579267075"
      ],
      "text/markdown": [
       "155.231579267075"
      ],
      "text/plain": [
       "[1] 155.2316"
      ]
     },
     "metadata": {},
     "output_type": "display_data"
    },
    {
     "data": {
      "text/plain": [
       "\n",
       "Call:\n",
       "lm(formula = modelog, data = dt)\n",
       "\n",
       "Residuals:\n",
       "     Min       1Q   Median       3Q      Max \n",
       "-1.33426 -0.20317  0.00046  0.21773  1.03912 \n",
       "\n",
       "Coefficients:\n",
       "             Estimate Std. Error t value Pr(>|t|)    \n",
       "(Intercept) 5.599e-01  7.175e-03   78.04   <2e-16 ***\n",
       "Débit       1.535e-03  2.963e-05   51.81   <2e-16 ***\n",
       "---\n",
       "Signif. codes:  0 '***' 0.001 '**' 0.01 '*' 0.05 '.' 0.1 ' ' 1\n",
       "\n",
       "Residual standard error: 0.3291 on 3778 degrees of freedom\n",
       "Multiple R-squared:  0.4154,\tAdjusted R-squared:  0.4152 \n",
       "F-statistic:  2684 on 1 and 3778 DF,  p-value: < 2.2e-16\n"
      ]
     },
     "metadata": {},
     "output_type": "display_data"
    },
    {
     "data": {
      "text/html": [
       "0.108278382408642"
      ],
      "text/latex": [
       "0.108278382408642"
      ],
      "text/markdown": [
       "0.108278382408642"
      ],
      "text/plain": [
       "[1] 0.1082784"
      ]
     },
     "metadata": {},
     "output_type": "display_data"
    },
    {
     "data": {
      "text/plain": [
       "\n",
       "Call:\n",
       "lm(formula = modelog2, data = dt)\n",
       "\n",
       "Residuals:\n",
       "     Min       1Q   Median       3Q      Max \n",
       "-1.33426 -0.20317  0.00046  0.21773  1.03912 \n",
       "\n",
       "Coefficients:\n",
       "             Estimate Std. Error t value Pr(>|t|)    \n",
       "(Intercept) 5.599e-01  7.175e-03   78.04   <2e-16 ***\n",
       "Débit       1.535e-03  2.963e-05   51.81   <2e-16 ***\n",
       "---\n",
       "Signif. codes:  0 '***' 0.001 '**' 0.01 '*' 0.05 '.' 0.1 ' ' 1\n",
       "\n",
       "Residual standard error: 0.3291 on 3778 degrees of freedom\n",
       "Multiple R-squared:  0.4154,\tAdjusted R-squared:  0.4152 \n",
       "F-statistic:  2684 on 1 and 3778 DF,  p-value: < 2.2e-16\n"
      ]
     },
     "metadata": {},
     "output_type": "display_data"
    },
    {
     "data": {
      "text/html": [
       "0.108278382408642"
      ],
      "text/latex": [
       "0.108278382408642"
      ],
      "text/markdown": [
       "0.108278382408642"
      ],
      "text/plain": [
       "[1] 0.1082784"
      ]
     },
     "metadata": {},
     "output_type": "display_data"
    }
   ],
   "source": [
    "model <- Turbidité ~ Débit\n",
    "fit <- lm(model, dt)\n",
    "summ3 <- summary(fit)\n",
    "summ3\n",
    "mean(summ3$residuals^2)\n",
    "\n",
    "dt$log.turbi <- log10(dt$Turbidité)\n",
    "modelog <- log.turbi ~ Débit\n",
    "fitlog <- lm(modelog, dt)\n",
    "summ4 <- summary(fitlog)\n",
    "summ4\n",
    "mean(summ4$residuals^2)\n",
    "\n",
    "dt$log.débit <- log10(dt$Débit)\n",
    "modelog2 <- log.turbi ~ Débit\n",
    "fitlog2 <- lm(modelog2, dt)\n",
    "summ5 <- summary(fitlog2)\n",
    "summ5\n",
    "mean(summ5$residuals^2)"
   ]
  },
  {
   "cell_type": "code",
   "execution_count": null,
   "metadata": {},
   "outputs": [],
   "source": []
  },
  {
   "cell_type": "code",
   "execution_count": 15,
   "metadata": {},
   "outputs": [
    {
     "data": {
      "image/png": "[encoded data removed]",
      "text/plain": [
       "Plot with title \"Graphique de normalité\""
      ]
     },
     "metadata": {},
     "output_type": "display_data"
    },
    {
     "data": {
      "image/png": "[encoded data removed]",
      "text/plain": [
       "Plot with title \"Graphique de normalité\""
      ]
     },
     "metadata": {},
     "output_type": "display_data"
    },
    {
     "data": {
      "image/png": "[encoded data removed]",
      "text/plain": [
       "Plot with title \"Graphique de normalité\""
      ]
     },
     "metadata": {},
     "output_type": "display_data"
    }
   ],
   "source": [
    "layout(matrix(c(1,1,2,3), 2, 2, byrow = TRUE))\n",
    "\n",
    "x = dt$Débit\n",
    "y = dt$Turbidité\n",
    "plot(x, y,\n",
    "  xlab=\"Débit\",\n",
    "  ylab=\"Turbidité\",\n",
    "    main=\"Régression linéaire\",\n",
    "    col=\"blue\", pch = 16)\n",
    "abline(lm(y ~ x))\n",
    "\n",
    "res <- resid(fit)\n",
    "plot(dt$Débit, res, \n",
    "    ylab=\"Résidus\", xlab=\"Débit\", \n",
    "    main=\"Graphique des résidus\",\n",
    "         col=\"blue\", pch = 16) \n",
    "abline(0, 0)\n",
    "\n",
    "stdres = rstandard(fit)\n",
    "qqnorm(stdres, \n",
    "    ylab=\"Résiduls normalisés\", \n",
    "    main=\"Graphique de normalité\",\n",
    "      col=\"blue\", pch = 16) \n",
    "qqline(stdres)\n",
    "\n",
    "############################## LOG TURBI ##############################\n",
    "\n",
    "layout(matrix(c(1,1,2,3), 2, 2, byrow = TRUE))\n",
    "\n",
    "x1 = dt$Débit\n",
    "y1 = dt$log.turbi\n",
    "plot(x1, y1,\n",
    "  xlab=\"Débit\",\n",
    "  ylab=\"Log de la turbidité\",\n",
    "    main=\"Régression linéaire\",\n",
    "    col=\"blue\", pch = 16)\n",
    "abline(lm(y1 ~ x1))\n",
    "\n",
    "res <- resid(fitlog)\n",
    "plot(dt$Débit, res, \n",
    "    ylab=\"Residus\", xlab=\"Débit\", \n",
    "    main=\"Graphique des résidus\",\n",
    "         col=\"blue\", pch = 16) \n",
    "abline(0, 0)\n",
    "\n",
    "stdres = rstandard(fitlog)\n",
    "qqnorm(stdres, \n",
    "    ylab=\"Résiduls normalisés\", \n",
    "    main=\"Graphique de normalité\",\n",
    "      col=\"blue\", pch = 16) \n",
    "qqline(stdres)\n",
    "\n",
    "############################## LOG TURBI ET LOG DEBIT ##############################\n",
    "\n",
    "layout(matrix(c(1,1,2,3), 2, 2, byrow = TRUE))\n",
    "\n",
    "x2 = dt$log.débit\n",
    "y2 = dt$log.turbi\n",
    "plot(x2, y2,\n",
    "  xlab=\"Log du débit\",\n",
    "  ylab=\"Log de la turbidité\",\n",
    "    main=\"Régression linéaire\",\n",
    "    col=\"blue\", pch = 16)\n",
    "abline(lm(y2 ~ x2))\n",
    "\n",
    "res <- resid(fitlog2)\n",
    "plot(dt$log.débit, res, \n",
    "    ylab=\"Residus\", xlab=\"Log du débit\", \n",
    "    main=\"Graphique des résidus\",\n",
    "         col=\"blue\", pch = 16) \n",
    "abline(0, 0)\n",
    "\n",
    "stdres = rstandard(fitlog2)\n",
    "qqnorm(stdres, \n",
    "    ylab=\"Résiduls normalisés\", \n",
    "    main=\"Graphique de normalité\",\n",
    "      col=\"blue\", pch = 16) \n",
    "qqline(stdres)"
   ]
  },
  {
   "cell_type": "markdown",
   "metadata": {},
   "source": [
    "# Précipitations"
   ]
  },
  {
   "cell_type": "code",
   "execution_count": 16,
   "metadata": {},
   "outputs": [
    {
     "data": {
      "text/html": [
       "<table>\n",
       "<thead><tr><th scope=col>Date</th><th scope=col>Turbidité</th><th scope=col>Précip</th></tr></thead>\n",
       "<tbody>\n",
       "\t<tr><td>2015-01-01</td><td>19.08642  </td><td>3.5       </td></tr>\n",
       "\t<tr><td>2015-01-02</td><td>18.84742  </td><td>3.5       </td></tr>\n",
       "</tbody>\n",
       "</table>\n"
      ],
      "text/latex": [
       "\\begin{tabular}{r|lll}\n",
       " Date & Turbidité & Précip\\\\\n",
       "\\hline\n",
       "\t 2015-01-01 & 19.08642   & 3.5       \\\\\n",
       "\t 2015-01-02 & 18.84742   & 3.5       \\\\\n",
       "\\end{tabular}\n"
      ],
      "text/markdown": [
       "\n",
       "| Date | Turbidité | Précip |\n",
       "|---|---|---|\n",
       "| 2015-01-01 | 19.08642   | 3.5        |\n",
       "| 2015-01-02 | 18.84742   | 3.5        |\n",
       "\n"
      ],
      "text/plain": [
       "  Date       Turbidité Précip\n",
       "1 2015-01-01 19.08642  3.5   \n",
       "2 2015-01-02 18.84742  3.5   "
      ]
     },
     "metadata": {},
     "output_type": "display_data"
    }
   ],
   "source": [
    "library(readxl)\n",
    "df <- read_excel(\n",
    "    path = \"Desktop\\\\Memoire\\\\bases_de_donnees\\\\jeux_donnees\\\\iii_precip.xlsx\",\n",
    "    sheet = 5, \n",
    "    col_names = TRUE)\n",
    "head(df,2)"
   ]
  },
  {
   "cell_type": "code",
   "execution_count": 17,
   "metadata": {},
   "outputs": [
    {
     "data": {
      "text/plain": [
       "\n",
       "Call:\n",
       "lm(formula = modelp, data = df)\n",
       "\n",
       "Residuals:\n",
       "    Min      1Q  Median      3Q     Max \n",
       "-32.267  -7.119  -3.601   1.139  91.863 \n",
       "\n",
       "Coefficients:\n",
       "            Estimate Std. Error t value Pr(>|t|)    \n",
       "(Intercept)  6.48539    0.34124   19.01   <2e-16 ***\n",
       "Précip       0.51374    0.02269   22.64   <2e-16 ***\n",
       "---\n",
       "Signif. codes:  0 '***' 0.001 '**' 0.01 '*' 0.05 '.' 0.1 ' ' 1\n",
       "\n",
       "Residual standard error: 15.26 on 3621 degrees of freedom\n",
       "Multiple R-squared:  0.124,\tAdjusted R-squared:  0.1238 \n",
       "F-statistic: 512.5 on 1 and 3621 DF,  p-value: < 2.2e-16\n"
      ]
     },
     "metadata": {},
     "output_type": "display_data"
    },
    {
     "data": {
      "text/html": [
       "232.888678507524"
      ],
      "text/latex": [
       "232.888678507524"
      ],
      "text/markdown": [
       "232.888678507524"
      ],
      "text/plain": [
       "[1] 232.8887"
      ]
     },
     "metadata": {},
     "output_type": "display_data"
    },
    {
     "data": {
      "text/plain": [
       "\n",
       "Call:\n",
       "lm(formula = modelogp, data = df)\n",
       "\n",
       "Residuals:\n",
       "     Min       1Q   Median       3Q      Max \n",
       "-1.39289 -0.26942 -0.04815  0.24462  1.27695 \n",
       "\n",
       "Coefficients:\n",
       "            Estimate Std. Error t value Pr(>|t|)    \n",
       "(Intercept) 0.683197   0.009067   75.35   <2e-16 ***\n",
       "Précip      0.013499   0.000603   22.39   <2e-16 ***\n",
       "---\n",
       "Signif. codes:  0 '***' 0.001 '**' 0.01 '*' 0.05 '.' 0.1 ' ' 1\n",
       "\n",
       "Residual standard error: 0.4056 on 3621 degrees of freedom\n",
       "Multiple R-squared:  0.1216,\tAdjusted R-squared:  0.1213 \n",
       "F-statistic: 501.2 on 1 and 3621 DF,  p-value: < 2.2e-16\n"
      ]
     },
     "metadata": {},
     "output_type": "display_data"
    },
    {
     "data": {
      "text/html": [
       "0.164437432248827"
      ],
      "text/latex": [
       "0.164437432248827"
      ],
      "text/markdown": [
       "0.164437432248827"
      ],
      "text/plain": [
       "[1] 0.1644374"
      ]
     },
     "metadata": {},
     "output_type": "display_data"
    }
   ],
   "source": [
    "modelp <- Turbidité ~ Précip\n",
    "fitp <- lm(modelp, df)\n",
    "summ6 <- summary(fitp)\n",
    "summ6\n",
    "mean(summ6$residuals^2)\n",
    "\n",
    "df$log.turbi <- log10(df$Turbidité)\n",
    "modelogp <- log.turbi ~ Précip\n",
    "fitlogp <- lm(modelogp, df)\n",
    "summ7 <- summary(fitlogp)\n",
    "summ7\n",
    "mean(summ7$residuals^2)"
   ]
  },
  {
   "cell_type": "code",
   "execution_count": 18,
   "metadata": {},
   "outputs": [
    {
     "data": {
      "image/png": "[encoded data removed]",
      "text/plain": [
       "Plot with title \"Graphique de normalité\""
      ]
     },
     "metadata": {},
     "output_type": "display_data"
    },
    {
     "data": {
      "image/png": "[encoded data removed]",
      "text/plain": [
       "Plot with title \"Graphique de normalité\""
      ]
     },
     "metadata": {},
     "output_type": "display_data"
    }
   ],
   "source": [
    "layout(matrix(c(1,1,2,3), 2, 2, byrow = TRUE))\n",
    "\n",
    "x = df$Précip\n",
    "y = df$Turbidité\n",
    "plot(x, y,\n",
    "  xlab=\"Précipitations\",\n",
    "  ylab=\"Turbidité\",\n",
    "    main=\"Régression linéaire\",\n",
    "    col=\"blue\", pch = 16)\n",
    "abline(lm(y ~ x))\n",
    "\n",
    "resp <- resid(fitp)\n",
    "plot(df$Précip, resp, \n",
    "    ylab=\"Residus\", xlab=\"Précipitations\", \n",
    "    main=\"Graphique des résidus\",\n",
    "    col=\"blue\", pch = 16) \n",
    "abline(0, 0)\n",
    "\n",
    "stdresp = rstandard(fitp)\n",
    "qqnorm(stdresp, \n",
    "    ylab=\"Résiduls normalisés\", \n",
    "    main=\"Graphique de normalité\",\n",
    "      col=\"blue\", pch = 16) \n",
    "qqline(stdresp)\n",
    "\n",
    "##############################\n",
    "\n",
    "layout(matrix(c(1,1,2,3), 2, 2, byrow = TRUE))\n",
    "\n",
    "x1 = df$Précip\n",
    "y1 = df$log.turbi\n",
    "plot(x1, y1,\n",
    "  xlab=\"Précipitations\",\n",
    "  ylab=\"Log de la turbidité\",\n",
    "    main=\"Régression linéaire\",\n",
    "    col=\"blue\", pch = 16)\n",
    "abline(lm(y1 ~ x1))\n",
    "\n",
    "resplog <- resid(fitlogp)\n",
    "plot(df$Précip, resplog, \n",
    "    ylab=\"Residus\", xlab=\"Précipitations\", \n",
    "    main=\"Graphique des résidus\",\n",
    "    col=\"blue\", pch = 16) \n",
    "abline(0, 0)\n",
    "\n",
    "stdrespl = rstandard(fitlogp)\n",
    "qqnorm(stdrespl, \n",
    "    ylab=\"Résiduls normalisés\", \n",
    "    main=\"Graphique de normalité\",\n",
    "      col=\"blue\", pch = 16) \n",
    "qqline(stdrespl)"
   ]
  },
  {
   "cell_type": "code",
   "execution_count": null,
   "metadata": {},
   "outputs": [],
   "source": []
  }
 ],
 "metadata": {
  "kernelspec": {
   "display_name": "R",
   "language": "R",
   "name": "ir"
  },
  "language_info": {
   "codemirror_mode": "r",
   "file_extension": ".r",
   "mimetype": "text/x-r-source",
   "name": "R",
   "pygments_lexer": "r",
   "version": "3.6.1"
  }
 },
 "nbformat": 4,
 "nbformat_minor": 4
}
